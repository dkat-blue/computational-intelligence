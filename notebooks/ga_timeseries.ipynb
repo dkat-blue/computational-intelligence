{
 "cells": [
  {
   "cell_type": "code",
   "execution_count": 1,
   "metadata": {},
   "outputs": [
    {
     "name": "stderr",
     "output_type": "stream",
     "text": [
      "2024-10-21 08:18:31.649450: I tensorflow/core/util/port.cc:153] oneDNN custom operations are on. You may see slightly different numerical results due to floating-point round-off errors from different computation orders. To turn them off, set the environment variable `TF_ENABLE_ONEDNN_OPTS=0`.\n",
      "2024-10-21 08:18:31.656456: E external/local_xla/xla/stream_executor/cuda/cuda_fft.cc:485] Unable to register cuFFT factory: Attempting to register factory for plugin cuFFT when one has already been registered\n",
      "2024-10-21 08:18:31.664481: E external/local_xla/xla/stream_executor/cuda/cuda_dnn.cc:8454] Unable to register cuDNN factory: Attempting to register factory for plugin cuDNN when one has already been registered\n",
      "2024-10-21 08:18:31.666682: E external/local_xla/xla/stream_executor/cuda/cuda_blas.cc:1452] Unable to register cuBLAS factory: Attempting to register factory for plugin cuBLAS when one has already been registered\n",
      "2024-10-21 08:18:31.673007: I tensorflow/core/platform/cpu_feature_guard.cc:210] This TensorFlow binary is optimized to use available CPU instructions in performance-critical operations.\n",
      "To enable the following instructions: AVX2 AVX512F AVX512_VNNI AVX512_BF16 FMA, in other operations, rebuild TensorFlow with the appropriate compiler flags.\n",
      "2024-10-21 08:18:32.125729: W tensorflow/compiler/tf2tensorrt/utils/py_utils.cc:38] TF-TRT Warning: Could not find TensorRT\n",
      "2024-10-21 08:18:32,445 - INFO - Random seeds set to 42\n",
      "2024-10-21 08:18:32,446 - INFO - Results directory created: /home/dkat/computational-intelligence/src/../results/20241021_081832\n"
     ]
    },
    {
     "name": "stdout",
     "output_type": "stream",
     "text": [
      "Results will be saved in: /home/dkat/computational-intelligence/src/../results/20241021_081832\n"
     ]
    }
   ],
   "source": [
    "import os\n",
    "import sys\n",
    "import numpy as np\n",
    "import pandas as pd\n",
    "import matplotlib.pyplot as plt\n",
    "\n",
    "# Add the parent directory to the Python path\n",
    "sys.path.append('..')\n",
    "\n",
    "from src.data import load_data\n",
    "from src.models import create_ga_model\n",
    "from src.genetic_algorithm import genetic_algorithm\n",
    "from src.utils import set_seeds, create_results_directory\n",
    "from src.visualization import plot_predictions, plot_fitness_history, plot_time_series_predictions\n",
    "\n",
    "# Set random seeds for reproducibility\n",
    "set_seeds(42)\n",
    "\n",
    "# Create a results directory\n",
    "results_dir = create_results_directory()\n",
    "print(f\"Results will be saved in: {results_dir}\")"
   ]
  },
  {
   "cell_type": "code",
   "execution_count": 2,
   "metadata": {},
   "outputs": [
    {
     "name": "stderr",
     "output_type": "stream",
     "text": [
      "2024-10-21 08:18:34,203 - INFO - Loading data from ../data/raw/Train.csv\n",
      "2024-10-21 08:18:34,275 - INFO - Train data shape: (140160, 12)\n",
      "2024-10-21 08:18:34,278 - INFO - Input columns: ['Temp_2m', 'RelHum_2m', 'DP_2m', 'WS_10m', 'WS_100m', 'WD_10m', 'WD_100m', 'WG_10m']\n",
      "2024-10-21 08:18:34,278 - INFO - Output column: Power\n",
      "2024-10-21 08:18:34,278 - INFO - Training set shape: (98112, 9)\n",
      "2024-10-21 08:18:34,279 - INFO - Validation set shape: (21024, 9)\n",
      "2024-10-21 08:18:34,279 - INFO - Test set shape: (21024, 9)\n",
      "2024-10-21 08:18:34,286 - INFO - Data scaling and sequence generation completed\n"
     ]
    },
    {
     "name": "stdout",
     "output_type": "stream",
     "text": [
      "Data sequences:\n",
      "Train sequences: 3066\n",
      "Validation sequences: 657\n",
      "Test sequences: 657\n",
      "Input shape: (12, 8)\n",
      "Output shape: (32, 1)\n"
     ]
    }
   ],
   "source": [
    "# Load the data using TimeseriesGenerator\n",
    "train_generator, val_generator, test_generator, scaler_X, scaler_y = load_data()\n",
    "\n",
    "# Print data sequences\n",
    "print(\"Data sequences:\")\n",
    "print(f\"Train sequences: {len(train_generator)}\")\n",
    "print(f\"Validation sequences: {len(val_generator)}\")\n",
    "print(f\"Test sequences: {len(test_generator)}\")\n",
    "\n",
    "# Get input shape from one batch\n",
    "x_batch, y_batch = train_generator[0]\n",
    "input_shape = x_batch.shape[1:]  # Exclude batch size dimension\n",
    "print(f\"Input shape: {input_shape}\")\n",
    "print(f\"Output shape: {y_batch.shape}\")"
   ]
  },
  {
   "cell_type": "code",
   "execution_count": 3,
   "metadata": {},
   "outputs": [
    {
     "name": "stderr",
     "output_type": "stream",
     "text": [
      "/home/dkat/computational-intelligence/venv/lib/python3.12/site-packages/keras/src/layers/core/input_layer.py:26: UserWarning: Argument `input_shape` is deprecated. Use `shape` instead.\n",
      "  warnings.warn(\n",
      "WARNING: All log messages before absl::InitializeLog() is called are written to STDERR\n",
      "I0000 00:00:1729498716.661525  267557 cuda_executor.cc:1001] could not open file to read NUMA node: /sys/bus/pci/devices/0000:01:00.0/numa_node\n",
      "Your kernel may have been built without NUMA support.\n",
      "I0000 00:00:1729498716.675005  267557 cuda_executor.cc:1001] could not open file to read NUMA node: /sys/bus/pci/devices/0000:01:00.0/numa_node\n",
      "Your kernel may have been built without NUMA support.\n",
      "I0000 00:00:1729498716.675037  267557 cuda_executor.cc:1001] could not open file to read NUMA node: /sys/bus/pci/devices/0000:01:00.0/numa_node\n",
      "Your kernel may have been built without NUMA support.\n",
      "I0000 00:00:1729498716.676545  267557 cuda_executor.cc:1001] could not open file to read NUMA node: /sys/bus/pci/devices/0000:01:00.0/numa_node\n",
      "Your kernel may have been built without NUMA support.\n",
      "I0000 00:00:1729498716.676567  267557 cuda_executor.cc:1001] could not open file to read NUMA node: /sys/bus/pci/devices/0000:01:00.0/numa_node\n",
      "Your kernel may have been built without NUMA support.\n",
      "I0000 00:00:1729498716.676578  267557 cuda_executor.cc:1001] could not open file to read NUMA node: /sys/bus/pci/devices/0000:01:00.0/numa_node\n",
      "Your kernel may have been built without NUMA support.\n",
      "I0000 00:00:1729498716.795912  267557 cuda_executor.cc:1001] could not open file to read NUMA node: /sys/bus/pci/devices/0000:01:00.0/numa_node\n",
      "Your kernel may have been built without NUMA support.\n",
      "I0000 00:00:1729498716.795950  267557 cuda_executor.cc:1001] could not open file to read NUMA node: /sys/bus/pci/devices/0000:01:00.0/numa_node\n",
      "Your kernel may have been built without NUMA support.\n",
      "2024-10-21 08:18:36.795958: I tensorflow/core/common_runtime/gpu/gpu_device.cc:2112] Could not identify NUMA node of platform GPU id 0, defaulting to 0.  Your kernel may not have been built with NUMA support.\n",
      "I0000 00:00:1729498716.795982  267557 cuda_executor.cc:1001] could not open file to read NUMA node: /sys/bus/pci/devices/0000:01:00.0/numa_node\n",
      "Your kernel may have been built without NUMA support.\n",
      "2024-10-21 08:18:36.795998: I tensorflow/core/common_runtime/gpu/gpu_device.cc:2021] Created device /job:localhost/replica:0/task:0/device:GPU:0 with 21770 MB memory:  -> device: 0, name: NVIDIA GeForce RTX 3090, pci bus id: 0000:01:00.0, compute capability: 8.6\n",
      "2024-10-21 08:18:37,670 - INFO - Created GA model with architecture: [256, 128, 64]\n"
     ]
    },
    {
     "data": {
      "text/html": [
       "<pre style=\"white-space:pre;overflow-x:auto;line-height:normal;font-family:Menlo,'DejaVu Sans Mono',consolas,'Courier New',monospace\"><span style=\"font-weight: bold\">Model: \"sequential\"</span>\n",
       "</pre>\n"
      ],
      "text/plain": [
       "\u001b[1mModel: \"sequential\"\u001b[0m\n"
      ]
     },
     "metadata": {},
     "output_type": "display_data"
    },
    {
     "data": {
      "text/html": [
       "<pre style=\"white-space:pre;overflow-x:auto;line-height:normal;font-family:Menlo,'DejaVu Sans Mono',consolas,'Courier New',monospace\">┏━━━━━━━━━━━━━━━━━━━━━━━━━━━━━━━━━┳━━━━━━━━━━━━━━━━━━━━━━━━┳━━━━━━━━━━━━━━━┓\n",
       "┃<span style=\"font-weight: bold\"> Layer (type)                    </span>┃<span style=\"font-weight: bold\"> Output Shape           </span>┃<span style=\"font-weight: bold\">       Param # </span>┃\n",
       "┡━━━━━━━━━━━━━━━━━━━━━━━━━━━━━━━━━╇━━━━━━━━━━━━━━━━━━━━━━━━╇━━━━━━━━━━━━━━━┩\n",
       "│ flatten (<span style=\"color: #0087ff; text-decoration-color: #0087ff\">Flatten</span>)               │ (<span style=\"color: #00d7ff; text-decoration-color: #00d7ff\">None</span>, <span style=\"color: #00af00; text-decoration-color: #00af00\">96</span>)             │             <span style=\"color: #00af00; text-decoration-color: #00af00\">0</span> │\n",
       "├─────────────────────────────────┼────────────────────────┼───────────────┤\n",
       "│ dense (<span style=\"color: #0087ff; text-decoration-color: #0087ff\">Dense</span>)                   │ (<span style=\"color: #00d7ff; text-decoration-color: #00d7ff\">None</span>, <span style=\"color: #00af00; text-decoration-color: #00af00\">256</span>)            │        <span style=\"color: #00af00; text-decoration-color: #00af00\">24,832</span> │\n",
       "├─────────────────────────────────┼────────────────────────┼───────────────┤\n",
       "│ dense_1 (<span style=\"color: #0087ff; text-decoration-color: #0087ff\">Dense</span>)                 │ (<span style=\"color: #00d7ff; text-decoration-color: #00d7ff\">None</span>, <span style=\"color: #00af00; text-decoration-color: #00af00\">128</span>)            │        <span style=\"color: #00af00; text-decoration-color: #00af00\">32,896</span> │\n",
       "├─────────────────────────────────┼────────────────────────┼───────────────┤\n",
       "│ dense_2 (<span style=\"color: #0087ff; text-decoration-color: #0087ff\">Dense</span>)                 │ (<span style=\"color: #00d7ff; text-decoration-color: #00d7ff\">None</span>, <span style=\"color: #00af00; text-decoration-color: #00af00\">64</span>)             │         <span style=\"color: #00af00; text-decoration-color: #00af00\">8,256</span> │\n",
       "├─────────────────────────────────┼────────────────────────┼───────────────┤\n",
       "│ dense_3 (<span style=\"color: #0087ff; text-decoration-color: #0087ff\">Dense</span>)                 │ (<span style=\"color: #00d7ff; text-decoration-color: #00d7ff\">None</span>, <span style=\"color: #00af00; text-decoration-color: #00af00\">1</span>)              │            <span style=\"color: #00af00; text-decoration-color: #00af00\">65</span> │\n",
       "└─────────────────────────────────┴────────────────────────┴───────────────┘\n",
       "</pre>\n"
      ],
      "text/plain": [
       "┏━━━━━━━━━━━━━━━━━━━━━━━━━━━━━━━━━┳━━━━━━━━━━━━━━━━━━━━━━━━┳━━━━━━━━━━━━━━━┓\n",
       "┃\u001b[1m \u001b[0m\u001b[1mLayer (type)                   \u001b[0m\u001b[1m \u001b[0m┃\u001b[1m \u001b[0m\u001b[1mOutput Shape          \u001b[0m\u001b[1m \u001b[0m┃\u001b[1m \u001b[0m\u001b[1m      Param #\u001b[0m\u001b[1m \u001b[0m┃\n",
       "┡━━━━━━━━━━━━━━━━━━━━━━━━━━━━━━━━━╇━━━━━━━━━━━━━━━━━━━━━━━━╇━━━━━━━━━━━━━━━┩\n",
       "│ flatten (\u001b[38;5;33mFlatten\u001b[0m)               │ (\u001b[38;5;45mNone\u001b[0m, \u001b[38;5;34m96\u001b[0m)             │             \u001b[38;5;34m0\u001b[0m │\n",
       "├─────────────────────────────────┼────────────────────────┼───────────────┤\n",
       "│ dense (\u001b[38;5;33mDense\u001b[0m)                   │ (\u001b[38;5;45mNone\u001b[0m, \u001b[38;5;34m256\u001b[0m)            │        \u001b[38;5;34m24,832\u001b[0m │\n",
       "├─────────────────────────────────┼────────────────────────┼───────────────┤\n",
       "│ dense_1 (\u001b[38;5;33mDense\u001b[0m)                 │ (\u001b[38;5;45mNone\u001b[0m, \u001b[38;5;34m128\u001b[0m)            │        \u001b[38;5;34m32,896\u001b[0m │\n",
       "├─────────────────────────────────┼────────────────────────┼───────────────┤\n",
       "│ dense_2 (\u001b[38;5;33mDense\u001b[0m)                 │ (\u001b[38;5;45mNone\u001b[0m, \u001b[38;5;34m64\u001b[0m)             │         \u001b[38;5;34m8,256\u001b[0m │\n",
       "├─────────────────────────────────┼────────────────────────┼───────────────┤\n",
       "│ dense_3 (\u001b[38;5;33mDense\u001b[0m)                 │ (\u001b[38;5;45mNone\u001b[0m, \u001b[38;5;34m1\u001b[0m)              │            \u001b[38;5;34m65\u001b[0m │\n",
       "└─────────────────────────────────┴────────────────────────┴───────────────┘\n"
      ]
     },
     "metadata": {},
     "output_type": "display_data"
    },
    {
     "data": {
      "text/html": [
       "<pre style=\"white-space:pre;overflow-x:auto;line-height:normal;font-family:Menlo,'DejaVu Sans Mono',consolas,'Courier New',monospace\"><span style=\"font-weight: bold\"> Total params: </span><span style=\"color: #00af00; text-decoration-color: #00af00\">66,049</span> (258.00 KB)\n",
       "</pre>\n"
      ],
      "text/plain": [
       "\u001b[1m Total params: \u001b[0m\u001b[38;5;34m66,049\u001b[0m (258.00 KB)\n"
      ]
     },
     "metadata": {},
     "output_type": "display_data"
    },
    {
     "data": {
      "text/html": [
       "<pre style=\"white-space:pre;overflow-x:auto;line-height:normal;font-family:Menlo,'DejaVu Sans Mono',consolas,'Courier New',monospace\"><span style=\"font-weight: bold\"> Trainable params: </span><span style=\"color: #00af00; text-decoration-color: #00af00\">66,049</span> (258.00 KB)\n",
       "</pre>\n"
      ],
      "text/plain": [
       "\u001b[1m Trainable params: \u001b[0m\u001b[38;5;34m66,049\u001b[0m (258.00 KB)\n"
      ]
     },
     "metadata": {},
     "output_type": "display_data"
    },
    {
     "data": {
      "text/html": [
       "<pre style=\"white-space:pre;overflow-x:auto;line-height:normal;font-family:Menlo,'DejaVu Sans Mono',consolas,'Courier New',monospace\"><span style=\"font-weight: bold\"> Non-trainable params: </span><span style=\"color: #00af00; text-decoration-color: #00af00\">0</span> (0.00 B)\n",
       "</pre>\n"
      ],
      "text/plain": [
       "\u001b[1m Non-trainable params: \u001b[0m\u001b[38;5;34m0\u001b[0m (0.00 B)\n"
      ]
     },
     "metadata": {},
     "output_type": "display_data"
    }
   ],
   "source": [
    "# Define model architecture\n",
    "layer_sizes = [256, 128, 64]\n",
    "\n",
    "# Create the model\n",
    "model = create_ga_model(input_shape, layer_sizes)\n",
    "model.summary()"
   ]
  },
  {
   "cell_type": "code",
   "execution_count": 4,
   "metadata": {},
   "outputs": [
    {
     "name": "stdout",
     "output_type": "stream",
     "text": [
      "Generation 0\n"
     ]
    },
    {
     "name": "stderr",
     "output_type": "stream",
     "text": [
      "WARNING: All log messages before absl::InitializeLog() is called are written to STDERR\n",
      "I0000 00:00:1729498720.387090  267696 service.cc:146] XLA service 0x7f3640016090 initialized for platform CUDA (this does not guarantee that XLA will be used). Devices:\n",
      "I0000 00:00:1729498720.387115  267696 service.cc:154]   StreamExecutor device (0): NVIDIA GeForce RTX 3090, Compute Capability 8.6\n",
      "2024-10-21 08:18:40.390459: I tensorflow/compiler/mlir/tensorflow/utils/dump_mlir_util.cc:268] disabling MLIR crash reproducer, set env var `MLIR_CRASH_REPRODUCER_DIRECTORY` to enable.\n",
      "2024-10-21 08:18:40.406988: I external/local_xla/xla/stream_executor/cuda/cuda_dnn.cc:531] Loaded cuDNN version 8907\n",
      "I0000 00:00:1729498721.028408  267696 device_compiler.h:188] Compiled cluster using XLA!  This line is logged at most once for the lifetime of the process.\n"
     ]
    },
    {
     "name": "stdout",
     "output_type": "stream",
     "text": [
      "Best fitness: 1.432694\n",
      "Generation 1\n",
      "Best fitness: 1.367672\n",
      "Generation 2\n",
      "Best fitness: 1.265302\n",
      "Generation 3\n",
      "Best fitness: 1.268553\n",
      "Generation 4\n",
      "Best fitness: 1.259705\n",
      "Generation 5\n",
      "Best fitness: 1.297379\n",
      "Generation 6\n",
      "Best fitness: 1.391866\n",
      "Generation 7\n",
      "Best fitness: 1.442668\n",
      "Generation 8\n",
      "Best fitness: 1.455039\n",
      "Generation 9\n",
      "Best fitness: 1.437023\n",
      "Generation 10\n",
      "Best fitness: 1.545541\n",
      "Generation 11\n",
      "Best fitness: 1.485692\n",
      "Generation 12\n",
      "Best fitness: 1.523307\n",
      "Generation 13\n",
      "Best fitness: 1.521673\n",
      "Generation 14\n",
      "Best fitness: 1.611616\n",
      "Generation 15\n",
      "Best fitness: 1.532432\n",
      "Generation 16\n",
      "Best fitness: 1.583427\n",
      "Generation 17\n",
      "Best fitness: 1.696445\n",
      "Generation 18\n",
      "Best fitness: 1.711934\n",
      "Generation 19\n",
      "Best fitness: 1.706090\n",
      "Generation 20\n",
      "Best fitness: 1.672283\n",
      "Generation 21\n",
      "Best fitness: 1.745882\n",
      "Generation 22\n",
      "Best fitness: 1.770400\n",
      "Generation 23\n",
      "Best fitness: 1.761394\n",
      "Generation 24\n",
      "Best fitness: 1.778328\n",
      "Generation 25\n",
      "Best fitness: 1.747232\n",
      "Generation 26\n",
      "Best fitness: 1.773901\n",
      "Generation 27\n",
      "Best fitness: 1.737228\n",
      "Generation 28\n",
      "Best fitness: 1.712121\n",
      "Generation 29\n",
      "Best fitness: 1.769491\n",
      "Generation 30\n",
      "Best fitness: 1.707527\n",
      "Generation 31\n",
      "Best fitness: 1.654986\n",
      "Generation 32\n",
      "Best fitness: 1.676383\n",
      "Generation 33\n",
      "Best fitness: 1.680022\n",
      "Generation 34\n",
      "Best fitness: 1.603995\n",
      "No improvement for 10 generations. Early stopping at generation 34.\n",
      "\u001b[1m657/657\u001b[0m \u001b[32m━━━━━━━━━━━━━━━━━━━━\u001b[0m\u001b[37m\u001b[0m \u001b[1m0s\u001b[0m 550us/step\n"
     ]
    },
    {
     "name": "stderr",
     "output_type": "stream",
     "text": [
      "2024-10-21 08:21:21,766 - INFO - Model weights saved to /home/dkat/computational-intelligence/src/../results/20241021_081832/best_model.weights.h5\n",
      "2024-10-21 08:21:21,766 - INFO - Evaluation metrics saved to /home/dkat/computational-intelligence/src/../results/20241021_081832/evaluation_metrics.txt\n"
     ]
    },
    {
     "name": "stdout",
     "output_type": "stream",
     "text": [
      "Test Loss (MSE): 0.396326\n",
      "Test RMSE: 0.1628\n",
      "Test R2 Score: 0.5075\n"
     ]
    }
   ],
   "source": [
    "# Set GA parameters\n",
    "ga_params = {\n",
    "    \"population_size\": 10,\n",
    "    \"generations\": 100,\n",
    "    \"tournament_size\": 3,\n",
    "    \"mutation_rate\": 0.01,\n",
    "    \"mutation_scale\": 0.15,\n",
    "    \"patience\": 10  # Early stopping patience\n",
    "}\n",
    "\n",
    "# Run Genetic Algorithm\n",
    "best_model, fitness_history, eval_results = genetic_algorithm(\n",
    "    model,\n",
    "    train_generator,\n",
    "    val_generator,\n",
    "    test_generator,\n",
    "    scaler_y,\n",
    "    results_dir=results_dir,\n",
    "    **ga_params\n",
    ")"
   ]
  },
  {
   "cell_type": "code",
   "execution_count": 5,
   "metadata": {},
   "outputs": [
    {
     "name": "stderr",
     "output_type": "stream",
     "text": [
      "2024-10-21 08:21:33,868 - WARNING - Seaborn style not found. Using default style.\n",
      "2024-10-21 08:21:33,870 - INFO - Plot style set\n",
      "2024-10-21 08:21:33,941 - INFO - Fitness history plot saved to /home/dkat/computational-intelligence/src/../results/20241021_081832/ga_fitness_history.png\n",
      "2024-10-21 08:21:33,941 - WARNING - Seaborn style not found. Using default style.\n",
      "2024-10-21 08:21:33,942 - INFO - Plot style set\n"
     ]
    },
    {
     "name": "stdout",
     "output_type": "stream",
     "text": [
      "\n",
      "Evaluation Results:\n",
      "Test MSE: 0.3963\n",
      "Test RMSE: 0.1628\n",
      "Test R2 Score: 0.5075\n"
     ]
    },
    {
     "name": "stderr",
     "output_type": "stream",
     "text": [
      "2024-10-21 08:21:34,442 - INFO - Predictions plot saved to /home/dkat/computational-intelligence/src/../results/20241021_081832/ga_predictions.png\n",
      "2024-10-21 08:21:34,442 - WARNING - Seaborn style not found. Using default style.\n",
      "2024-10-21 08:21:34,443 - INFO - Plot style set\n",
      "2024-10-21 08:21:34,628 - INFO - Time series predictions plot saved to /home/dkat/computational-intelligence/src/../results/20241021_081832/ga_time_series_predictions.png\n"
     ]
    }
   ],
   "source": [
    "# After training\n",
    "print(\"\\nEvaluation Results:\")\n",
    "print(f\"Test MSE: {eval_results['mse']:.4f}\")\n",
    "print(f\"Test RMSE: {eval_results['rmse']:.4f}\")\n",
    "print(f\"Test R2 Score: {eval_results['r2']:.4f}\")\n",
    "\n",
    "# Plot fitness history\n",
    "plot_fitness_history(fitness_history, save_path=os.path.join(results_dir, 'ga_fitness_history.png'))\n",
    "\n",
    "# Plot predictions\n",
    "plot_predictions(\n",
    "    eval_results['actual'],\n",
    "    eval_results['predictions'],\n",
    "    \"GA Model Predictions\",\n",
    "    save_path=os.path.join(results_dir, 'ga_predictions.png')\n",
    ")\n",
    "\n",
    "# Plot time series predictions\n",
    "plot_time_series_predictions(\n",
    "    eval_results['actual'],\n",
    "    eval_results['predictions'],\n",
    "    title=\"GA Model Time Series Predictions\",\n",
    "    save_path=os.path.join(results_dir, 'ga_time_series_predictions.png')\n",
    ")\n",
    "\n",
    "# Display the plots in the notebook\n",
    "plt.show()"
   ]
  }
 ],
 "metadata": {
  "kernelspec": {
   "display_name": "venv",
   "language": "python",
   "name": "python3"
  },
  "language_info": {
   "codemirror_mode": {
    "name": "ipython",
    "version": 3
   },
   "file_extension": ".py",
   "mimetype": "text/x-python",
   "name": "python",
   "nbconvert_exporter": "python",
   "pygments_lexer": "ipython3",
   "version": "3.12.3"
  }
 },
 "nbformat": 4,
 "nbformat_minor": 4
}
