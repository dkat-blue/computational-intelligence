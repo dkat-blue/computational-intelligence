{
 "cells": [
  {
   "cell_type": "markdown",
   "metadata": {},
   "source": [
    "# Comparison of SGD and GA Approaches for Wind Power Prediction\n",
    "\n",
    "This notebook compares the performance of Stochastic Gradient Descent (SGD) and Genetic Algorithm (GA) approaches for wind power prediction."
   ]
  },
  {
   "cell_type": "code",
   "execution_count": null,
   "metadata": {},
   "source": [
    "import os\n",
    "import sys\n",
    "import pandas as pd\n",
    "import matplotlib.pyplot as plt\n",
    "import seaborn as sns\n",
    "\n",
    "# Add the parent directory to the Python path\n",
    "sys.path.append('..')\n",
    "\n",
    "from src.utils import load_results"
   ]
  },
  {
   "cell_type": "markdown",
   "metadata": {},
   "source": [
    "## 1. Load Results"
   ]
  },
  {
   "cell_type": "code",
   "execution_count": null,
   "metadata": {},
   "source": [
    "# Specify the directories where results are saved\n",
    "sgd_results_dir = '../results/20241018_014324'\n",
    "ga_results_dir = '../results/[GA_RESULTS_DIRECTORY]'  # Replace with actual GA results directory\n",
    "\n",
    "# Load SGD results\n",
    "sgd_results = load_results(sgd_results_dir)\n",
    "print(\"SGD Results:\", sgd_results.keys())\n",
    "\n",
    "# Load GA results\n",
    "ga_results = load_results(ga_results_dir)\n",
    "print(\"GA Results:\", ga_results.keys())"
   ]
  },
  {
   "cell_type": "markdown",
   "metadata": {},
   "source": [
    "## 2. Compare Performance Metrics"
   ]
  },
  {
   "cell_type": "code",
   "execution_count": null,
   "metadata": {},
   "source": [
    "sgd_metrics = sgd_results['sgd_evaluation_metrics']\n",
    "ga_metrics = ga_results['ga_evaluation_metrics']  # Adjust key if necessary\n",
    "\n",
    "comparison_df = pd.DataFrame({\n",
    "    'SGD': sgd_metrics,\n",
    "    'GA': ga_metrics\n",
    "})\n",
    "\n",
    "print(\"Performance Comparison:\")\n",
    "print(comparison_df)\n",
    "\n",
    "# Bar plot of metrics\n",
    "comparison_df.plot(kind='bar', figsize=(10, 6))\n",
    "plt.title('Performance Metric Comparison: SGD vs GA')\n",
    "plt.ylabel('Metric Value')\n",
    "plt.legend(title='Method')\n",
    "plt.tight_layout()\n",
    "plt.show()"
   ]
  },
  {
   "cell_type": "markdown",
   "metadata": {},
   "source": [
    "## 3. Compare Training History"
   ]
  },
  {
   "cell_type": "code",
   "execution_count": null,
   "metadata": {},
   "source": [
    "# Display SGD training history\n",
    "sgd_history_img = plt.imread(sgd_results['sgd_training_history'])\n",
    "plt.figure(figsize=(12, 6))\n",
    "plt.imshow(sgd_history_img)\n",
    "plt.axis('off')\n",
    "plt.title('SGD Training History')\n",
    "plt.show()\n",
    "\n",
    "# Note: For GA, you would display the fitness history plot if available\n",
    "# ga_history_img = plt.imread(ga_results['ga_fitness_history'])\n",
    "# plt.figure(figsize=(12, 6))\n",
    "# plt.imshow(ga_history_img)\n",
    "# plt.axis('off')\n",
    "# plt.title('GA Fitness History')\n",
    "# plt.show()"
   ]
  },
  {
   "cell_type": "markdown",
   "metadata": {},
   "source": [
    "## 4. Compare Predictions"
   ]
  },
  {
   "cell_type": "code",
   "execution_count": null,
   "metadata": {},
   "source": [
    "# Display SGD predictions\n",
    "sgd_predictions_img = plt.imread(sgd_results['sgd_predictions'])\n",
    "plt.figure(figsize=(12, 6))\n",
    "plt.imshow(sgd_predictions_img)\n",
    "plt.axis('off')\n",
    "plt.title('SGD Predictions')\n",
    "plt.show()\n",
    "\n",
    "# Note: For GA, you would display the predictions plot if available\n",
    "# ga_predictions_img = plt.imread(ga_results['ga_predictions'])\n",
    "# plt.figure(figsize=(12, 6))\n",
    "# plt.imshow(ga_predictions_img)\n",
    "# plt.axis('off')\n",
    "# plt.title('GA Predictions')\n",
    "# plt.show()"
   ]
  },
  {
   "cell_type": "markdown",
   "metadata": {},
   "source": [
    "## 5. Compare Experiment Parameters"
   ]
  },
  {
   "cell_type": "code",
   "execution_count": null,
   "metadata": {},
   "source": [
    "print(\"SGD Experiment Parameters:\")\n",
    "print(sgd_results['sgd_experiment_params'])\n",
    "\n",
    "print(\"\\nGA Experiment Parameters:\")\n",
    "print(ga_results['ga_experiment_params'])  # Adjust key if necessary"
   ]
  },
  {
   "cell_type": "markdown",
   "metadata": {},
   "source": [
    "## 6. Conclusion\n",
    "\n",
    "Based on the comparisons above, we can draw the following conclusions:\n",
    "\n",
    "1. Performance Metrics: [Discuss which method performed better in terms of the available metrics]\n",
    "2. Training Progress: [Compare the training history of SGD with GA (if available)]\n",
    "3. Predictions: [Discuss any notable differences in the prediction patterns of SGD and GA (if available)]\n",
    "4. Experiment Parameters: [Compare the parameters used for each method and their potential impact on results]\n",
    "\n",
    "Overall, [summarize which method seems more suitable for this wind power prediction task and why]\n",
    "\n",
    "Further considerations:\n",
    "- Computational efficiency: [Discuss if one method was significantly faster or more resource-intensive, if this information is available]\n",
    "- Potential for improvement: [Suggest ways each method could be further optimized based on the results and parameters]"
   ]
  }
 ],
 "metadata": {
  "kernelspec": {
   "display_name": "Python 3",
   "language": "python",
   "name": "python3"
  },
  "language_info": {
   "codemirror_mode": {
    "name": "ipython",
    "version": 3
   },
   "file_extension": ".py",
   "mimetype": "text/x-python",
   "name": "python",
   "nbconvert_exporter": "python",
   "pygments_lexer": "ipython3",
   "version": "3.8.5"
  }
 },
 "nbformat": 4,
 "nbformat_minor": 4
}