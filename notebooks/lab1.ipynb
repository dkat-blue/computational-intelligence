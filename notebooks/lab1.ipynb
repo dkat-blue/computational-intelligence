{
 "cells": [
  {
   "cell_type": "code",
   "execution_count": null,
   "metadata": {},
   "outputs": [],
   "source": [
    "import sys\n",
    "import os\n",
    "import pandas as pd\n",
    "import matplotlib.pyplot as plt\n",
    "\n",
    "# Add the project root to the Python path to allow imports from other directories\n",
    "project_root = os.path.abspath(os.path.join(os.getcwd(), '..'))\n",
    "sys.path.append(project_root)\n",
    "\n",
    "# Add the data directory to the Python path\n",
    "data_dir = os.path.join(project_root, 'data')\n",
    "sys.path.append(data_dir)\n",
    "\n",
    "from data.loaders import load_raw_data, split_train_val_test\n",
    "from data.preprocessors import preprocess_data"
   ]
  },
  {
   "cell_type": "code",
   "execution_count": null,
   "metadata": {},
   "outputs": [],
   "source": [
    "# Define file paths\n",
    "train_file_path = os.path.join(data_dir, 'raw', 'Train.csv')\n",
    "\n",
    "# Load the raw data\n",
    "train_data = load_raw_data(train_file_path)\n",
    "\n",
    "print(\"Train data shape:\", train_data.shape)\n",
    "\n",
    "# Display the first few rows and data info of the train dataset\n",
    "print(\"\\nFirst few rows of the train dataset:\")\n",
    "print(train_data.head())\n",
    "print(\"\\nTrain dataset info:\")\n",
    "train_data.info()"
   ]
  },
  {
   "cell_type": "code",
   "execution_count": null,
   "metadata": {},
   "outputs": [],
   "source": [
    "# Drop 'Unnamed: 0', 'Time', and 'Location' columns\n",
    "train_data = train_data.drop(columns=['Unnamed: 0', 'Time', 'Location'], errors='ignore')\n",
    "\n",
    "# Split the data into training, validation, and test sets\n",
    "train_df, val_df, test_df = split_train_val_test(train_data, test_ratio=0.15, val_ratio=0.15, random_state=42)\n",
    "\n",
    "print(\"\\nAfter splitting:\")\n",
    "print(\"Training set shape:\", train_df.shape)\n",
    "print(\"Validation set shape:\", val_df.shape)\n",
    "print(\"Test set shape:\", test_df.shape)"
   ]
  },
  {
   "cell_type": "code",
   "execution_count": null,
   "metadata": {},
   "outputs": [],
   "source": [
    "input_columns = ['Temp_2m', 'RelHum_2m', 'DP_2m', 'WS_10m', 'WS_100m', 'WD_10m', 'WD_100m', 'WG_10m']\n",
    "output_column = 'Power'\n",
    "\n",
    "# Isolate input and output variables in training validation, and test sets\n",
    "train_X = train_df[input_columns]\n",
    "train_y = train_df[output_column]\n",
    "\n",
    "val_X = val_df[input_columns]\n",
    "val_y = val_df[output_column]\n",
    "\n",
    "test_X = test_df[input_columns]\n",
    "test_y = test_df[output_column]\n",
    "\n",
    "# Preprocess (scale) the input features\n",
    "train_X_scaled = preprocess_data(train_X)\n",
    "val_X_scaled = preprocess_data(val_X)\n",
    "test_X_scaled = preprocess_data(test_X)\n",
    "\n",
    "print(\"Training set scaled shape:\", train_X_scaled.shape)\n",
    "print(\"Validation set scaled shape:\", val_X_scaled.shape)\n",
    "print(\"Test set scaled shape:\", test_X_scaled.shape)"
   ]
  }
 ],
 "metadata": {
  "kernelspec": {
   "display_name": "Python 3",
   "language": "python",
   "name": "python3"
  },
  "language_info": {
   "codemirror_mode": {
    "name": "ipython",
    "version": 3
   },
   "file_extension": ".py",
   "mimetype": "text/x-python",
   "name": "python",
   "nbconvert_exporter": "python",
   "pygments_lexer": "ipython3",
   "version": "3.8.5"
  }
 },
 "nbformat": 4,
 "nbformat_minor": 4
}
