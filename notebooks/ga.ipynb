{
 "cells": [
  {
   "cell_type": "markdown",
   "metadata": {},
   "source": [
    "# Wind Power Prediction using Genetic Algorithm (GA)\n",
    "\n",
    "This notebook demonstrates the process of training and evaluating a neural network model for wind power prediction using a Genetic Algorithm optimization approach."
   ]
  },
  {
   "cell_type": "code",
   "execution_count": 1,
   "metadata": {},
   "outputs": [
    {
     "name": "stderr",
     "output_type": "stream",
     "text": [
      "2024-10-18 02:31:33.751488: I tensorflow/core/util/port.cc:153] oneDNN custom operations are on. You may see slightly different numerical results due to floating-point round-off errors from different computation orders. To turn them off, set the environment variable `TF_ENABLE_ONEDNN_OPTS=0`.\n",
      "2024-10-18 02:31:33.762924: E external/local_xla/xla/stream_executor/cuda/cuda_fft.cc:485] Unable to register cuFFT factory: Attempting to register factory for plugin cuFFT when one has already been registered\n",
      "2024-10-18 02:31:33.773756: E external/local_xla/xla/stream_executor/cuda/cuda_dnn.cc:8454] Unable to register cuDNN factory: Attempting to register factory for plugin cuDNN when one has already been registered\n",
      "2024-10-18 02:31:33.776764: E external/local_xla/xla/stream_executor/cuda/cuda_blas.cc:1452] Unable to register cuBLAS factory: Attempting to register factory for plugin cuBLAS when one has already been registered\n",
      "2024-10-18 02:31:33.785371: I tensorflow/core/platform/cpu_feature_guard.cc:210] This TensorFlow binary is optimized to use available CPU instructions in performance-critical operations.\n",
      "To enable the following instructions: AVX2 AVX512F AVX512_VNNI AVX512_BF16 FMA, in other operations, rebuild TensorFlow with the appropriate compiler flags.\n",
      "2024-10-18 02:31:34.292089: W tensorflow/compiler/tf2tensorrt/utils/py_utils.cc:38] TF-TRT Warning: Could not find TensorRT\n"
     ]
    }
   ],
   "source": [
    "import os\n",
    "import sys\n",
    "import numpy as np\n",
    "import pandas as pd\n",
    "import matplotlib.pyplot as plt\n",
    "\n",
    "# Add the parent directory to the Python path\n",
    "sys.path.append('..')\n",
    "\n",
    "from src.data import load_data\n",
    "from src.models import create_ga_model\n",
    "from src.genetic_algorithm import genetic_algorithm\n",
    "from src.utils import set_seeds, create_results_directory\n",
    "from src.visualization import plot_predictions, plot_fitness_history"
   ]
  },
  {
   "cell_type": "markdown",
   "metadata": {},
   "source": [
    "## 1. Set up the environment"
   ]
  },
  {
   "cell_type": "code",
   "execution_count": 2,
   "metadata": {},
   "outputs": [
    {
     "name": "stderr",
     "output_type": "stream",
     "text": [
      "2024-10-18 02:31:34,648 - INFO - Random seeds set to 42\n",
      "2024-10-18 02:31:34,649 - INFO - Results directory created: /home/dkat/computational-intelligence/src/../results/20241018_023134\n"
     ]
    },
    {
     "name": "stdout",
     "output_type": "stream",
     "text": [
      "Results will be saved in: /home/dkat/computational-intelligence/src/../results/20241018_023134\n"
     ]
    }
   ],
   "source": [
    "# Set random seeds for reproducibility\n",
    "set_seeds(42)\n",
    "\n",
    "# Create a results directory\n",
    "results_dir = create_results_directory()\n",
    "print(f\"Results will be saved in: {results_dir}\")"
   ]
  },
  {
   "cell_type": "markdown",
   "metadata": {},
   "source": [
    "## 2. Load and preprocess data"
   ]
  },
  {
   "cell_type": "code",
   "execution_count": 3,
   "metadata": {},
   "outputs": [
    {
     "name": "stderr",
     "output_type": "stream",
     "text": [
      "2024-10-18 02:31:34,654 - INFO - Loading data from ../data/raw/Train.csv\n",
      "2024-10-18 02:31:34,743 - INFO - Train data shape: (140160, 12)\n",
      "2024-10-18 02:31:34,746 - INFO - Input columns: ['Temp_2m', 'RelHum_2m', 'DP_2m', 'WS_10m', 'WS_100m', 'WD_10m', 'WD_100m', 'WG_10m']\n",
      "2024-10-18 02:31:34,746 - INFO - Output column: Power\n",
      "2024-10-18 02:31:34,759 - INFO - Training set shape: (98112, 9)\n",
      "2024-10-18 02:31:34,760 - INFO - Validation set shape: (21024, 9)\n",
      "2024-10-18 02:31:34,760 - INFO - Test set shape: (21024, 9)\n",
      "2024-10-18 02:31:34,769 - INFO - Data scaling completed\n"
     ]
    },
    {
     "name": "stdout",
     "output_type": "stream",
     "text": [
      "Data shapes:\n",
      "Train: (98112, 8), (98112, 1)\n",
      "Validation: (21024, 8), (21024, 1)\n",
      "Test: (21024, 8), (21024, 1)\n"
     ]
    }
   ],
   "source": [
    "# Load the data\n",
    "(train_X, train_y), (val_X, val_y), (test_X, test_y), scaler_X, scaler_y = load_data()\n",
    "\n",
    "print(\"Data shapes:\")\n",
    "print(f\"Train: {train_X.shape}, {train_y.shape}\")\n",
    "print(f\"Validation: {val_X.shape}, {val_y.shape}\")\n",
    "print(f\"Test: {test_X.shape}, {test_y.shape}\")"
   ]
  },
  {
   "cell_type": "markdown",
   "metadata": {},
   "source": [
    "## 3. Create the model"
   ]
  },
  {
   "cell_type": "code",
   "execution_count": 4,
   "metadata": {},
   "outputs": [
    {
     "name": "stderr",
     "output_type": "stream",
     "text": [
      "/home/dkat/computational-intelligence/venv/lib/python3.12/site-packages/keras/src/layers/core/input_layer.py:26: UserWarning: Argument `input_shape` is deprecated. Use `shape` instead.\n",
      "  warnings.warn(\n",
      "WARNING: All log messages before absl::InitializeLog() is called are written to STDERR\n",
      "I0000 00:00:1729218694.799645  467458 cuda_executor.cc:1001] could not open file to read NUMA node: /sys/bus/pci/devices/0000:01:00.0/numa_node\n",
      "Your kernel may have been built without NUMA support.\n",
      "I0000 00:00:1729218694.815936  467458 cuda_executor.cc:1001] could not open file to read NUMA node: /sys/bus/pci/devices/0000:01:00.0/numa_node\n",
      "Your kernel may have been built without NUMA support.\n",
      "I0000 00:00:1729218694.815972  467458 cuda_executor.cc:1001] could not open file to read NUMA node: /sys/bus/pci/devices/0000:01:00.0/numa_node\n",
      "Your kernel may have been built without NUMA support.\n",
      "I0000 00:00:1729218694.818923  467458 cuda_executor.cc:1001] could not open file to read NUMA node: /sys/bus/pci/devices/0000:01:00.0/numa_node\n",
      "Your kernel may have been built without NUMA support.\n",
      "I0000 00:00:1729218694.818951  467458 cuda_executor.cc:1001] could not open file to read NUMA node: /sys/bus/pci/devices/0000:01:00.0/numa_node\n",
      "Your kernel may have been built without NUMA support.\n",
      "I0000 00:00:1729218694.818964  467458 cuda_executor.cc:1001] could not open file to read NUMA node: /sys/bus/pci/devices/0000:01:00.0/numa_node\n",
      "Your kernel may have been built without NUMA support.\n",
      "I0000 00:00:1729218694.897614  467458 cuda_executor.cc:1001] could not open file to read NUMA node: /sys/bus/pci/devices/0000:01:00.0/numa_node\n",
      "Your kernel may have been built without NUMA support.\n",
      "I0000 00:00:1729218694.897675  467458 cuda_executor.cc:1001] could not open file to read NUMA node: /sys/bus/pci/devices/0000:01:00.0/numa_node\n",
      "Your kernel may have been built without NUMA support.\n",
      "2024-10-18 02:31:34.897687: I tensorflow/core/common_runtime/gpu/gpu_device.cc:2112] Could not identify NUMA node of platform GPU id 0, defaulting to 0.  Your kernel may not have been built with NUMA support.\n",
      "I0000 00:00:1729218694.897725  467458 cuda_executor.cc:1001] could not open file to read NUMA node: /sys/bus/pci/devices/0000:01:00.0/numa_node\n",
      "Your kernel may have been built without NUMA support.\n",
      "2024-10-18 02:31:34.897747: I tensorflow/core/common_runtime/gpu/gpu_device.cc:2021] Created device /job:localhost/replica:0/task:0/device:GPU:0 with 21770 MB memory:  -> device: 0, name: NVIDIA GeForce RTX 3090, pci bus id: 0000:01:00.0, compute capability: 8.6\n",
      "2024-10-18 02:31:37,464 - INFO - Created GA model with architecture: [256, 128, 64]\n"
     ]
    },
    {
     "data": {
      "text/html": [
       "<pre style=\"white-space:pre;overflow-x:auto;line-height:normal;font-family:Menlo,'DejaVu Sans Mono',consolas,'Courier New',monospace\"><span style=\"font-weight: bold\">Model: \"sequential\"</span>\n",
       "</pre>\n"
      ],
      "text/plain": [
       "\u001b[1mModel: \"sequential\"\u001b[0m\n"
      ]
     },
     "metadata": {},
     "output_type": "display_data"
    },
    {
     "data": {
      "text/html": [
       "<pre style=\"white-space:pre;overflow-x:auto;line-height:normal;font-family:Menlo,'DejaVu Sans Mono',consolas,'Courier New',monospace\">┏━━━━━━━━━━━━━━━━━━━━━━━━━━━━━━━━━┳━━━━━━━━━━━━━━━━━━━━━━━━┳━━━━━━━━━━━━━━━┓\n",
       "┃<span style=\"font-weight: bold\"> Layer (type)                    </span>┃<span style=\"font-weight: bold\"> Output Shape           </span>┃<span style=\"font-weight: bold\">       Param # </span>┃\n",
       "┡━━━━━━━━━━━━━━━━━━━━━━━━━━━━━━━━━╇━━━━━━━━━━━━━━━━━━━━━━━━╇━━━━━━━━━━━━━━━┩\n",
       "│ dense (<span style=\"color: #0087ff; text-decoration-color: #0087ff\">Dense</span>)                   │ (<span style=\"color: #00d7ff; text-decoration-color: #00d7ff\">None</span>, <span style=\"color: #00af00; text-decoration-color: #00af00\">256</span>)            │         <span style=\"color: #00af00; text-decoration-color: #00af00\">2,304</span> │\n",
       "├─────────────────────────────────┼────────────────────────┼───────────────┤\n",
       "│ dense_1 (<span style=\"color: #0087ff; text-decoration-color: #0087ff\">Dense</span>)                 │ (<span style=\"color: #00d7ff; text-decoration-color: #00d7ff\">None</span>, <span style=\"color: #00af00; text-decoration-color: #00af00\">128</span>)            │        <span style=\"color: #00af00; text-decoration-color: #00af00\">32,896</span> │\n",
       "├─────────────────────────────────┼────────────────────────┼───────────────┤\n",
       "│ dense_2 (<span style=\"color: #0087ff; text-decoration-color: #0087ff\">Dense</span>)                 │ (<span style=\"color: #00d7ff; text-decoration-color: #00d7ff\">None</span>, <span style=\"color: #00af00; text-decoration-color: #00af00\">64</span>)             │         <span style=\"color: #00af00; text-decoration-color: #00af00\">8,256</span> │\n",
       "├─────────────────────────────────┼────────────────────────┼───────────────┤\n",
       "│ dense_3 (<span style=\"color: #0087ff; text-decoration-color: #0087ff\">Dense</span>)                 │ (<span style=\"color: #00d7ff; text-decoration-color: #00d7ff\">None</span>, <span style=\"color: #00af00; text-decoration-color: #00af00\">1</span>)              │            <span style=\"color: #00af00; text-decoration-color: #00af00\">65</span> │\n",
       "└─────────────────────────────────┴────────────────────────┴───────────────┘\n",
       "</pre>\n"
      ],
      "text/plain": [
       "┏━━━━━━━━━━━━━━━━━━━━━━━━━━━━━━━━━┳━━━━━━━━━━━━━━━━━━━━━━━━┳━━━━━━━━━━━━━━━┓\n",
       "┃\u001b[1m \u001b[0m\u001b[1mLayer (type)                   \u001b[0m\u001b[1m \u001b[0m┃\u001b[1m \u001b[0m\u001b[1mOutput Shape          \u001b[0m\u001b[1m \u001b[0m┃\u001b[1m \u001b[0m\u001b[1m      Param #\u001b[0m\u001b[1m \u001b[0m┃\n",
       "┡━━━━━━━━━━━━━━━━━━━━━━━━━━━━━━━━━╇━━━━━━━━━━━━━━━━━━━━━━━━╇━━━━━━━━━━━━━━━┩\n",
       "│ dense (\u001b[38;5;33mDense\u001b[0m)                   │ (\u001b[38;5;45mNone\u001b[0m, \u001b[38;5;34m256\u001b[0m)            │         \u001b[38;5;34m2,304\u001b[0m │\n",
       "├─────────────────────────────────┼────────────────────────┼───────────────┤\n",
       "│ dense_1 (\u001b[38;5;33mDense\u001b[0m)                 │ (\u001b[38;5;45mNone\u001b[0m, \u001b[38;5;34m128\u001b[0m)            │        \u001b[38;5;34m32,896\u001b[0m │\n",
       "├─────────────────────────────────┼────────────────────────┼───────────────┤\n",
       "│ dense_2 (\u001b[38;5;33mDense\u001b[0m)                 │ (\u001b[38;5;45mNone\u001b[0m, \u001b[38;5;34m64\u001b[0m)             │         \u001b[38;5;34m8,256\u001b[0m │\n",
       "├─────────────────────────────────┼────────────────────────┼───────────────┤\n",
       "│ dense_3 (\u001b[38;5;33mDense\u001b[0m)                 │ (\u001b[38;5;45mNone\u001b[0m, \u001b[38;5;34m1\u001b[0m)              │            \u001b[38;5;34m65\u001b[0m │\n",
       "└─────────────────────────────────┴────────────────────────┴───────────────┘\n"
      ]
     },
     "metadata": {},
     "output_type": "display_data"
    },
    {
     "data": {
      "text/html": [
       "<pre style=\"white-space:pre;overflow-x:auto;line-height:normal;font-family:Menlo,'DejaVu Sans Mono',consolas,'Courier New',monospace\"><span style=\"font-weight: bold\"> Total params: </span><span style=\"color: #00af00; text-decoration-color: #00af00\">43,521</span> (170.00 KB)\n",
       "</pre>\n"
      ],
      "text/plain": [
       "\u001b[1m Total params: \u001b[0m\u001b[38;5;34m43,521\u001b[0m (170.00 KB)\n"
      ]
     },
     "metadata": {},
     "output_type": "display_data"
    },
    {
     "data": {
      "text/html": [
       "<pre style=\"white-space:pre;overflow-x:auto;line-height:normal;font-family:Menlo,'DejaVu Sans Mono',consolas,'Courier New',monospace\"><span style=\"font-weight: bold\"> Trainable params: </span><span style=\"color: #00af00; text-decoration-color: #00af00\">43,521</span> (170.00 KB)\n",
       "</pre>\n"
      ],
      "text/plain": [
       "\u001b[1m Trainable params: \u001b[0m\u001b[38;5;34m43,521\u001b[0m (170.00 KB)\n"
      ]
     },
     "metadata": {},
     "output_type": "display_data"
    },
    {
     "data": {
      "text/html": [
       "<pre style=\"white-space:pre;overflow-x:auto;line-height:normal;font-family:Menlo,'DejaVu Sans Mono',consolas,'Courier New',monospace\"><span style=\"font-weight: bold\"> Non-trainable params: </span><span style=\"color: #00af00; text-decoration-color: #00af00\">0</span> (0.00 B)\n",
       "</pre>\n"
      ],
      "text/plain": [
       "\u001b[1m Non-trainable params: \u001b[0m\u001b[38;5;34m0\u001b[0m (0.00 B)\n"
      ]
     },
     "metadata": {},
     "output_type": "display_data"
    }
   ],
   "source": [
    "# Define model architecture\n",
    "input_shape = (train_X.shape[1],)\n",
    "layer_sizes = [256, 128, 64]\n",
    "\n",
    "# Create the model\n",
    "model = create_ga_model(input_shape, layer_sizes)\n",
    "model.summary()"
   ]
  },
  {
   "cell_type": "markdown",
   "metadata": {},
   "source": [
    "## 4. Run the Genetic Algorithm"
   ]
  },
  {
   "cell_type": "code",
   "execution_count": null,
   "metadata": {},
   "outputs": [
    {
     "name": "stderr",
     "output_type": "stream",
     "text": [
      "WARNING: All log messages before absl::InitializeLog() is called are written to STDERR\n",
      "I0000 00:00:1729218697.584940  467587 service.cc:146] XLA service 0x7fa2c0016970 initialized for platform CUDA (this does not guarantee that XLA will be used). Devices:\n",
      "I0000 00:00:1729218697.584967  467587 service.cc:154]   StreamExecutor device (0): NVIDIA GeForce RTX 3090, Compute Capability 8.6\n",
      "2024-10-18 02:31:37.587990: I tensorflow/compiler/mlir/tensorflow/utils/dump_mlir_util.cc:268] disabling MLIR crash reproducer, set env var `MLIR_CRASH_REPRODUCER_DIRECTORY` to enable.\n",
      "2024-10-18 02:31:37.605520: I external/local_xla/xla/stream_executor/cuda/cuda_dnn.cc:531] Loaded cuDNN version 8907\n"
     ]
    },
    {
     "name": "stdout",
     "output_type": "stream",
     "text": [
      "Generation 0\n"
     ]
    },
    {
     "name": "stderr",
     "output_type": "stream",
     "text": [
      "I0000 00:00:1729218698.302014  467587 device_compiler.h:188] Compiled cluster using XLA!  This line is logged at most once for the lifetime of the process.\n"
     ]
    },
    {
     "name": "stdout",
     "output_type": "stream",
     "text": [
      "Best fitness: 1.088452\n",
      "Generation 1\n",
      "Best fitness: 1.125772\n",
      "Generation 2\n",
      "Best fitness: 1.239722\n",
      "Generation 3\n",
      "Best fitness: 1.153017\n",
      "Generation 4\n",
      "Best fitness: 1.159202\n",
      "Generation 5\n",
      "Best fitness: 1.153718\n",
      "Generation 6\n",
      "Best fitness: 1.138746\n",
      "Generation 7\n",
      "Best fitness: 1.246677\n",
      "Generation 8\n",
      "Best fitness: 1.238113\n",
      "Generation 9\n",
      "Best fitness: 1.205135\n",
      "Generation 10\n",
      "Best fitness: 1.209342\n",
      "Generation 11\n",
      "Best fitness: 1.247210\n",
      "Generation 12\n",
      "Best fitness: 1.228393\n",
      "Generation 13\n",
      "Best fitness: 1.268898\n",
      "Generation 14\n",
      "Best fitness: 1.294535\n",
      "Generation 15\n",
      "Best fitness: 1.297778\n",
      "Generation 16\n",
      "Best fitness: 1.278307\n",
      "Generation 17\n",
      "Best fitness: 1.424801\n",
      "Generation 18\n",
      "Best fitness: 1.373575\n",
      "Generation 19\n",
      "Best fitness: 1.406388\n",
      "Generation 20\n",
      "Best fitness: 1.431060\n",
      "Generation 21\n",
      "Best fitness: 1.521067\n",
      "Generation 22\n",
      "Best fitness: 1.575243\n",
      "Generation 23\n",
      "Best fitness: 1.571181\n",
      "Generation 24\n",
      "Best fitness: 1.632362\n",
      "Generation 25\n",
      "Best fitness: 1.606331\n",
      "Generation 26\n",
      "Best fitness: 1.577475\n",
      "Generation 27\n",
      "Best fitness: 1.634360\n",
      "Generation 28\n",
      "Best fitness: 1.646642\n",
      "Generation 29\n",
      "Best fitness: 1.648852\n",
      "Generation 30\n",
      "Best fitness: 1.688617\n",
      "Generation 31\n",
      "Best fitness: 1.702328\n",
      "Generation 32\n"
     ]
    }
   ],
   "source": [
    "# Set GA parameters\n",
    "ga_params = {\n",
    "    \"population_size\": 50,\n",
    "    \"generations\": 100,\n",
    "    \"tournament_size\": 3,\n",
    "    \"mutation_rate\": 0.01,\n",
    "    \"mutation_scale\": 0.1\n",
    "}\n",
    "\n",
    "# Run Genetic Algorithm\n",
    "best_model, fitness_history, eval_results = genetic_algorithm(\n",
    "    model,\n",
    "    (train_X, train_y),\n",
    "    (val_X, val_y),\n",
    "    (test_X, test_y),\n",
    "    scaler_y,\n",
    "    results_dir=results_dir,\n",
    "    **ga_params\n",
    ")\n",
    "\n",
    "print(\"\\nEvaluation Results:\")\n",
    "print(f\"Test MSE: {eval_results['mse']:.4f}\")\n",
    "print(f\"Test RMSE: {eval_results['rmse']:.4f}\")\n",
    "print(f\"Test R2 Score: {eval_results['r2']:.4f}\")"
   ]
  },
  {
   "cell_type": "markdown",
   "metadata": {},
   "source": [
    "## 5. Visualize Results"
   ]
  },
  {
   "cell_type": "code",
   "execution_count": null,
   "metadata": {},
   "outputs": [],
   "source": [
    "# Plot predictions\n",
    "plot_predictions(eval_results['actual'], eval_results['predictions'], \"GA Model Predictions\")\n",
    "\n",
    "# Plot fitness history\n",
    "plot_fitness_history(fitness_history)"
   ]
  },
  {
   "cell_type": "markdown",
   "metadata": {},
   "source": [
    "## 6. Analyze GA Performance"
   ]
  },
  {
   "cell_type": "code",
   "execution_count": null,
   "metadata": {},
   "outputs": [],
   "source": [
    "# Plot fitness over generations\n",
    "plt.figure(figsize=(12, 6))\n",
    "plt.plot(fitness_history)\n",
    "plt.title('Fitness History over Generations')\n",
    "plt.xlabel('Generation')\n",
    "plt.ylabel('Best Fitness')\n",
    "plt.show()\n",
    "\n",
    "# Calculate improvement rate\n",
    "initial_fitness = fitness_history[0]\n",
    "final_fitness = fitness_history[-1]\n",
    "improvement_rate = (final_fitness - initial_fitness) / initial_fitness * 100\n",
    "\n",
    "print(f\"Initial Fitness: {initial_fitness:.6f}\")\n",
    "print(f\"Final Fitness: {final_fitness:.6f}\")\n",
    "print(f\"Improvement Rate: {improvement_rate:.2f}%\")"
   ]
  },
  {
   "cell_type": "markdown",
   "metadata": {},
   "source": [
    "## 7. Compare with Random Search (Optional)"
   ]
  },
  {
   "cell_type": "code",
   "execution_count": null,
   "metadata": {},
   "outputs": [],
   "source": [
    "def random_search(model, train_data, val_data, num_iterations):\n",
    "    best_fitness = -np.inf\n",
    "    best_weights = None\n",
    "    fitness_history = []\n",
    "    \n",
    "    for _ in range(num_iterations):\n",
    "        # Generate random weights\n",
    "        weights = [np.random.randn(*w.shape) for w in model.get_weights()]\n",
    "        model.set_weights(weights)\n",
    "        \n",
    "        # Evaluate fitness\n",
    "        y_pred = model.predict(val_data[0], verbose=0)\n",
    "        mse = mean_squared_error(val_data[1], y_pred)\n",
    "        fitness = 1 / (mse + 1e-8)\n",
    "        \n",
    "        if fitness > best_fitness:\n",
    "            best_fitness = fitness\n",
    "            best_weights = weights\n",
    "        \n",
    "        fitness_history.append(best_fitness)\n",
    "    \n",
    "    model.set_weights(best_weights)\n",
    "    return model, fitness_history\n",
    "\n",
    "# Run random search\n",
    "random_model = create_ga_model(input_shape, layer_sizes)\n",
    "best_random_model, random_fitness_history = random_search(random_model, (train_X, train_y), (val_X, val_y), ga_params['generations'] * ga_params['population_size'])\n",
    "\n",
    "# Plot comparison\n",
    "plt.figure(figsize=(12, 6))\n",
    "plt.plot(fitness_history, label='Genetic Algorithm')\n",
    "plt.plot(random_fitness_history, label='Random Search')\n",
    "plt.title('GA vs Random Search: Fitness History')\n",
    "plt.xlabel('Iterations')\n",
    "plt.ylabel('Best Fitness')\n",
    "plt.legend()\n",
    "plt.show()\n",
    "\n",
    "print(f\"GA Final Fitness: {fitness_history[-1]:.6f}\")\n",
    "print(f\"Random Search Final Fitness: {random_fitness_history[-1]:.6f}\")"
   ]
  },
  {
   "cell_type": "markdown",
   "metadata": {},
   "source": [
    "## 8. Conclusion\n",
    "\n",
    "In this notebook, we have:\n",
    "1. Loaded and preprocessed the wind power prediction data.\n",
    "2. Created a neural network model for optimization with a Genetic Algorithm.\n",
    "3. Ran the Genetic Algorithm to find optimal weights for the model.\n",
    "4. Evaluated the model's performance on the test set.\n",
    "5. Visualized the predictions and analyzed the fitness history.\n",
    "6. Compared the GA performance with a random search baseline (optional).\n",
    "\n",
    "The GA-optimized model achieved an RMSE of {eval_results['rmse']:.4f} and an R2 score of {eval_results['r2']:.4f} on the test set.\n",
    "\n",
    "Further improvements could potentially be made by:\n",
    "- Experimenting with different GA parameters (population size, mutation rate, etc.)\n",
    "- Trying different model architectures\n",
    "- Implementing more advanced GA techniques (e.g., adaptive mutation rates, different selection methods)\n",
    "- Combining GA with local search techniques for fine-tuning\n",
    "- Incorporating domain-specific knowledge into the fitness function or model structure"
   ]
  }
 ],
 "metadata": {
  "kernelspec": {
   "display_name": "venv",
   "language": "python",
   "name": "python3"
  },
  "language_info": {
   "codemirror_mode": {
    "name": "ipython",
    "version": 3
   },
   "file_extension": ".py",
   "mimetype": "text/x-python",
   "name": "python",
   "nbconvert_exporter": "python",
   "pygments_lexer": "ipython3",
   "version": "3.12.3"
  }
 },
 "nbformat": 4,
 "nbformat_minor": 4
}
