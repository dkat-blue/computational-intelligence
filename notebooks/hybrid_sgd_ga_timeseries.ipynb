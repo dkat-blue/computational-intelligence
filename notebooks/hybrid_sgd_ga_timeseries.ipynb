{
 "cells": [
  {
   "cell_type": "code",
   "execution_count": 1,
   "metadata": {},
   "outputs": [
    {
     "name": "stderr",
     "output_type": "stream",
     "text": [
      "2024-10-21 11:50:38.121911: I tensorflow/core/util/port.cc:153] oneDNN custom operations are on. You may see slightly different numerical results due to floating-point round-off errors from different computation orders. To turn them off, set the environment variable `TF_ENABLE_ONEDNN_OPTS=0`.\n",
      "2024-10-21 11:50:38.128834: E external/local_xla/xla/stream_executor/cuda/cuda_fft.cc:485] Unable to register cuFFT factory: Attempting to register factory for plugin cuFFT when one has already been registered\n",
      "2024-10-21 11:50:38.136613: E external/local_xla/xla/stream_executor/cuda/cuda_dnn.cc:8454] Unable to register cuDNN factory: Attempting to register factory for plugin cuDNN when one has already been registered\n",
      "2024-10-21 11:50:38.138786: E external/local_xla/xla/stream_executor/cuda/cuda_blas.cc:1452] Unable to register cuBLAS factory: Attempting to register factory for plugin cuBLAS when one has already been registered\n",
      "2024-10-21 11:50:38.145145: I tensorflow/core/platform/cpu_feature_guard.cc:210] This TensorFlow binary is optimized to use available CPU instructions in performance-critical operations.\n",
      "To enable the following instructions: AVX2 AVX512F AVX512_VNNI AVX512_BF16 FMA, in other operations, rebuild TensorFlow with the appropriate compiler flags.\n",
      "2024-10-21 11:50:38.605937: W tensorflow/compiler/tf2tensorrt/utils/py_utils.cc:38] TF-TRT Warning: Could not find TensorRT\n",
      "2024-10-21 11:50:38,934 - INFO - Random seeds set to 42\n",
      "2024-10-21 11:50:38,936 - INFO - Results directory created: /home/dkat/computational-intelligence/src/../results/20241021_115038\n"
     ]
    },
    {
     "name": "stdout",
     "output_type": "stream",
     "text": [
      "Results will be saved in: /home/dkat/computational-intelligence/src/../results/20241021_115038\n"
     ]
    }
   ],
   "source": [
    "import os\n",
    "import sys\n",
    "import numpy as np\n",
    "import matplotlib.pyplot as plt\n",
    "from sklearn.metrics import mean_squared_error\n",
    "\n",
    "# Add the parent directory to the Python path\n",
    "sys.path.append('..')\n",
    "\n",
    "from src.data import load_data\n",
    "from src.models import ModelWrapper\n",
    "from src.optimizers import SGDOptimizer, GeneticAlgorithmOptimizer\n",
    "from src.utils import set_seeds, create_results_directory, extract_data_from_generator\n",
    "from src.visualization import plot_predictions, plot_fitness_history, plot_time_series_predictions\n",
    "\n",
    "# Set random seeds for reproducibility\n",
    "set_seeds(42)\n",
    "\n",
    "# Create a results directory\n",
    "results_dir = create_results_directory()\n",
    "print(f\"Results will be saved in: {results_dir}\")"
   ]
  },
  {
   "cell_type": "code",
   "execution_count": 2,
   "metadata": {},
   "outputs": [
    {
     "name": "stderr",
     "output_type": "stream",
     "text": [
      "2024-10-21 11:50:40,736 - INFO - Loading data from ../data/raw/Train.csv\n",
      "2024-10-21 11:50:40,811 - INFO - Train data shape: (140160, 12)\n",
      "2024-10-21 11:50:40,814 - INFO - Input columns: ['Temp_2m', 'RelHum_2m', 'DP_2m', 'WS_10m', 'WS_100m', 'WD_10m', 'WD_100m', 'WG_10m']\n",
      "2024-10-21 11:50:40,814 - INFO - Output column: Power\n",
      "2024-10-21 11:50:40,823 - INFO - Training set shape: (98112, 9)\n",
      "2024-10-21 11:50:40,823 - INFO - Validation set shape: (21024, 9)\n",
      "2024-10-21 11:50:40,824 - INFO - Test set shape: (21024, 9)\n",
      "2024-10-21 11:50:40,831 - INFO - Data scaling and sequence generation completed\n"
     ]
    },
    {
     "name": "stdout",
     "output_type": "stream",
     "text": [
      "Data sequences:\n",
      "Train sequences: 3066\n",
      "Validation sequences: 657\n",
      "Test sequences: 657\n",
      "Input shape: (12, 8)\n",
      "Output shape: (32, 1)\n"
     ]
    }
   ],
   "source": [
    "# Load the data using TimeseriesGenerator\n",
    "train_generator, val_generator, test_generator, scaler_X, scaler_y = load_data()\n",
    "\n",
    "# Print data sequences\n",
    "print(\"Data sequences:\")\n",
    "print(f\"Train sequences: {len(train_generator)}\")\n",
    "print(f\"Validation sequences: {len(val_generator)}\")\n",
    "print(f\"Test sequences: {len(test_generator)}\")\n",
    "\n",
    "# Get input shape from one batch\n",
    "x_batch, y_batch = train_generator[0]\n",
    "input_shape = x_batch.shape[1:]  # Exclude batch size dimension\n",
    "print(f\"Input shape: {input_shape}\")\n",
    "print(f\"Output shape: {y_batch.shape}\")"
   ]
  },
  {
   "cell_type": "code",
   "execution_count": 3,
   "metadata": {},
   "outputs": [
    {
     "name": "stderr",
     "output_type": "stream",
     "text": [
      "/home/dkat/computational-intelligence/venv/lib/python3.12/site-packages/keras/src/layers/core/input_layer.py:26: UserWarning: Argument `input_shape` is deprecated. Use `shape` instead.\n",
      "  warnings.warn(\n",
      "WARNING: All log messages before absl::InitializeLog() is called are written to STDERR\n",
      "I0000 00:00:1729511443.318848  591815 cuda_executor.cc:1001] could not open file to read NUMA node: /sys/bus/pci/devices/0000:01:00.0/numa_node\n",
      "Your kernel may have been built without NUMA support.\n",
      "I0000 00:00:1729511443.331265  591815 cuda_executor.cc:1001] could not open file to read NUMA node: /sys/bus/pci/devices/0000:01:00.0/numa_node\n",
      "Your kernel may have been built without NUMA support.\n",
      "I0000 00:00:1729511443.331297  591815 cuda_executor.cc:1001] could not open file to read NUMA node: /sys/bus/pci/devices/0000:01:00.0/numa_node\n",
      "Your kernel may have been built without NUMA support.\n",
      "I0000 00:00:1729511443.332921  591815 cuda_executor.cc:1001] could not open file to read NUMA node: /sys/bus/pci/devices/0000:01:00.0/numa_node\n",
      "Your kernel may have been built without NUMA support.\n",
      "I0000 00:00:1729511443.332948  591815 cuda_executor.cc:1001] could not open file to read NUMA node: /sys/bus/pci/devices/0000:01:00.0/numa_node\n",
      "Your kernel may have been built without NUMA support.\n",
      "I0000 00:00:1729511443.332962  591815 cuda_executor.cc:1001] could not open file to read NUMA node: /sys/bus/pci/devices/0000:01:00.0/numa_node\n",
      "Your kernel may have been built without NUMA support.\n",
      "I0000 00:00:1729511443.396915  591815 cuda_executor.cc:1001] could not open file to read NUMA node: /sys/bus/pci/devices/0000:01:00.0/numa_node\n",
      "Your kernel may have been built without NUMA support.\n",
      "I0000 00:00:1729511443.396973  591815 cuda_executor.cc:1001] could not open file to read NUMA node: /sys/bus/pci/devices/0000:01:00.0/numa_node\n",
      "Your kernel may have been built without NUMA support.\n",
      "2024-10-21 11:50:43.396982: I tensorflow/core/common_runtime/gpu/gpu_device.cc:2112] Could not identify NUMA node of platform GPU id 0, defaulting to 0.  Your kernel may not have been built with NUMA support.\n",
      "I0000 00:00:1729511443.397019  591815 cuda_executor.cc:1001] could not open file to read NUMA node: /sys/bus/pci/devices/0000:01:00.0/numa_node\n",
      "Your kernel may have been built without NUMA support.\n",
      "2024-10-21 11:50:43.397037: I tensorflow/core/common_runtime/gpu/gpu_device.cc:2021] Created device /job:localhost/replica:0/task:0/device:GPU:0 with 21770 MB memory:  -> device: 0, name: NVIDIA GeForce RTX 3090, pci bus id: 0000:01:00.0, compute capability: 8.6\n"
     ]
    },
    {
     "data": {
      "text/html": [
       "<pre style=\"white-space:pre;overflow-x:auto;line-height:normal;font-family:Menlo,'DejaVu Sans Mono',consolas,'Courier New',monospace\"><span style=\"font-weight: bold\">Model: \"sequential\"</span>\n",
       "</pre>\n"
      ],
      "text/plain": [
       "\u001b[1mModel: \"sequential\"\u001b[0m\n"
      ]
     },
     "metadata": {},
     "output_type": "display_data"
    },
    {
     "data": {
      "text/html": [
       "<pre style=\"white-space:pre;overflow-x:auto;line-height:normal;font-family:Menlo,'DejaVu Sans Mono',consolas,'Courier New',monospace\">┏━━━━━━━━━━━━━━━━━━━━━━━━━━━━━━━━━┳━━━━━━━━━━━━━━━━━━━━━━━━┳━━━━━━━━━━━━━━━┓\n",
       "┃<span style=\"font-weight: bold\"> Layer (type)                    </span>┃<span style=\"font-weight: bold\"> Output Shape           </span>┃<span style=\"font-weight: bold\">       Param # </span>┃\n",
       "┡━━━━━━━━━━━━━━━━━━━━━━━━━━━━━━━━━╇━━━━━━━━━━━━━━━━━━━━━━━━╇━━━━━━━━━━━━━━━┩\n",
       "│ flatten (<span style=\"color: #0087ff; text-decoration-color: #0087ff\">Flatten</span>)               │ (<span style=\"color: #00d7ff; text-decoration-color: #00d7ff\">None</span>, <span style=\"color: #00af00; text-decoration-color: #00af00\">96</span>)             │             <span style=\"color: #00af00; text-decoration-color: #00af00\">0</span> │\n",
       "├─────────────────────────────────┼────────────────────────┼───────────────┤\n",
       "│ dense (<span style=\"color: #0087ff; text-decoration-color: #0087ff\">Dense</span>)                   │ (<span style=\"color: #00d7ff; text-decoration-color: #00d7ff\">None</span>, <span style=\"color: #00af00; text-decoration-color: #00af00\">256</span>)            │        <span style=\"color: #00af00; text-decoration-color: #00af00\">24,832</span> │\n",
       "├─────────────────────────────────┼────────────────────────┼───────────────┤\n",
       "│ dense_1 (<span style=\"color: #0087ff; text-decoration-color: #0087ff\">Dense</span>)                 │ (<span style=\"color: #00d7ff; text-decoration-color: #00d7ff\">None</span>, <span style=\"color: #00af00; text-decoration-color: #00af00\">128</span>)            │        <span style=\"color: #00af00; text-decoration-color: #00af00\">32,896</span> │\n",
       "├─────────────────────────────────┼────────────────────────┼───────────────┤\n",
       "│ dense_2 (<span style=\"color: #0087ff; text-decoration-color: #0087ff\">Dense</span>)                 │ (<span style=\"color: #00d7ff; text-decoration-color: #00d7ff\">None</span>, <span style=\"color: #00af00; text-decoration-color: #00af00\">64</span>)             │         <span style=\"color: #00af00; text-decoration-color: #00af00\">8,256</span> │\n",
       "├─────────────────────────────────┼────────────────────────┼───────────────┤\n",
       "│ dense_3 (<span style=\"color: #0087ff; text-decoration-color: #0087ff\">Dense</span>)                 │ (<span style=\"color: #00d7ff; text-decoration-color: #00d7ff\">None</span>, <span style=\"color: #00af00; text-decoration-color: #00af00\">1</span>)              │            <span style=\"color: #00af00; text-decoration-color: #00af00\">65</span> │\n",
       "└─────────────────────────────────┴────────────────────────┴───────────────┘\n",
       "</pre>\n"
      ],
      "text/plain": [
       "┏━━━━━━━━━━━━━━━━━━━━━━━━━━━━━━━━━┳━━━━━━━━━━━━━━━━━━━━━━━━┳━━━━━━━━━━━━━━━┓\n",
       "┃\u001b[1m \u001b[0m\u001b[1mLayer (type)                   \u001b[0m\u001b[1m \u001b[0m┃\u001b[1m \u001b[0m\u001b[1mOutput Shape          \u001b[0m\u001b[1m \u001b[0m┃\u001b[1m \u001b[0m\u001b[1m      Param #\u001b[0m\u001b[1m \u001b[0m┃\n",
       "┡━━━━━━━━━━━━━━━━━━━━━━━━━━━━━━━━━╇━━━━━━━━━━━━━━━━━━━━━━━━╇━━━━━━━━━━━━━━━┩\n",
       "│ flatten (\u001b[38;5;33mFlatten\u001b[0m)               │ (\u001b[38;5;45mNone\u001b[0m, \u001b[38;5;34m96\u001b[0m)             │             \u001b[38;5;34m0\u001b[0m │\n",
       "├─────────────────────────────────┼────────────────────────┼───────────────┤\n",
       "│ dense (\u001b[38;5;33mDense\u001b[0m)                   │ (\u001b[38;5;45mNone\u001b[0m, \u001b[38;5;34m256\u001b[0m)            │        \u001b[38;5;34m24,832\u001b[0m │\n",
       "├─────────────────────────────────┼────────────────────────┼───────────────┤\n",
       "│ dense_1 (\u001b[38;5;33mDense\u001b[0m)                 │ (\u001b[38;5;45mNone\u001b[0m, \u001b[38;5;34m128\u001b[0m)            │        \u001b[38;5;34m32,896\u001b[0m │\n",
       "├─────────────────────────────────┼────────────────────────┼───────────────┤\n",
       "│ dense_2 (\u001b[38;5;33mDense\u001b[0m)                 │ (\u001b[38;5;45mNone\u001b[0m, \u001b[38;5;34m64\u001b[0m)             │         \u001b[38;5;34m8,256\u001b[0m │\n",
       "├─────────────────────────────────┼────────────────────────┼───────────────┤\n",
       "│ dense_3 (\u001b[38;5;33mDense\u001b[0m)                 │ (\u001b[38;5;45mNone\u001b[0m, \u001b[38;5;34m1\u001b[0m)              │            \u001b[38;5;34m65\u001b[0m │\n",
       "└─────────────────────────────────┴────────────────────────┴───────────────┘\n"
      ]
     },
     "metadata": {},
     "output_type": "display_data"
    },
    {
     "data": {
      "text/html": [
       "<pre style=\"white-space:pre;overflow-x:auto;line-height:normal;font-family:Menlo,'DejaVu Sans Mono',consolas,'Courier New',monospace\"><span style=\"font-weight: bold\"> Total params: </span><span style=\"color: #00af00; text-decoration-color: #00af00\">66,049</span> (258.00 KB)\n",
       "</pre>\n"
      ],
      "text/plain": [
       "\u001b[1m Total params: \u001b[0m\u001b[38;5;34m66,049\u001b[0m (258.00 KB)\n"
      ]
     },
     "metadata": {},
     "output_type": "display_data"
    },
    {
     "data": {
      "text/html": [
       "<pre style=\"white-space:pre;overflow-x:auto;line-height:normal;font-family:Menlo,'DejaVu Sans Mono',consolas,'Courier New',monospace\"><span style=\"font-weight: bold\"> Trainable params: </span><span style=\"color: #00af00; text-decoration-color: #00af00\">66,049</span> (258.00 KB)\n",
       "</pre>\n"
      ],
      "text/plain": [
       "\u001b[1m Trainable params: \u001b[0m\u001b[38;5;34m66,049\u001b[0m (258.00 KB)\n"
      ]
     },
     "metadata": {},
     "output_type": "display_data"
    },
    {
     "data": {
      "text/html": [
       "<pre style=\"white-space:pre;overflow-x:auto;line-height:normal;font-family:Menlo,'DejaVu Sans Mono',consolas,'Courier New',monospace\"><span style=\"font-weight: bold\"> Non-trainable params: </span><span style=\"color: #00af00; text-decoration-color: #00af00\">0</span> (0.00 B)\n",
       "</pre>\n"
      ],
      "text/plain": [
       "\u001b[1m Non-trainable params: \u001b[0m\u001b[38;5;34m0\u001b[0m (0.00 B)\n"
      ]
     },
     "metadata": {},
     "output_type": "display_data"
    }
   ],
   "source": [
    "# Define model architecture\n",
    "layer_sizes = [256, 128, 64]\n",
    "\n",
    "# Create the model\n",
    "model_wrapper = ModelWrapper(input_shape, layer_sizes)\n",
    "model_wrapper.model.summary()"
   ]
  },
  {
   "cell_type": "code",
   "execution_count": 4,
   "metadata": {},
   "outputs": [
    {
     "name": "stderr",
     "output_type": "stream",
     "text": [
      "2024-10-21 11:50:48,485 - INFO - Optimizer set to: SGDOptimizer\n"
     ]
    },
    {
     "ename": "NameError",
     "evalue": "name 'GeneticAlgorithmOptimizer' is not defined",
     "output_type": "error",
     "traceback": [
      "\u001b[0;31m---------------------------------------------------------------------------\u001b[0m",
      "\u001b[0;31mNameError\u001b[0m                                 Traceback (most recent call last)",
      "Cell \u001b[0;32mIn[4], line 4\u001b[0m\n\u001b[1;32m      2\u001b[0m sgd_optimizer \u001b[38;5;241m=\u001b[39m SGDOptimizer(learning_rate\u001b[38;5;241m=\u001b[39m\u001b[38;5;241m0.001\u001b[39m, momentum\u001b[38;5;241m=\u001b[39m\u001b[38;5;241m0.9\u001b[39m, epochs\u001b[38;5;241m=\u001b[39m\u001b[38;5;241m20\u001b[39m)\n\u001b[1;32m      3\u001b[0m model_wrapper\u001b[38;5;241m.\u001b[39mset_optimizer(sgd_optimizer)\n\u001b[0;32m----> 4\u001b[0m sgd_history \u001b[38;5;241m=\u001b[39m \u001b[43mmodel_wrapper\u001b[49m\u001b[38;5;241;43m.\u001b[39;49m\u001b[43mtrain\u001b[49m\u001b[43m(\u001b[49m\u001b[43mtrain_generator\u001b[49m\u001b[43m,\u001b[49m\u001b[43m \u001b[49m\u001b[43mval_generator\u001b[49m\u001b[43m,\u001b[49m\u001b[43m \u001b[49m\u001b[43mresults_dir\u001b[49m\u001b[38;5;241;43m=\u001b[39;49m\u001b[43mresults_dir\u001b[49m\u001b[43m)\u001b[49m\n",
      "File \u001b[0;32m~/computational-intelligence/notebooks/../src/models.py:88\u001b[0m, in \u001b[0;36mModelWrapper.train\u001b[0;34m(self, train_generator, val_generator, scaler_y, results_dir, **kwargs)\u001b[0m\n\u001b[1;32m     85\u001b[0m     \u001b[38;5;28;01mraise\u001b[39;00m \u001b[38;5;167;01mValueError\u001b[39;00m(\u001b[38;5;124m\"\u001b[39m\u001b[38;5;124mOptimizer not set. Use set_optimizer() to assign an optimizer.\u001b[39m\u001b[38;5;124m\"\u001b[39m)\n\u001b[1;32m     87\u001b[0m \u001b[38;5;66;03m# Optimize the model\u001b[39;00m\n\u001b[0;32m---> 88\u001b[0m \u001b[38;5;28;01mif\u001b[39;00m \u001b[38;5;28misinstance\u001b[39m(\u001b[38;5;28mself\u001b[39m\u001b[38;5;241m.\u001b[39moptimizer, \u001b[43mGeneticAlgorithmOptimizer\u001b[49m):\n\u001b[1;32m     89\u001b[0m     \u001b[38;5;66;03m# Pass scaler_y to optimize method\u001b[39;00m\n\u001b[1;32m     90\u001b[0m     \u001b[38;5;28mself\u001b[39m\u001b[38;5;241m.\u001b[39moptimizer\u001b[38;5;241m.\u001b[39moptimize(\u001b[38;5;28mself\u001b[39m\u001b[38;5;241m.\u001b[39mmodel, train_generator, val_generator, scaler_y, results_dir\u001b[38;5;241m=\u001b[39mresults_dir, \u001b[38;5;241m*\u001b[39m\u001b[38;5;241m*\u001b[39mkwargs)\n\u001b[1;32m     91\u001b[0m \u001b[38;5;28;01melse\u001b[39;00m:\n\u001b[1;32m     92\u001b[0m     \u001b[38;5;66;03m# For optimizers that don't require scaler_y\u001b[39;00m\n",
      "\u001b[0;31mNameError\u001b[0m: name 'GeneticAlgorithmOptimizer' is not defined"
     ]
    }
   ],
   "source": [
    "# Pretrain the model using SGD with momentum\n",
    "sgd_optimizer = SGDOptimizer(learning_rate=0.001, momentum=0.9, epochs=20)\n",
    "model_wrapper.set_optimizer(sgd_optimizer)\n",
    "sgd_history = model_wrapper.train(train_generator, val_generator, results_dir=results_dir)"
   ]
  },
  {
   "cell_type": "code",
   "execution_count": null,
   "metadata": {},
   "outputs": [],
   "source": [
    "# Evaluate the model after pretraining\n",
    "test_loss_sgd = model_wrapper.evaluate(test_generator)\n",
    "print(f\"Test Loss after SGD pretraining: {test_loss_sgd:.4f}\")\n",
    "\n",
    "# Evaluate the model on the validation set before GA optimization\n",
    "val_X, val_y = extract_data_from_generator(val_generator)\n",
    "y_pred_val = model_wrapper.predict(val_X)\n",
    "val_y_actual = scaler_y.inverse_transform(val_y)\n",
    "y_pred_val_actual = scaler_y.inverse_transform(y_pred_val)\n",
    "\n",
    "# Compute MSE\n",
    "initial_mse = mean_squared_error(val_y_actual.flatten(), y_pred_val_actual.flatten())\n",
    "\n",
    "print(f\"Initial MSE on validation set before GA optimization: {initial_mse:.4f}\")"
   ]
  },
  {
   "cell_type": "code",
   "execution_count": null,
   "metadata": {},
   "outputs": [],
   "source": [
    "# Now set the GA optimizer for further training\n",
    "ga_optimizer_params = {\n",
    "    \"population_size\": 25,\n",
    "    \"generations\": 100,\n",
    "    \"tournament_size\": 3,\n",
    "    \"mutation_rate\": 0.01,\n",
    "    \"mutation_scale\": 0.1,\n",
    "    \"patience\": 10\n",
    "}\n",
    "ga_optimizer = GeneticAlgorithmOptimizer(**ga_optimizer_params)\n",
    "model_wrapper.set_optimizer(ga_optimizer)"
   ]
  },
  {
   "cell_type": "code",
   "execution_count": null,
   "metadata": {},
   "outputs": [],
   "source": [
    "# Further train the model using GA optimizer\n",
    "model_wrapper.train(train_generator, val_generator, scaler_y=scaler_y, results_dir=results_dir)"
   ]
  },
  {
   "cell_type": "code",
   "execution_count": null,
   "metadata": {},
   "outputs": [],
   "source": [
    "# Evaluate the model after GA optimization\n",
    "test_loss_ga = model_wrapper.evaluate(test_generator)\n",
    "print(f\"Test Loss after GA optimization: {test_loss_ga:.4f}\")"
   ]
  },
  {
   "cell_type": "code",
   "execution_count": null,
   "metadata": {},
   "outputs": [],
   "source": [
    "# Evaluate the model after GA optimization\n",
    "test_loss_ga = model_wrapper.evaluate(test_generator)\n",
    "print(f\"Test Loss after GA optimization: {test_loss_ga:.4f}\")\n",
    "\n",
    "# Generate predictions\n",
    "test_X, test_y = extract_data_from_generator(test_generator)\n",
    "y_pred_scaled = model_wrapper.predict(test_X)\n",
    "\n",
    "# Inverse transform the predictions\n",
    "test_predictions = scaler_y.inverse_transform(y_pred_scaled)\n",
    "test_actual = scaler_y.inverse_transform(test_y)\n",
    "\n",
    "# Flatten arrays\n",
    "test_actual_flat = test_actual.flatten()\n",
    "test_predictions_flat = test_predictions.flatten()\n",
    "\n",
    "# Calculate evaluation metrics\n",
    "from sklearn.metrics import mean_squared_error, r2_score\n",
    "mse = mean_squared_error(test_actual_flat, test_predictions_flat)\n",
    "rmse = np.sqrt(mse)\n",
    "r2 = r2_score(test_actual_flat, test_predictions_flat)\n",
    "\n",
    "print(\"\\nEvaluation Results:\")\n",
    "print(f\"Test MSE: {mse:.4f}\")\n",
    "print(f\"Test RMSE: {rmse:.4f}\")\n",
    "print(f\"Test R2 Score: {r2:.4f}\")"
   ]
  },
  {
   "cell_type": "code",
   "execution_count": null,
   "metadata": {},
   "outputs": [],
   "source": [
    "# Save the model's weights\n",
    "model_save_path = os.path.join(results_dir, 'best_model.weights.h5')\n",
    "model_wrapper.model.save_weights(model_save_path)\n",
    "print(f\"Model weights saved to: {model_save_path}\")\n",
    "\n",
    "# Plot predictions and save\n",
    "plot_predictions(\n",
    "    test_actual_flat,\n",
    "    test_predictions_flat,\n",
    "    \"Hybrid SGD-GA Model Predictions\",\n",
    "    save_path=os.path.join(results_dir, 'hybrid_sgd_ga_predictions.png')\n",
    ")\n",
    "\n",
    "# Plot fitness history\n",
    "fitness_history = ga_optimizer.fitness_history\n",
    "plot_fitness_history(\n",
    "    fitness_history,\n",
    "    save_path=os.path.join(results_dir, 'hybrid_sgd_ga_fitness_history.png')\n",
    ")\n",
    "\n",
    "# Time series plot of predicted vs actual power over time and save\n",
    "plot_time_series_predictions(\n",
    "    test_actual_flat,\n",
    "    test_predictions_flat,\n",
    "    title=\"Hybrid SGD-GA Model Time Series Predictions\",\n",
    "    save_path=os.path.join(results_dir, 'hybrid_sgd_ga_time_series_predictions.png')\n",
    ")"
   ]
  }
 ],
 "metadata": {
  "kernelspec": {
   "display_name": "venv",
   "language": "python",
   "name": "python3"
  },
  "language_info": {
   "codemirror_mode": {
    "name": "ipython",
    "version": 3
   },
   "file_extension": ".py",
   "mimetype": "text/x-python",
   "name": "python",
   "nbconvert_exporter": "python",
   "pygments_lexer": "ipython3",
   "version": "3.12.3"
  }
 },
 "nbformat": 4,
 "nbformat_minor": 4
}
