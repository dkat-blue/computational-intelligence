{
 "cells": [
  {
   "cell_type": "code",
   "execution_count": 1,
   "metadata": {},
   "outputs": [
    {
     "name": "stderr",
     "output_type": "stream",
     "text": [
      "2024-11-04 15:51:02.966281: I tensorflow/core/util/port.cc:153] oneDNN custom operations are on. You may see slightly different numerical results due to floating-point round-off errors from different computation orders. To turn them off, set the environment variable `TF_ENABLE_ONEDNN_OPTS=0`.\n",
      "2024-11-04 15:51:02.974905: E external/local_xla/xla/stream_executor/cuda/cuda_fft.cc:485] Unable to register cuFFT factory: Attempting to register factory for plugin cuFFT when one has already been registered\n",
      "2024-11-04 15:51:02.983231: E external/local_xla/xla/stream_executor/cuda/cuda_dnn.cc:8454] Unable to register cuDNN factory: Attempting to register factory for plugin cuDNN when one has already been registered\n",
      "2024-11-04 15:51:02.985642: E external/local_xla/xla/stream_executor/cuda/cuda_blas.cc:1452] Unable to register cuBLAS factory: Attempting to register factory for plugin cuBLAS when one has already been registered\n",
      "2024-11-04 15:51:02.992711: I tensorflow/core/platform/cpu_feature_guard.cc:210] This TensorFlow binary is optimized to use available CPU instructions in performance-critical operations.\n",
      "To enable the following instructions: AVX2 AVX512F AVX512_VNNI AVX512_BF16 FMA, in other operations, rebuild TensorFlow with the appropriate compiler flags.\n",
      "2024-11-04 15:51:03.964467: W tensorflow/compiler/tf2tensorrt/utils/py_utils.cc:38] TF-TRT Warning: Could not find TensorRT\n"
     ]
    }
   ],
   "source": [
    "# Import necessary libraries\n",
    "import os\n",
    "import sys\n",
    "import json\n",
    "import numpy as np\n",
    "import pandas as pd\n",
    "from datetime import datetime\n",
    "import tensorflow as tf\n",
    "from sklearn.metrics import mean_squared_error, r2_score\n",
    "from tensorflow.keras.callbacks import EarlyStopping, ReduceLROnPlateau\n",
    "\n",
    "# Add parent directory to Python path\n",
    "sys.path.append('..')\n",
    "\n",
    "# Import our modules\n",
    "from src.data import DataProcessor\n",
    "from src.models import ModelWrapper\n",
    "from src.visualization import plot_training_history, plot_power_predictions\n",
    "from src.utils import set_seeds"
   ]
  },
  {
   "cell_type": "code",
   "execution_count": 2,
   "metadata": {},
   "outputs": [
    {
     "name": "stderr",
     "output_type": "stream",
     "text": [
      "2024-11-04 15:51:07,850 - INFO - Random seeds set to 42\n"
     ]
    }
   ],
   "source": [
    "# Set random seed for reproducibility\n",
    "set_seeds(42)"
   ]
  },
  {
   "cell_type": "code",
   "execution_count": 3,
   "metadata": {},
   "outputs": [],
   "source": [
    "# Create results directory\n",
    "results_dir = os.path.join('..', 'results', datetime.now().strftime('%Y%m%d_%H%M%S'))\n",
    "os.makedirs(results_dir, exist_ok=True)"
   ]
  },
  {
   "cell_type": "code",
   "execution_count": 5,
   "metadata": {},
   "outputs": [
    {
     "name": "stdout",
     "output_type": "stream",
     "text": [
      "\n",
      "Data Ranges (scaled):\n",
      "Training   - X: (98101, 15, 11), y: min=0.0000, max=1.0000\n",
      "Validation - X: (28029, 15, 11), y: min=0.0000, max=0.9971\n",
      "Test      - X: (14015, 15, 11), y: min=0.0000, max=0.9969\n",
      "\n",
      "Temporal Split Check:\n",
      "Training period: 2013-01-02 00:00:00 to 2015-10-20 21:00:00\n",
      "Validation period: 2015-10-20 21:00:00 to 2016-08-07 20:00:00\n",
      "\n",
      "Data Shapes:\n",
      "Training data: (None, 15, 11)\n",
      "Validation data: (None, 15, 11)\n",
      "Test data: (None, 15, 11)\n"
     ]
    }
   ],
   "source": [
    "# Step 1: Load and Process Data\n",
    "file_path = '../data/raw/Train.csv'\n",
    "target_column = 'Power'\n",
    "\n",
    "# Initialize Data Processor and prepare data\n",
    "data_processor = DataProcessor(file_path, target_column)\n",
    "train_data, val_data, test_data = data_processor.prepare_data()\n",
    "\n",
    "# Print data shapes for verification\n",
    "print(\"\\nData Shapes:\")\n",
    "print(f\"Training data: {train_data.element_spec[0].shape}\")\n",
    "print(f\"Validation data: {val_data.element_spec[0].shape}\")\n",
    "print(f\"Test data: {test_data.element_spec[0].shape}\")"
   ]
  },
  {
   "cell_type": "code",
   "execution_count": 6,
   "metadata": {},
   "outputs": [
    {
     "name": "stderr",
     "output_type": "stream",
     "text": [
      "/home/dkat/courses/computational-intelligence/venv/lib/python3.12/site-packages/keras/src/layers/rnn/rnn.py:204: UserWarning: Do not pass an `input_shape`/`input_dim` argument to a layer. When using Sequential models, prefer using an `Input(shape)` object as the first layer in the model instead.\n",
      "  super().__init__(**kwargs)\n"
     ]
    },
    {
     "data": {
      "text/html": [
       "<pre style=\"white-space:pre;overflow-x:auto;line-height:normal;font-family:Menlo,'DejaVu Sans Mono',consolas,'Courier New',monospace\"><span style=\"font-weight: bold\">Model: \"sequential\"</span>\n",
       "</pre>\n"
      ],
      "text/plain": [
       "\u001b[1mModel: \"sequential\"\u001b[0m\n"
      ]
     },
     "metadata": {},
     "output_type": "display_data"
    },
    {
     "data": {
      "text/html": [
       "<pre style=\"white-space:pre;overflow-x:auto;line-height:normal;font-family:Menlo,'DejaVu Sans Mono',consolas,'Courier New',monospace\">┏━━━━━━━━━━━━━━━━━━━━━━━━━━━━━━━━━┳━━━━━━━━━━━━━━━━━━━━━━━━┳━━━━━━━━━━━━━━━┓\n",
       "┃<span style=\"font-weight: bold\"> Layer (type)                    </span>┃<span style=\"font-weight: bold\"> Output Shape           </span>┃<span style=\"font-weight: bold\">       Param # </span>┃\n",
       "┡━━━━━━━━━━━━━━━━━━━━━━━━━━━━━━━━━╇━━━━━━━━━━━━━━━━━━━━━━━━╇━━━━━━━━━━━━━━━┩\n",
       "│ lstm (<span style=\"color: #0087ff; text-decoration-color: #0087ff\">LSTM</span>)                     │ (<span style=\"color: #00d7ff; text-decoration-color: #00d7ff\">None</span>, <span style=\"color: #00af00; text-decoration-color: #00af00\">15</span>, <span style=\"color: #00af00; text-decoration-color: #00af00\">64</span>)         │        <span style=\"color: #00af00; text-decoration-color: #00af00\">19,456</span> │\n",
       "├─────────────────────────────────┼────────────────────────┼───────────────┤\n",
       "│ dropout (<span style=\"color: #0087ff; text-decoration-color: #0087ff\">Dropout</span>)               │ (<span style=\"color: #00d7ff; text-decoration-color: #00d7ff\">None</span>, <span style=\"color: #00af00; text-decoration-color: #00af00\">15</span>, <span style=\"color: #00af00; text-decoration-color: #00af00\">64</span>)         │             <span style=\"color: #00af00; text-decoration-color: #00af00\">0</span> │\n",
       "├─────────────────────────────────┼────────────────────────┼───────────────┤\n",
       "│ lstm_1 (<span style=\"color: #0087ff; text-decoration-color: #0087ff\">LSTM</span>)                   │ (<span style=\"color: #00d7ff; text-decoration-color: #00d7ff\">None</span>, <span style=\"color: #00af00; text-decoration-color: #00af00\">32</span>)             │        <span style=\"color: #00af00; text-decoration-color: #00af00\">12,416</span> │\n",
       "├─────────────────────────────────┼────────────────────────┼───────────────┤\n",
       "│ dropout_1 (<span style=\"color: #0087ff; text-decoration-color: #0087ff\">Dropout</span>)             │ (<span style=\"color: #00d7ff; text-decoration-color: #00d7ff\">None</span>, <span style=\"color: #00af00; text-decoration-color: #00af00\">32</span>)             │             <span style=\"color: #00af00; text-decoration-color: #00af00\">0</span> │\n",
       "├─────────────────────────────────┼────────────────────────┼───────────────┤\n",
       "│ dense (<span style=\"color: #0087ff; text-decoration-color: #0087ff\">Dense</span>)                   │ (<span style=\"color: #00d7ff; text-decoration-color: #00d7ff\">None</span>, <span style=\"color: #00af00; text-decoration-color: #00af00\">1</span>)              │            <span style=\"color: #00af00; text-decoration-color: #00af00\">33</span> │\n",
       "└─────────────────────────────────┴────────────────────────┴───────────────┘\n",
       "</pre>\n"
      ],
      "text/plain": [
       "┏━━━━━━━━━━━━━━━━━━━━━━━━━━━━━━━━━┳━━━━━━━━━━━━━━━━━━━━━━━━┳━━━━━━━━━━━━━━━┓\n",
       "┃\u001b[1m \u001b[0m\u001b[1mLayer (type)                   \u001b[0m\u001b[1m \u001b[0m┃\u001b[1m \u001b[0m\u001b[1mOutput Shape          \u001b[0m\u001b[1m \u001b[0m┃\u001b[1m \u001b[0m\u001b[1m      Param #\u001b[0m\u001b[1m \u001b[0m┃\n",
       "┡━━━━━━━━━━━━━━━━━━━━━━━━━━━━━━━━━╇━━━━━━━━━━━━━━━━━━━━━━━━╇━━━━━━━━━━━━━━━┩\n",
       "│ lstm (\u001b[38;5;33mLSTM\u001b[0m)                     │ (\u001b[38;5;45mNone\u001b[0m, \u001b[38;5;34m15\u001b[0m, \u001b[38;5;34m64\u001b[0m)         │        \u001b[38;5;34m19,456\u001b[0m │\n",
       "├─────────────────────────────────┼────────────────────────┼───────────────┤\n",
       "│ dropout (\u001b[38;5;33mDropout\u001b[0m)               │ (\u001b[38;5;45mNone\u001b[0m, \u001b[38;5;34m15\u001b[0m, \u001b[38;5;34m64\u001b[0m)         │             \u001b[38;5;34m0\u001b[0m │\n",
       "├─────────────────────────────────┼────────────────────────┼───────────────┤\n",
       "│ lstm_1 (\u001b[38;5;33mLSTM\u001b[0m)                   │ (\u001b[38;5;45mNone\u001b[0m, \u001b[38;5;34m32\u001b[0m)             │        \u001b[38;5;34m12,416\u001b[0m │\n",
       "├─────────────────────────────────┼────────────────────────┼───────────────┤\n",
       "│ dropout_1 (\u001b[38;5;33mDropout\u001b[0m)             │ (\u001b[38;5;45mNone\u001b[0m, \u001b[38;5;34m32\u001b[0m)             │             \u001b[38;5;34m0\u001b[0m │\n",
       "├─────────────────────────────────┼────────────────────────┼───────────────┤\n",
       "│ dense (\u001b[38;5;33mDense\u001b[0m)                   │ (\u001b[38;5;45mNone\u001b[0m, \u001b[38;5;34m1\u001b[0m)              │            \u001b[38;5;34m33\u001b[0m │\n",
       "└─────────────────────────────────┴────────────────────────┴───────────────┘\n"
      ]
     },
     "metadata": {},
     "output_type": "display_data"
    },
    {
     "data": {
      "text/html": [
       "<pre style=\"white-space:pre;overflow-x:auto;line-height:normal;font-family:Menlo,'DejaVu Sans Mono',consolas,'Courier New',monospace\"><span style=\"font-weight: bold\"> Total params: </span><span style=\"color: #00af00; text-decoration-color: #00af00\">31,905</span> (124.63 KB)\n",
       "</pre>\n"
      ],
      "text/plain": [
       "\u001b[1m Total params: \u001b[0m\u001b[38;5;34m31,905\u001b[0m (124.63 KB)\n"
      ]
     },
     "metadata": {},
     "output_type": "display_data"
    },
    {
     "data": {
      "text/html": [
       "<pre style=\"white-space:pre;overflow-x:auto;line-height:normal;font-family:Menlo,'DejaVu Sans Mono',consolas,'Courier New',monospace\"><span style=\"font-weight: bold\"> Trainable params: </span><span style=\"color: #00af00; text-decoration-color: #00af00\">31,905</span> (124.63 KB)\n",
       "</pre>\n"
      ],
      "text/plain": [
       "\u001b[1m Trainable params: \u001b[0m\u001b[38;5;34m31,905\u001b[0m (124.63 KB)\n"
      ]
     },
     "metadata": {},
     "output_type": "display_data"
    },
    {
     "data": {
      "text/html": [
       "<pre style=\"white-space:pre;overflow-x:auto;line-height:normal;font-family:Menlo,'DejaVu Sans Mono',consolas,'Courier New',monospace\"><span style=\"font-weight: bold\"> Non-trainable params: </span><span style=\"color: #00af00; text-decoration-color: #00af00\">0</span> (0.00 B)\n",
       "</pre>\n"
      ],
      "text/plain": [
       "\u001b[1m Non-trainable params: \u001b[0m\u001b[38;5;34m0\u001b[0m (0.00 B)\n"
      ]
     },
     "metadata": {},
     "output_type": "display_data"
    }
   ],
   "source": [
    "# Step 2: Initialize Model\n",
    "model_wrapper = ModelWrapper(\n",
    "    input_shape=(train_data.element_spec[0].shape[1], train_data.element_spec[0].shape[2])\n",
    ")\n",
    "\n",
    "# Display model architecture\n",
    "model_wrapper.model.summary()"
   ]
  },
  {
   "cell_type": "code",
   "execution_count": 7,
   "metadata": {},
   "outputs": [
    {
     "name": "stdout",
     "output_type": "stream",
     "text": [
      "\n",
      "Training model...\n",
      "Epoch 1/50\n"
     ]
    },
    {
     "name": "stderr",
     "output_type": "stream",
     "text": [
      "2024-11-04 15:51:23.106859: I external/local_xla/xla/stream_executor/cuda/cuda_dnn.cc:531] Loaded cuDNN version 8907\n"
     ]
    },
    {
     "name": "stdout",
     "output_type": "stream",
     "text": [
      "\u001b[1m3066/3066\u001b[0m \u001b[32m━━━━━━━━━━━━━━━━━━━━\u001b[0m\u001b[37m\u001b[0m \u001b[1m22s\u001b[0m 7ms/step - loss: 0.1331 - mae: 0.1889 - val_loss: 0.0461 - val_mae: 0.1745 - learning_rate: 0.0010\n",
      "Epoch 2/50\n",
      "\u001b[1m3066/3066\u001b[0m \u001b[32m━━━━━━━━━━━━━━━━━━━━\u001b[0m\u001b[37m\u001b[0m \u001b[1m18s\u001b[0m 6ms/step - loss: 0.0438 - mae: 0.1652 - val_loss: 0.0426 - val_mae: 0.1639 - learning_rate: 0.0010\n",
      "Epoch 3/50\n",
      "\u001b[1m3066/3066\u001b[0m \u001b[32m━━━━━━━━━━━━━━━━━━━━\u001b[0m\u001b[37m\u001b[0m \u001b[1m21s\u001b[0m 7ms/step - loss: 0.0413 - mae: 0.1602 - val_loss: 0.0410 - val_mae: 0.1593 - learning_rate: 0.0010\n",
      "Epoch 4/50\n",
      "\u001b[1m3066/3066\u001b[0m \u001b[32m━━━━━━━━━━━━━━━━━━━━\u001b[0m\u001b[37m\u001b[0m \u001b[1m18s\u001b[0m 6ms/step - loss: 0.0404 - mae: 0.1585 - val_loss: 0.0402 - val_mae: 0.1559 - learning_rate: 0.0010\n",
      "Epoch 5/50\n",
      "\u001b[1m3066/3066\u001b[0m \u001b[32m━━━━━━━━━━━━━━━━━━━━\u001b[0m\u001b[37m\u001b[0m \u001b[1m18s\u001b[0m 6ms/step - loss: 0.0395 - mae: 0.1561 - val_loss: 0.0397 - val_mae: 0.1547 - learning_rate: 0.0010\n",
      "Epoch 6/50\n",
      "\u001b[1m3066/3066\u001b[0m \u001b[32m━━━━━━━━━━━━━━━━━━━━\u001b[0m\u001b[37m\u001b[0m \u001b[1m21s\u001b[0m 7ms/step - loss: 0.0385 - mae: 0.1537 - val_loss: 0.0390 - val_mae: 0.1535 - learning_rate: 0.0010\n",
      "Epoch 7/50\n",
      "\u001b[1m3066/3066\u001b[0m \u001b[32m━━━━━━━━━━━━━━━━━━━━\u001b[0m\u001b[37m\u001b[0m \u001b[1m18s\u001b[0m 6ms/step - loss: 0.0377 - mae: 0.1514 - val_loss: 0.0387 - val_mae: 0.1530 - learning_rate: 0.0010\n",
      "Epoch 8/50\n",
      "\u001b[1m3066/3066\u001b[0m \u001b[32m━━━━━━━━━━━━━━━━━━━━\u001b[0m\u001b[37m\u001b[0m \u001b[1m19s\u001b[0m 6ms/step - loss: 0.0370 - mae: 0.1498 - val_loss: 0.0386 - val_mae: 0.1525 - learning_rate: 0.0010\n",
      "Epoch 9/50\n",
      "\u001b[1m3066/3066\u001b[0m \u001b[32m━━━━━━━━━━━━━━━━━━━━\u001b[0m\u001b[37m\u001b[0m \u001b[1m21s\u001b[0m 7ms/step - loss: 0.0363 - mae: 0.1480 - val_loss: 0.0378 - val_mae: 0.1501 - learning_rate: 0.0010\n",
      "Epoch 10/50\n",
      "\u001b[1m3066/3066\u001b[0m \u001b[32m━━━━━━━━━━━━━━━━━━━━\u001b[0m\u001b[37m\u001b[0m \u001b[1m19s\u001b[0m 6ms/step - loss: 0.0358 - mae: 0.1466 - val_loss: 0.0372 - val_mae: 0.1483 - learning_rate: 0.0010\n",
      "Epoch 11/50\n",
      "\u001b[1m3066/3066\u001b[0m \u001b[32m━━━━━━━━━━━━━━━━━━━━\u001b[0m\u001b[37m\u001b[0m \u001b[1m19s\u001b[0m 6ms/step - loss: 0.0354 - mae: 0.1454 - val_loss: 0.0368 - val_mae: 0.1468 - learning_rate: 0.0010\n",
      "Epoch 12/50\n",
      "\u001b[1m3066/3066\u001b[0m \u001b[32m━━━━━━━━━━━━━━━━━━━━\u001b[0m\u001b[37m\u001b[0m \u001b[1m21s\u001b[0m 7ms/step - loss: 0.0349 - mae: 0.1439 - val_loss: 0.0367 - val_mae: 0.1468 - learning_rate: 0.0010\n",
      "Epoch 13/50\n",
      "\u001b[1m3066/3066\u001b[0m \u001b[32m━━━━━━━━━━━━━━━━━━━━\u001b[0m\u001b[37m\u001b[0m \u001b[1m18s\u001b[0m 6ms/step - loss: 0.0344 - mae: 0.1427 - val_loss: 0.0365 - val_mae: 0.1454 - learning_rate: 0.0010\n",
      "Epoch 14/50\n",
      "\u001b[1m3066/3066\u001b[0m \u001b[32m━━━━━━━━━━━━━━━━━━━━\u001b[0m\u001b[37m\u001b[0m \u001b[1m18s\u001b[0m 6ms/step - loss: 0.0341 - mae: 0.1416 - val_loss: 0.0359 - val_mae: 0.1451 - learning_rate: 0.0010\n",
      "Epoch 15/50\n",
      "\u001b[1m3066/3066\u001b[0m \u001b[32m━━━━━━━━━━━━━━━━━━━━\u001b[0m\u001b[37m\u001b[0m \u001b[1m20s\u001b[0m 7ms/step - loss: 0.0337 - mae: 0.1404 - val_loss: 0.0355 - val_mae: 0.1430 - learning_rate: 0.0010\n",
      "Epoch 16/50\n",
      "\u001b[1m3066/3066\u001b[0m \u001b[32m━━━━━━━━━━━━━━━━━━━━\u001b[0m\u001b[37m\u001b[0m \u001b[1m18s\u001b[0m 6ms/step - loss: 0.0334 - mae: 0.1396 - val_loss: 0.0349 - val_mae: 0.1413 - learning_rate: 0.0010\n",
      "Epoch 17/50\n",
      "\u001b[1m3066/3066\u001b[0m \u001b[32m━━━━━━━━━━━━━━━━━━━━\u001b[0m\u001b[37m\u001b[0m \u001b[1m21s\u001b[0m 7ms/step - loss: 0.0329 - mae: 0.1385 - val_loss: 0.0349 - val_mae: 0.1416 - learning_rate: 0.0010\n",
      "Epoch 18/50\n",
      "\u001b[1m3066/3066\u001b[0m \u001b[32m━━━━━━━━━━━━━━━━━━━━\u001b[0m\u001b[37m\u001b[0m \u001b[1m19s\u001b[0m 6ms/step - loss: 0.0327 - mae: 0.1377 - val_loss: 0.0348 - val_mae: 0.1409 - learning_rate: 0.0010\n",
      "Epoch 19/50\n",
      "\u001b[1m3066/3066\u001b[0m \u001b[32m━━━━━━━━━━━━━━━━━━━━\u001b[0m\u001b[37m\u001b[0m \u001b[1m18s\u001b[0m 6ms/step - loss: 0.0323 - mae: 0.1365 - val_loss: 0.0344 - val_mae: 0.1389 - learning_rate: 0.0010\n",
      "Epoch 20/50\n",
      "\u001b[1m3066/3066\u001b[0m \u001b[32m━━━━━━━━━━━━━━━━━━━━\u001b[0m\u001b[37m\u001b[0m \u001b[1m20s\u001b[0m 7ms/step - loss: 0.0319 - mae: 0.1355 - val_loss: 0.0344 - val_mae: 0.1386 - learning_rate: 0.0010\n",
      "Epoch 21/50\n",
      "\u001b[1m3066/3066\u001b[0m \u001b[32m━━━━━━━━━━━━━━━━━━━━\u001b[0m\u001b[37m\u001b[0m \u001b[1m18s\u001b[0m 6ms/step - loss: 0.0316 - mae: 0.1349 - val_loss: 0.0339 - val_mae: 0.1377 - learning_rate: 0.0010\n",
      "Epoch 22/50\n",
      "\u001b[1m3066/3066\u001b[0m \u001b[32m━━━━━━━━━━━━━━━━━━━━\u001b[0m\u001b[37m\u001b[0m \u001b[1m18s\u001b[0m 6ms/step - loss: 0.0314 - mae: 0.1340 - val_loss: 0.0339 - val_mae: 0.1357 - learning_rate: 0.0010\n",
      "Epoch 23/50\n",
      "\u001b[1m3066/3066\u001b[0m \u001b[32m━━━━━━━━━━━━━━━━━━━━\u001b[0m\u001b[37m\u001b[0m \u001b[1m20s\u001b[0m 7ms/step - loss: 0.0312 - mae: 0.1336 - val_loss: 0.0338 - val_mae: 0.1367 - learning_rate: 0.0010\n",
      "Epoch 24/50\n",
      "\u001b[1m3066/3066\u001b[0m \u001b[32m━━━━━━━━━━━━━━━━━━━━\u001b[0m\u001b[37m\u001b[0m \u001b[1m18s\u001b[0m 6ms/step - loss: 0.0310 - mae: 0.1331 - val_loss: 0.0341 - val_mae: 0.1383 - learning_rate: 0.0010\n",
      "Epoch 25/50\n",
      "\u001b[1m3066/3066\u001b[0m \u001b[32m━━━━━━━━━━━━━━━━━━━━\u001b[0m\u001b[37m\u001b[0m \u001b[1m20s\u001b[0m 7ms/step - loss: 0.0298 - mae: 0.1306 - val_loss: 0.0330 - val_mae: 0.1337 - learning_rate: 5.0000e-04\n",
      "Epoch 26/50\n",
      "\u001b[1m3066/3066\u001b[0m \u001b[32m━━━━━━━━━━━━━━━━━━━━\u001b[0m\u001b[37m\u001b[0m \u001b[1m18s\u001b[0m 6ms/step - loss: 0.0294 - mae: 0.1296 - val_loss: 0.0330 - val_mae: 0.1332 - learning_rate: 5.0000e-04\n",
      "Epoch 27/50\n",
      "\u001b[1m3066/3066\u001b[0m \u001b[32m━━━━━━━━━━━━━━━━━━━━\u001b[0m\u001b[37m\u001b[0m \u001b[1m18s\u001b[0m 6ms/step - loss: 0.0292 - mae: 0.1292 - val_loss: 0.0330 - val_mae: 0.1339 - learning_rate: 5.0000e-04\n",
      "Epoch 28/50\n",
      "\u001b[1m3066/3066\u001b[0m \u001b[32m━━━━━━━━━━━━━━━━━━━━\u001b[0m\u001b[37m\u001b[0m \u001b[1m21s\u001b[0m 7ms/step - loss: 0.0290 - mae: 0.1287 - val_loss: 0.0331 - val_mae: 0.1328 - learning_rate: 5.0000e-04\n",
      "Epoch 29/50\n",
      "\u001b[1m3066/3066\u001b[0m \u001b[32m━━━━━━━━━━━━━━━━━━━━\u001b[0m\u001b[37m\u001b[0m \u001b[1m18s\u001b[0m 6ms/step - loss: 0.0284 - mae: 0.1276 - val_loss: 0.0326 - val_mae: 0.1320 - learning_rate: 2.5000e-04\n",
      "Epoch 30/50\n",
      "\u001b[1m3066/3066\u001b[0m \u001b[32m━━━━━━━━━━━━━━━━━━━━\u001b[0m\u001b[37m\u001b[0m \u001b[1m18s\u001b[0m 6ms/step - loss: 0.0282 - mae: 0.1272 - val_loss: 0.0326 - val_mae: 0.1315 - learning_rate: 2.5000e-04\n",
      "Epoch 31/50\n",
      "\u001b[1m3066/3066\u001b[0m \u001b[32m━━━━━━━━━━━━━━━━━━━━\u001b[0m\u001b[37m\u001b[0m \u001b[1m20s\u001b[0m 7ms/step - loss: 0.0281 - mae: 0.1271 - val_loss: 0.0326 - val_mae: 0.1320 - learning_rate: 2.5000e-04\n",
      "Epoch 32/50\n",
      "\u001b[1m3066/3066\u001b[0m \u001b[32m━━━━━━━━━━━━━━━━━━━━\u001b[0m\u001b[37m\u001b[0m \u001b[1m18s\u001b[0m 6ms/step - loss: 0.0279 - mae: 0.1267 - val_loss: 0.0327 - val_mae: 0.1317 - learning_rate: 2.5000e-04\n",
      "Epoch 33/50\n",
      "\u001b[1m3066/3066\u001b[0m \u001b[32m━━━━━━━━━━━━━━━━━━━━\u001b[0m\u001b[37m\u001b[0m \u001b[1m18s\u001b[0m 6ms/step - loss: 0.0276 - mae: 0.1260 - val_loss: 0.0324 - val_mae: 0.1317 - learning_rate: 1.2500e-04\n",
      "Epoch 34/50\n",
      "\u001b[1m3066/3066\u001b[0m \u001b[32m━━━━━━━━━━━━━━━━━━━━\u001b[0m\u001b[37m\u001b[0m \u001b[1m20s\u001b[0m 7ms/step - loss: 0.0275 - mae: 0.1260 - val_loss: 0.0324 - val_mae: 0.1317 - learning_rate: 1.2500e-04\n",
      "Epoch 35/50\n",
      "\u001b[1m3066/3066\u001b[0m \u001b[32m━━━━━━━━━━━━━━━━━━━━\u001b[0m\u001b[37m\u001b[0m \u001b[1m18s\u001b[0m 6ms/step - loss: 0.0274 - mae: 0.1255 - val_loss: 0.0324 - val_mae: 0.1320 - learning_rate: 1.2500e-04\n",
      "Epoch 36/50\n",
      "\u001b[1m3066/3066\u001b[0m \u001b[32m━━━━━━━━━━━━━━━━━━━━\u001b[0m\u001b[37m\u001b[0m \u001b[1m20s\u001b[0m 7ms/step - loss: 0.0274 - mae: 0.1255 - val_loss: 0.0325 - val_mae: 0.1315 - learning_rate: 1.2500e-04\n",
      "Epoch 37/50\n",
      "\u001b[1m3066/3066\u001b[0m \u001b[32m━━━━━━━━━━━━━━━━━━━━\u001b[0m\u001b[37m\u001b[0m \u001b[1m18s\u001b[0m 6ms/step - loss: 0.0272 - mae: 0.1251 - val_loss: 0.0322 - val_mae: 0.1311 - learning_rate: 6.2500e-05\n",
      "Epoch 38/50\n",
      "\u001b[1m3066/3066\u001b[0m \u001b[32m━━━━━━━━━━━━━━━━━━━━\u001b[0m\u001b[37m\u001b[0m \u001b[1m18s\u001b[0m 6ms/step - loss: 0.0272 - mae: 0.1252 - val_loss: 0.0323 - val_mae: 0.1312 - learning_rate: 6.2500e-05\n",
      "Epoch 39/50\n",
      "\u001b[1m3066/3066\u001b[0m \u001b[32m━━━━━━━━━━━━━━━━━━━━\u001b[0m\u001b[37m\u001b[0m \u001b[1m20s\u001b[0m 7ms/step - loss: 0.0271 - mae: 0.1248 - val_loss: 0.0323 - val_mae: 0.1314 - learning_rate: 6.2500e-05\n",
      "Epoch 40/50\n",
      "\u001b[1m3066/3066\u001b[0m \u001b[32m━━━━━━━━━━━━━━━━━━━━\u001b[0m\u001b[37m\u001b[0m \u001b[1m18s\u001b[0m 6ms/step - loss: 0.0271 - mae: 0.1248 - val_loss: 0.0322 - val_mae: 0.1310 - learning_rate: 6.2500e-05\n",
      "Epoch 41/50\n",
      "\u001b[1m3066/3066\u001b[0m \u001b[32m━━━━━━━━━━━━━━━━━━━━\u001b[0m\u001b[37m\u001b[0m \u001b[1m20s\u001b[0m 7ms/step - loss: 0.0269 - mae: 0.1244 - val_loss: 0.0322 - val_mae: 0.1311 - learning_rate: 3.1250e-05\n",
      "Epoch 42/50\n",
      "\u001b[1m3066/3066\u001b[0m \u001b[32m━━━━━━━━━━━━━━━━━━━━\u001b[0m\u001b[37m\u001b[0m \u001b[1m18s\u001b[0m 6ms/step - loss: 0.0269 - mae: 0.1245 - val_loss: 0.0322 - val_mae: 0.1312 - learning_rate: 3.1250e-05\n",
      "Epoch 43/50\n",
      "\u001b[1m3066/3066\u001b[0m \u001b[32m━━━━━━━━━━━━━━━━━━━━\u001b[0m\u001b[37m\u001b[0m \u001b[1m18s\u001b[0m 6ms/step - loss: 0.0269 - mae: 0.1245 - val_loss: 0.0322 - val_mae: 0.1312 - learning_rate: 3.1250e-05\n",
      "Epoch 44/50\n",
      "\u001b[1m3066/3066\u001b[0m \u001b[32m━━━━━━━━━━━━━━━━━━━━\u001b[0m\u001b[37m\u001b[0m \u001b[1m20s\u001b[0m 7ms/step - loss: 0.0270 - mae: 0.1249 - val_loss: 0.0321 - val_mae: 0.1308 - learning_rate: 1.5625e-05\n",
      "Epoch 45/50\n",
      "\u001b[1m3066/3066\u001b[0m \u001b[32m━━━━━━━━━━━━━━━━━━━━\u001b[0m\u001b[37m\u001b[0m \u001b[1m18s\u001b[0m 6ms/step - loss: 0.0269 - mae: 0.1247 - val_loss: 0.0321 - val_mae: 0.1308 - learning_rate: 1.5625e-05\n",
      "Epoch 46/50\n",
      "\u001b[1m3066/3066\u001b[0m \u001b[32m━━━━━━━━━━━━━━━━━━━━\u001b[0m\u001b[37m\u001b[0m \u001b[1m18s\u001b[0m 6ms/step - loss: 0.0268 - mae: 0.1245 - val_loss: 0.0322 - val_mae: 0.1308 - learning_rate: 1.5625e-05\n",
      "Epoch 47/50\n",
      "\u001b[1m3066/3066\u001b[0m \u001b[32m━━━━━━━━━━━━━━━━━━━━\u001b[0m\u001b[37m\u001b[0m \u001b[1m20s\u001b[0m 7ms/step - loss: 0.0269 - mae: 0.1246 - val_loss: 0.0321 - val_mae: 0.1309 - learning_rate: 1.0000e-05\n",
      "Epoch 48/50\n",
      "\u001b[1m3066/3066\u001b[0m \u001b[32m━━━━━━━━━━━━━━━━━━━━\u001b[0m\u001b[37m\u001b[0m \u001b[1m18s\u001b[0m 6ms/step - loss: 0.0267 - mae: 0.1242 - val_loss: 0.0321 - val_mae: 0.1308 - learning_rate: 1.0000e-05\n",
      "Epoch 49/50\n",
      "\u001b[1m3066/3066\u001b[0m \u001b[32m━━━━━━━━━━━━━━━━━━━━\u001b[0m\u001b[37m\u001b[0m \u001b[1m20s\u001b[0m 7ms/step - loss: 0.0268 - mae: 0.1245 - val_loss: 0.0321 - val_mae: 0.1308 - learning_rate: 1.0000e-05\n",
      "Epoch 50/50\n",
      "\u001b[1m3066/3066\u001b[0m \u001b[32m━━━━━━━━━━━━━━━━━━━━\u001b[0m\u001b[37m\u001b[0m \u001b[1m18s\u001b[0m 6ms/step - loss: 0.0268 - mae: 0.1245 - val_loss: 0.0321 - val_mae: 0.1308 - learning_rate: 1.0000e-05\n"
     ]
    }
   ],
   "source": [
    "# Step 3: Train Model\n",
    "print(\"\\nTraining model...\")\n",
    "history = model_wrapper.fit(train_data, val_data)"
   ]
  },
  {
   "cell_type": "code",
   "execution_count": 8,
   "metadata": {},
   "outputs": [
    {
     "name": "stderr",
     "output_type": "stream",
     "text": [
      "2024-11-04 16:07:17,766 - WARNING - Seaborn style not found. Using default style.\n",
      "2024-11-04 16:07:17,767 - INFO - Plot style set\n",
      "2024-11-04 16:07:17,832 - INFO - Training history plot saved to ../results/20241104_155109/training_history.png\n"
     ]
    },
    {
     "name": "stdout",
     "output_type": "stream",
     "text": [
      "\n",
      "Plotting training history...\n"
     ]
    }
   ],
   "source": [
    "# Step 4: Visualize Training History\n",
    "print(\"\\nPlotting training history...\")\n",
    "plot_training_history(\n",
    "    history.history, \n",
    "    save_path=os.path.join(results_dir, 'training_history.png')\n",
    ")"
   ]
  },
  {
   "cell_type": "code",
   "execution_count": 9,
   "metadata": {},
   "outputs": [
    {
     "name": "stdout",
     "output_type": "stream",
     "text": [
      "\n",
      "Evaluating model on test set...\n",
      "\u001b[1m438/438\u001b[0m \u001b[32m━━━━━━━━━━━━━━━━━━━━\u001b[0m\u001b[37m\u001b[0m \u001b[1m1s\u001b[0m 3ms/step - loss: 0.0255 - mae: 0.1169\n",
      "Test Loss: [0.03417302295565605, 0.1351407766342163]\n"
     ]
    }
   ],
   "source": [
    "# Step 5: Evaluate on Test Set\n",
    "print(\"\\nEvaluating model on test set...\")\n",
    "test_loss = model_wrapper.model.evaluate(test_data, verbose=1)\n",
    "print(f\"Test Loss: {test_loss}\")"
   ]
  },
  {
   "cell_type": "code",
   "execution_count": 12,
   "metadata": {},
   "outputs": [
    {
     "name": "stdout",
     "output_type": "stream",
     "text": [
      "\n",
      "Generating predictions...\n",
      "\u001b[1m438/438\u001b[0m \u001b[32m━━━━━━━━━━━━━━━━━━━━\u001b[0m\u001b[37m\u001b[0m \u001b[1m1s\u001b[0m 2ms/step\n"
     ]
    },
    {
     "name": "stderr",
     "output_type": "stream",
     "text": [
      "2024-11-04 16:09:23.439722: I tensorflow/core/framework/local_rendezvous.cc:404] Local rendezvous is aborting with status: OUT_OF_RANGE: End of sequence\n",
      "2024-11-04 16:09:23,442 - WARNING - Seaborn style not found. Using default style.\n",
      "2024-11-04 16:09:23,443 - INFO - Plot style set\n"
     ]
    },
    {
     "name": "stdout",
     "output_type": "stream",
     "text": [
      "\n",
      "Shapes:\n",
      "predictions shape: (14015, 1)\n",
      "test_actual shape: (14015,)\n",
      "timestamps shape: (14015,)\n",
      "predictions_unscaled shape: (14015, 1)\n",
      "actual_unscaled shape: (14015, 1)\n",
      "\n",
      "Plotting predictions...\n"
     ]
    },
    {
     "name": "stderr",
     "output_type": "stream",
     "text": [
      "2024-11-04 16:09:24,245 - INFO - Power predictions plot saved to ../results/20241104_155109/predictions.png\n"
     ]
    }
   ],
   "source": [
    "# Step 6: Generate Predictions\n",
    "print(\"\\nGenerating predictions...\")\n",
    "predictions = model_wrapper.model.predict(test_data)\n",
    "\n",
    "# Extract actual values from test dataset\n",
    "test_actual = np.concatenate([y for x, y in test_data], axis=0)\n",
    "\n",
    "# Get corresponding timestamps (using the last 10% of the data for test set)\n",
    "total_samples = len(data_processor.data)\n",
    "test_size = int(total_samples * 0.1)  # 10% test split\n",
    "# Adjust timestamps to match predictions length\n",
    "test_timestamps = data_processor.data.iloc[-len(test_actual):]['Time'].values\n",
    "\n",
    "# Print shapes for debugging\n",
    "print(\"\\nShapes:\")\n",
    "print(f\"predictions shape: {predictions.shape}\")\n",
    "print(f\"test_actual shape: {test_actual.shape}\")\n",
    "print(f\"timestamps shape: {test_timestamps.shape}\")\n",
    "\n",
    "# Inverse transform predictions and actual values for proper comparison\n",
    "predictions_unscaled = data_processor.target_scaler.inverse_transform(predictions)\n",
    "actual_unscaled = data_processor.target_scaler.inverse_transform(test_actual.reshape(-1, 1))\n",
    "\n",
    "print(f\"predictions_unscaled shape: {predictions_unscaled.shape}\")\n",
    "print(f\"actual_unscaled shape: {actual_unscaled.shape}\")\n",
    "\n",
    "# Step 7: Visualize Predictions\n",
    "print(\"\\nPlotting predictions...\")\n",
    "plot_power_predictions(\n",
    "    actual=actual_unscaled.flatten(),\n",
    "    predicted=predictions_unscaled.flatten(),\n",
    "    timestamps=test_timestamps,\n",
    "    save_path=os.path.join(results_dir, 'predictions.png')\n",
    ")"
   ]
  },
  {
   "cell_type": "code",
   "execution_count": 13,
   "metadata": {},
   "outputs": [
    {
     "name": "stderr",
     "output_type": "stream",
     "text": [
      "2024-11-04 16:09:27,862 - WARNING - Seaborn style not found. Using default style.\n",
      "2024-11-04 16:09:27,863 - INFO - Plot style set\n"
     ]
    },
    {
     "name": "stdout",
     "output_type": "stream",
     "text": [
      "\n",
      "Plotting predictions...\n"
     ]
    },
    {
     "name": "stderr",
     "output_type": "stream",
     "text": [
      "2024-11-04 16:09:28,640 - INFO - Power predictions plot saved to ../results/20241104_155109/predictions.png\n"
     ]
    }
   ],
   "source": [
    "# Step 7: Visualize Predictions\n",
    "print(\"\\nPlotting predictions...\")\n",
    "plot_power_predictions(\n",
    "    actual=actual_unscaled.flatten(),\n",
    "    predicted=predictions_unscaled.flatten(),\n",
    "    timestamps=test_timestamps,\n",
    "    save_path=os.path.join(results_dir, 'predictions.png')\n",
    ")"
   ]
  },
  {
   "cell_type": "code",
   "execution_count": 17,
   "metadata": {},
   "outputs": [
    {
     "name": "stdout",
     "output_type": "stream",
     "text": [
      "\n",
      "Saving model and results...\n",
      "\n",
      "Final Test Metrics:\n",
      "MSE: 0.0332\n",
      "RMSE: 0.1822\n",
      "R²: 0.4635\n",
      "MAE: 0.1336\n",
      "\n",
      "Results saved in: ../results/20241104_155109\n"
     ]
    },
    {
     "name": "stderr",
     "output_type": "stream",
     "text": [
      "2024-11-04 16:16:18.282766: I tensorflow/core/framework/local_rendezvous.cc:404] Local rendezvous is aborting with status: OUT_OF_RANGE: End of sequence\n"
     ]
    }
   ],
   "source": [
    "# Step 8: Save Model and Results\n",
    "print(\"\\nSaving model and results...\")\n",
    "\n",
    "# Save model weights\n",
    "model_weights_path = os.path.join(results_dir, 'model.weights.h5')\n",
    "model_wrapper.model.save_weights(model_weights_path)\n",
    "\n",
    "# Save model architecture\n",
    "model_json = model_wrapper.model.to_json()\n",
    "with open(os.path.join(results_dir, 'model_architecture.json'), 'w') as f:\n",
    "    f.write(model_json)\n",
    "\n",
    "# Save training history\n",
    "with open(os.path.join(results_dir, 'training_history.json'), 'w') as f:\n",
    "    json.dump(history.history, f)\n",
    "\n",
    "# Calculate comprehensive metrics\n",
    "mse = mean_squared_error(actual_unscaled, predictions_unscaled)\n",
    "rmse = np.sqrt(mse)\n",
    "r2 = r2_score(actual_unscaled, predictions_unscaled)\n",
    "mae = np.mean(np.abs(predictions_unscaled - actual_unscaled))\n",
    "\n",
    "# Get model evaluation metrics\n",
    "test_metrics = model_wrapper.model.evaluate(test_data, verbose=0)\n",
    "test_loss = test_metrics[0] if isinstance(test_metrics, list) else test_metrics\n",
    "\n",
    "# Get configuration details\n",
    "model_config = {\n",
    "    'look_back': 15,  # from data processor\n",
    "    'lstm_units': [64, 32],  # from model architecture\n",
    "    'dropout_rate': 0.2,\n",
    "    'learning_rate': 0.001,\n",
    "    'batch_size': 32,\n",
    "    'early_stopping_patience': 5,\n",
    "    'reduce_lr_factor': 0.5,\n",
    "    'reduce_lr_patience': 3,\n",
    "    'min_lr': 1e-5\n",
    "}\n",
    "\n",
    "# Calculate dataset sizes\n",
    "train_size = sum(1 for _ in train_data)\n",
    "val_size = sum(1 for _ in val_data)\n",
    "test_size = sum(1 for _ in test_data)\n",
    "\n",
    "# Save all results\n",
    "results = {\n",
    "    'model_config': model_config,\n",
    "    'test_metrics': {\n",
    "        'loss': float(test_loss),\n",
    "        'mse': float(mse),\n",
    "        'rmse': float(rmse),\n",
    "        'r2': float(r2),\n",
    "        'mae': float(mae)\n",
    "    },\n",
    "    'data_info': {\n",
    "        'train_size': train_size,\n",
    "        'val_size': val_size,\n",
    "        'test_size': test_size,\n",
    "        'features': list(data_processor.data.columns),\n",
    "        'target': target_column\n",
    "    },\n",
    "    'training_info': {\n",
    "        'final_epoch': len(history.history['loss']),\n",
    "        'best_val_loss': float(min(history.history['val_loss'])),\n",
    "        'final_val_loss': float(history.history['val_loss'][-1])\n",
    "    },\n",
    "    'timestamp': datetime.now().strftime('%Y-%m-%d %H:%M:%S')\n",
    "}\n",
    "\n",
    "# Save all results\n",
    "with open(os.path.join(results_dir, 'results.json'), 'w') as f:\n",
    "    json.dump(results, f, indent=4)\n",
    "\n",
    "# Print final metrics\n",
    "print(\"\\nFinal Test Metrics:\")\n",
    "print(f\"MSE: {mse:.4f}\")\n",
    "print(f\"RMSE: {rmse:.4f}\")\n",
    "print(f\"R²: {r2:.4f}\")\n",
    "print(f\"MAE: {mae:.4f}\")\n",
    "\n",
    "print(f\"\\nResults saved in: {results_dir}\")\n",
    "\n",
    "# Save scaled data ranges for future reference\n",
    "data_ranges = {\n",
    "    'input_features': {\n",
    "        'min': float(data_processor.scaler.data_min_[0]),\n",
    "        'max': float(data_processor.scaler.data_max_[0])\n",
    "    },\n",
    "    'target': {\n",
    "        'min': float(data_processor.target_scaler.data_min_[0]),\n",
    "        'max': float(data_processor.target_scaler.data_max_[0])\n",
    "    }\n",
    "}\n",
    "\n",
    "with open(os.path.join(results_dir, 'data_ranges.json'), 'w') as f:\n",
    "    json.dump(data_ranges, f, indent=4)"
   ]
  }
 ],
 "metadata": {
  "kernelspec": {
   "display_name": "venv",
   "language": "python",
   "name": "python3"
  },
  "language_info": {
   "codemirror_mode": {
    "name": "ipython",
    "version": 3
   },
   "file_extension": ".py",
   "mimetype": "text/x-python",
   "name": "python",
   "nbconvert_exporter": "python",
   "pygments_lexer": "ipython3",
   "version": "3.12.3"
  }
 },
 "nbformat": 4,
 "nbformat_minor": 4
}
