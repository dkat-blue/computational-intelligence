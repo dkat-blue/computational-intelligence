{
 "cells": [
  {
   "cell_type": "code",
   "execution_count": 2,
   "metadata": {},
   "outputs": [],
   "source": [
    "# Import necessary libraries\n",
    "import os\n",
    "import sys\n",
    "import json\n",
    "import numpy as np\n",
    "import pandas as pd\n",
    "from datetime import datetime\n",
    "import tensorflow as tf\n",
    "from sklearn.metrics import mean_squared_error, r2_score\n",
    "from tensorflow.keras.callbacks import EarlyStopping, ReduceLROnPlateau\n",
    "\n",
    "# Add parent directory to Python path\n",
    "sys.path.append('..')\n",
    "\n",
    "# Import our modules\n",
    "from src.data import DataProcessor\n",
    "from src.models import ModelWrapper\n",
    "from src.visualization import plot_training_history, plot_power_predictions\n",
    "from src.utils import set_seeds"
   ]
  },
  {
   "cell_type": "code",
   "execution_count": 3,
   "metadata": {},
   "outputs": [
    {
     "name": "stderr",
     "output_type": "stream",
     "text": [
      "2024-11-04 14:58:16,812 - INFO - Random seeds set to 42\n"
     ]
    }
   ],
   "source": [
    "# Set random seed for reproducibility\n",
    "set_seeds(42)"
   ]
  },
  {
   "cell_type": "code",
   "execution_count": null,
   "metadata": {},
   "outputs": [],
   "source": [
    "# Create results directory\n",
    "results_dir = os.path.join('..', 'results', datetime.now().strftime('%Y%m%d_%H%M%S'))\n",
    "os.makedirs(results_dir, exist_ok=True)"
   ]
  },
  {
   "cell_type": "code",
   "execution_count": 6,
   "metadata": {},
   "outputs": [
    {
     "name": "stdout",
     "output_type": "stream",
     "text": [
      "\n",
      "Data Ranges (scaled):\n",
      "Training   - X: (98101, 15, 11), y: min=0.0000, max=1.0000\n",
      "Validation - X: (28029, 15, 11), y: min=0.0000, max=0.9971\n",
      "Test      - X: (14015, 15, 11), y: min=0.0000, max=0.9969\n",
      "\n",
      "Temporal Split Check:\n",
      "Training period: 2013-01-02 00:00:00 to 2015-10-20 21:00:00\n",
      "Validation period: 2015-10-20 21:00:00 to 2016-08-07 20:00:00\n",
      "\n",
      "Data Shapes:\n",
      "Training data: (None, 15, 11)\n",
      "Validation data: (None, 15, 11)\n",
      "Test data: (None, 15, 11)\n"
     ]
    }
   ],
   "source": [
    "# Step 1: Load and Process Data\n",
    "file_path = '../data/raw/Train.csv'\n",
    "target_column = 'Power'\n",
    "\n",
    "# Initialize Data Processor\n",
    "data_processor = DataProcessor(file_path, target_column)\n",
    "train_data, val_data, test_data = data_processor.prepare_data()\n",
    "\n",
    "# Print data shapes for verification\n",
    "print(\"\\nData Shapes:\")\n",
    "print(f\"Training data: {train_data.element_spec[0].shape}\")\n",
    "print(f\"Validation data: {val_data.element_spec[0].shape}\")\n",
    "print(f\"Test data: {test_data.element_spec[0].shape}\")"
   ]
  },
  {
   "cell_type": "code",
   "execution_count": 8,
   "metadata": {},
   "outputs": [
    {
     "data": {
      "text/html": [
       "<pre style=\"white-space:pre;overflow-x:auto;line-height:normal;font-family:Menlo,'DejaVu Sans Mono',consolas,'Courier New',monospace\"><span style=\"font-weight: bold\">Model: \"sequential_1\"</span>\n",
       "</pre>\n"
      ],
      "text/plain": [
       "\u001b[1mModel: \"sequential_1\"\u001b[0m\n"
      ]
     },
     "metadata": {},
     "output_type": "display_data"
    },
    {
     "data": {
      "text/html": [
       "<pre style=\"white-space:pre;overflow-x:auto;line-height:normal;font-family:Menlo,'DejaVu Sans Mono',consolas,'Courier New',monospace\">┏━━━━━━━━━━━━━━━━━━━━━━━━━━━━━━━━━┳━━━━━━━━━━━━━━━━━━━━━━━━┳━━━━━━━━━━━━━━━┓\n",
       "┃<span style=\"font-weight: bold\"> Layer (type)                    </span>┃<span style=\"font-weight: bold\"> Output Shape           </span>┃<span style=\"font-weight: bold\">       Param # </span>┃\n",
       "┡━━━━━━━━━━━━━━━━━━━━━━━━━━━━━━━━━╇━━━━━━━━━━━━━━━━━━━━━━━━╇━━━━━━━━━━━━━━━┩\n",
       "│ lstm_2 (<span style=\"color: #0087ff; text-decoration-color: #0087ff\">LSTM</span>)                   │ (<span style=\"color: #00d7ff; text-decoration-color: #00d7ff\">None</span>, <span style=\"color: #00af00; text-decoration-color: #00af00\">15</span>, <span style=\"color: #00af00; text-decoration-color: #00af00\">64</span>)         │        <span style=\"color: #00af00; text-decoration-color: #00af00\">19,456</span> │\n",
       "├─────────────────────────────────┼────────────────────────┼───────────────┤\n",
       "│ dropout_2 (<span style=\"color: #0087ff; text-decoration-color: #0087ff\">Dropout</span>)             │ (<span style=\"color: #00d7ff; text-decoration-color: #00d7ff\">None</span>, <span style=\"color: #00af00; text-decoration-color: #00af00\">15</span>, <span style=\"color: #00af00; text-decoration-color: #00af00\">64</span>)         │             <span style=\"color: #00af00; text-decoration-color: #00af00\">0</span> │\n",
       "├─────────────────────────────────┼────────────────────────┼───────────────┤\n",
       "│ lstm_3 (<span style=\"color: #0087ff; text-decoration-color: #0087ff\">LSTM</span>)                   │ (<span style=\"color: #00d7ff; text-decoration-color: #00d7ff\">None</span>, <span style=\"color: #00af00; text-decoration-color: #00af00\">32</span>)             │        <span style=\"color: #00af00; text-decoration-color: #00af00\">12,416</span> │\n",
       "├─────────────────────────────────┼────────────────────────┼───────────────┤\n",
       "│ dropout_3 (<span style=\"color: #0087ff; text-decoration-color: #0087ff\">Dropout</span>)             │ (<span style=\"color: #00d7ff; text-decoration-color: #00d7ff\">None</span>, <span style=\"color: #00af00; text-decoration-color: #00af00\">32</span>)             │             <span style=\"color: #00af00; text-decoration-color: #00af00\">0</span> │\n",
       "├─────────────────────────────────┼────────────────────────┼───────────────┤\n",
       "│ dense_1 (<span style=\"color: #0087ff; text-decoration-color: #0087ff\">Dense</span>)                 │ (<span style=\"color: #00d7ff; text-decoration-color: #00d7ff\">None</span>, <span style=\"color: #00af00; text-decoration-color: #00af00\">1</span>)              │            <span style=\"color: #00af00; text-decoration-color: #00af00\">33</span> │\n",
       "└─────────────────────────────────┴────────────────────────┴───────────────┘\n",
       "</pre>\n"
      ],
      "text/plain": [
       "┏━━━━━━━━━━━━━━━━━━━━━━━━━━━━━━━━━┳━━━━━━━━━━━━━━━━━━━━━━━━┳━━━━━━━━━━━━━━━┓\n",
       "┃\u001b[1m \u001b[0m\u001b[1mLayer (type)                   \u001b[0m\u001b[1m \u001b[0m┃\u001b[1m \u001b[0m\u001b[1mOutput Shape          \u001b[0m\u001b[1m \u001b[0m┃\u001b[1m \u001b[0m\u001b[1m      Param #\u001b[0m\u001b[1m \u001b[0m┃\n",
       "┡━━━━━━━━━━━━━━━━━━━━━━━━━━━━━━━━━╇━━━━━━━━━━━━━━━━━━━━━━━━╇━━━━━━━━━━━━━━━┩\n",
       "│ lstm_2 (\u001b[38;5;33mLSTM\u001b[0m)                   │ (\u001b[38;5;45mNone\u001b[0m, \u001b[38;5;34m15\u001b[0m, \u001b[38;5;34m64\u001b[0m)         │        \u001b[38;5;34m19,456\u001b[0m │\n",
       "├─────────────────────────────────┼────────────────────────┼───────────────┤\n",
       "│ dropout_2 (\u001b[38;5;33mDropout\u001b[0m)             │ (\u001b[38;5;45mNone\u001b[0m, \u001b[38;5;34m15\u001b[0m, \u001b[38;5;34m64\u001b[0m)         │             \u001b[38;5;34m0\u001b[0m │\n",
       "├─────────────────────────────────┼────────────────────────┼───────────────┤\n",
       "│ lstm_3 (\u001b[38;5;33mLSTM\u001b[0m)                   │ (\u001b[38;5;45mNone\u001b[0m, \u001b[38;5;34m32\u001b[0m)             │        \u001b[38;5;34m12,416\u001b[0m │\n",
       "├─────────────────────────────────┼────────────────────────┼───────────────┤\n",
       "│ dropout_3 (\u001b[38;5;33mDropout\u001b[0m)             │ (\u001b[38;5;45mNone\u001b[0m, \u001b[38;5;34m32\u001b[0m)             │             \u001b[38;5;34m0\u001b[0m │\n",
       "├─────────────────────────────────┼────────────────────────┼───────────────┤\n",
       "│ dense_1 (\u001b[38;5;33mDense\u001b[0m)                 │ (\u001b[38;5;45mNone\u001b[0m, \u001b[38;5;34m1\u001b[0m)              │            \u001b[38;5;34m33\u001b[0m │\n",
       "└─────────────────────────────────┴────────────────────────┴───────────────┘\n"
      ]
     },
     "metadata": {},
     "output_type": "display_data"
    },
    {
     "data": {
      "text/html": [
       "<pre style=\"white-space:pre;overflow-x:auto;line-height:normal;font-family:Menlo,'DejaVu Sans Mono',consolas,'Courier New',monospace\"><span style=\"font-weight: bold\"> Total params: </span><span style=\"color: #00af00; text-decoration-color: #00af00\">31,905</span> (124.63 KB)\n",
       "</pre>\n"
      ],
      "text/plain": [
       "\u001b[1m Total params: \u001b[0m\u001b[38;5;34m31,905\u001b[0m (124.63 KB)\n"
      ]
     },
     "metadata": {},
     "output_type": "display_data"
    },
    {
     "data": {
      "text/html": [
       "<pre style=\"white-space:pre;overflow-x:auto;line-height:normal;font-family:Menlo,'DejaVu Sans Mono',consolas,'Courier New',monospace\"><span style=\"font-weight: bold\"> Trainable params: </span><span style=\"color: #00af00; text-decoration-color: #00af00\">31,905</span> (124.63 KB)\n",
       "</pre>\n"
      ],
      "text/plain": [
       "\u001b[1m Trainable params: \u001b[0m\u001b[38;5;34m31,905\u001b[0m (124.63 KB)\n"
      ]
     },
     "metadata": {},
     "output_type": "display_data"
    },
    {
     "data": {
      "text/html": [
       "<pre style=\"white-space:pre;overflow-x:auto;line-height:normal;font-family:Menlo,'DejaVu Sans Mono',consolas,'Courier New',monospace\"><span style=\"font-weight: bold\"> Non-trainable params: </span><span style=\"color: #00af00; text-decoration-color: #00af00\">0</span> (0.00 B)\n",
       "</pre>\n"
      ],
      "text/plain": [
       "\u001b[1m Non-trainable params: \u001b[0m\u001b[38;5;34m0\u001b[0m (0.00 B)\n"
      ]
     },
     "metadata": {},
     "output_type": "display_data"
    }
   ],
   "source": [
    "# Step 2: Initialize Model\n",
    "model_wrapper = ModelWrapper(\n",
    "    input_shape=(train_data.element_spec[0].shape[1], train_data.element_spec[0].shape[2])\n",
    ")\n",
    "\n",
    "# Display model architecture\n",
    "model_wrapper.model.summary()"
   ]
  },
  {
   "cell_type": "code",
   "execution_count": 9,
   "metadata": {},
   "outputs": [
    {
     "name": "stdout",
     "output_type": "stream",
     "text": [
      "\n",
      "Training model...\n",
      "Epoch 1/50\n"
     ]
    },
    {
     "name": "stderr",
     "output_type": "stream",
     "text": [
      "2024-11-04 14:58:49.475147: I external/local_xla/xla/stream_executor/cuda/cuda_dnn.cc:531] Loaded cuDNN version 8907\n"
     ]
    },
    {
     "name": "stdout",
     "output_type": "stream",
     "text": [
      "\u001b[1m3066/3066\u001b[0m \u001b[32m━━━━━━━━━━━━━━━━━━━━\u001b[0m\u001b[37m\u001b[0m \u001b[1m20s\u001b[0m 6ms/step - loss: 0.1330 - mae: 0.1887 - val_loss: 0.0461 - val_mae: 0.1738 - learning_rate: 0.0010\n",
      "Epoch 2/50\n",
      "\u001b[1m3066/3066\u001b[0m \u001b[32m━━━━━━━━━━━━━━━━━━━━\u001b[0m\u001b[37m\u001b[0m \u001b[1m18s\u001b[0m 6ms/step - loss: 0.0436 - mae: 0.1649 - val_loss: 0.0427 - val_mae: 0.1633 - learning_rate: 0.0010\n",
      "Epoch 3/50\n",
      "\u001b[1m3066/3066\u001b[0m \u001b[32m━━━━━━━━━━━━━━━━━━━━\u001b[0m\u001b[37m\u001b[0m \u001b[1m20s\u001b[0m 7ms/step - loss: 0.0413 - mae: 0.1600 - val_loss: 0.0409 - val_mae: 0.1581 - learning_rate: 0.0010\n",
      "Epoch 4/50\n",
      "\u001b[1m3066/3066\u001b[0m \u001b[32m━━━━━━━━━━━━━━━━━━━━\u001b[0m\u001b[37m\u001b[0m \u001b[1m19s\u001b[0m 6ms/step - loss: 0.0403 - mae: 0.1583 - val_loss: 0.0404 - val_mae: 0.1560 - learning_rate: 0.0010\n",
      "Epoch 5/50\n",
      "\u001b[1m3066/3066\u001b[0m \u001b[32m━━━━━━━━━━━━━━━━━━━━\u001b[0m\u001b[37m\u001b[0m \u001b[1m19s\u001b[0m 6ms/step - loss: 0.0394 - mae: 0.1559 - val_loss: 0.0399 - val_mae: 0.1551 - learning_rate: 0.0010\n",
      "Epoch 6/50\n",
      "\u001b[1m3066/3066\u001b[0m \u001b[32m━━━━━━━━━━━━━━━━━━━━\u001b[0m\u001b[37m\u001b[0m \u001b[1m21s\u001b[0m 7ms/step - loss: 0.0384 - mae: 0.1532 - val_loss: 0.0388 - val_mae: 0.1534 - learning_rate: 0.0010\n",
      "Epoch 7/50\n",
      "\u001b[1m3066/3066\u001b[0m \u001b[32m━━━━━━━━━━━━━━━━━━━━\u001b[0m\u001b[37m\u001b[0m \u001b[1m19s\u001b[0m 6ms/step - loss: 0.0374 - mae: 0.1508 - val_loss: 0.0390 - val_mae: 0.1540 - learning_rate: 0.0010\n",
      "Epoch 8/50\n",
      "\u001b[1m3066/3066\u001b[0m \u001b[32m━━━━━━━━━━━━━━━━━━━━\u001b[0m\u001b[37m\u001b[0m \u001b[1m18s\u001b[0m 6ms/step - loss: 0.0369 - mae: 0.1494 - val_loss: 0.0386 - val_mae: 0.1537 - learning_rate: 0.0010\n",
      "Epoch 9/50\n",
      "\u001b[1m3066/3066\u001b[0m \u001b[32m━━━━━━━━━━━━━━━━━━━━\u001b[0m\u001b[37m\u001b[0m \u001b[1m21s\u001b[0m 7ms/step - loss: 0.0362 - mae: 0.1479 - val_loss: 0.0378 - val_mae: 0.1522 - learning_rate: 0.0010\n",
      "Epoch 10/50\n",
      "\u001b[1m3066/3066\u001b[0m \u001b[32m━━━━━━━━━━━━━━━━━━━━\u001b[0m\u001b[37m\u001b[0m \u001b[1m19s\u001b[0m 6ms/step - loss: 0.0356 - mae: 0.1462 - val_loss: 0.0373 - val_mae: 0.1501 - learning_rate: 0.0010\n",
      "Epoch 11/50\n",
      "\u001b[1m3066/3066\u001b[0m \u001b[32m━━━━━━━━━━━━━━━━━━━━\u001b[0m\u001b[37m\u001b[0m \u001b[1m19s\u001b[0m 6ms/step - loss: 0.0351 - mae: 0.1447 - val_loss: 0.0373 - val_mae: 0.1506 - learning_rate: 0.0010\n",
      "Epoch 12/50\n",
      "\u001b[1m3066/3066\u001b[0m \u001b[32m━━━━━━━━━━━━━━━━━━━━\u001b[0m\u001b[37m\u001b[0m \u001b[1m21s\u001b[0m 7ms/step - loss: 0.0346 - mae: 0.1434 - val_loss: 0.0360 - val_mae: 0.1445 - learning_rate: 0.0010\n",
      "Epoch 13/50\n",
      "\u001b[1m3066/3066\u001b[0m \u001b[32m━━━━━━━━━━━━━━━━━━━━\u001b[0m\u001b[37m\u001b[0m \u001b[1m18s\u001b[0m 6ms/step - loss: 0.0342 - mae: 0.1421 - val_loss: 0.0357 - val_mae: 0.1422 - learning_rate: 0.0010\n",
      "Epoch 14/50\n",
      "\u001b[1m3066/3066\u001b[0m \u001b[32m━━━━━━━━━━━━━━━━━━━━\u001b[0m\u001b[37m\u001b[0m \u001b[1m21s\u001b[0m 7ms/step - loss: 0.0337 - mae: 0.1409 - val_loss: 0.0353 - val_mae: 0.1410 - learning_rate: 0.0010\n",
      "Epoch 15/50\n",
      "\u001b[1m3066/3066\u001b[0m \u001b[32m━━━━━━━━━━━━━━━━━━━━\u001b[0m\u001b[37m\u001b[0m \u001b[1m18s\u001b[0m 6ms/step - loss: 0.0334 - mae: 0.1398 - val_loss: 0.0355 - val_mae: 0.1412 - learning_rate: 0.0010\n",
      "Epoch 16/50\n",
      "\u001b[1m3066/3066\u001b[0m \u001b[32m━━━━━━━━━━━━━━━━━━━━\u001b[0m\u001b[37m\u001b[0m \u001b[1m18s\u001b[0m 6ms/step - loss: 0.0329 - mae: 0.1385 - val_loss: 0.0352 - val_mae: 0.1401 - learning_rate: 0.0010\n",
      "Epoch 17/50\n",
      "\u001b[1m3066/3066\u001b[0m \u001b[32m━━━━━━━━━━━━━━━━━━━━\u001b[0m\u001b[37m\u001b[0m \u001b[1m20s\u001b[0m 7ms/step - loss: 0.0326 - mae: 0.1376 - val_loss: 0.0351 - val_mae: 0.1399 - learning_rate: 0.0010\n",
      "Epoch 18/50\n",
      "\u001b[1m3066/3066\u001b[0m \u001b[32m━━━━━━━━━━━━━━━━━━━━\u001b[0m\u001b[37m\u001b[0m \u001b[1m18s\u001b[0m 6ms/step - loss: 0.0322 - mae: 0.1365 - val_loss: 0.0354 - val_mae: 0.1394 - learning_rate: 0.0010\n",
      "Epoch 19/50\n",
      "\u001b[1m3066/3066\u001b[0m \u001b[32m━━━━━━━━━━━━━━━━━━━━\u001b[0m\u001b[37m\u001b[0m \u001b[1m18s\u001b[0m 6ms/step - loss: 0.0322 - mae: 0.1363 - val_loss: 0.0351 - val_mae: 0.1382 - learning_rate: 0.0010\n",
      "Epoch 20/50\n",
      "\u001b[1m3066/3066\u001b[0m \u001b[32m━━━━━━━━━━━━━━━━━━━━\u001b[0m\u001b[37m\u001b[0m \u001b[1m20s\u001b[0m 7ms/step - loss: 0.0318 - mae: 0.1356 - val_loss: 0.0352 - val_mae: 0.1386 - learning_rate: 0.0010\n",
      "Epoch 21/50\n",
      "\u001b[1m3066/3066\u001b[0m \u001b[32m━━━━━━━━━━━━━━━━━━━━\u001b[0m\u001b[37m\u001b[0m \u001b[1m18s\u001b[0m 6ms/step - loss: 0.0306 - mae: 0.1327 - val_loss: 0.0339 - val_mae: 0.1345 - learning_rate: 5.0000e-04\n",
      "Epoch 22/50\n",
      "\u001b[1m3066/3066\u001b[0m \u001b[32m━━━━━━━━━━━━━━━━━━━━\u001b[0m\u001b[37m\u001b[0m \u001b[1m20s\u001b[0m 7ms/step - loss: 0.0302 - mae: 0.1319 - val_loss: 0.0341 - val_mae: 0.1352 - learning_rate: 5.0000e-04\n",
      "Epoch 23/50\n",
      "\u001b[1m3066/3066\u001b[0m \u001b[32m━━━━━━━━━━━━━━━━━━━━\u001b[0m\u001b[37m\u001b[0m \u001b[1m18s\u001b[0m 6ms/step - loss: 0.0300 - mae: 0.1314 - val_loss: 0.0341 - val_mae: 0.1354 - learning_rate: 5.0000e-04\n",
      "Epoch 24/50\n",
      "\u001b[1m3066/3066\u001b[0m \u001b[32m━━━━━━━━━━━━━━━━━━━━\u001b[0m\u001b[37m\u001b[0m \u001b[1m18s\u001b[0m 6ms/step - loss: 0.0298 - mae: 0.1310 - val_loss: 0.0339 - val_mae: 0.1353 - learning_rate: 5.0000e-04\n",
      "Epoch 25/50\n",
      "\u001b[1m3066/3066\u001b[0m \u001b[32m━━━━━━━━━━━━━━━━━━━━\u001b[0m\u001b[37m\u001b[0m \u001b[1m20s\u001b[0m 7ms/step - loss: 0.0291 - mae: 0.1295 - val_loss: 0.0331 - val_mae: 0.1331 - learning_rate: 2.5000e-04\n",
      "Epoch 26/50\n",
      "\u001b[1m3066/3066\u001b[0m \u001b[32m━━━━━━━━━━━━━━━━━━━━\u001b[0m\u001b[37m\u001b[0m \u001b[1m19s\u001b[0m 6ms/step - loss: 0.0289 - mae: 0.1290 - val_loss: 0.0330 - val_mae: 0.1333 - learning_rate: 2.5000e-04\n",
      "Epoch 27/50\n",
      "\u001b[1m3066/3066\u001b[0m \u001b[32m━━━━━━━━━━━━━━━━━━━━\u001b[0m\u001b[37m\u001b[0m \u001b[1m18s\u001b[0m 6ms/step - loss: 0.0287 - mae: 0.1285 - val_loss: 0.0330 - val_mae: 0.1326 - learning_rate: 2.5000e-04\n",
      "Epoch 28/50\n",
      "\u001b[1m3066/3066\u001b[0m \u001b[32m━━━━━━━━━━━━━━━━━━━━\u001b[0m\u001b[37m\u001b[0m \u001b[1m21s\u001b[0m 7ms/step - loss: 0.0286 - mae: 0.1280 - val_loss: 0.0328 - val_mae: 0.1324 - learning_rate: 2.5000e-04\n",
      "Epoch 29/50\n",
      "\u001b[1m3066/3066\u001b[0m \u001b[32m━━━━━━━━━━━━━━━━━━━━\u001b[0m\u001b[37m\u001b[0m \u001b[1m19s\u001b[0m 6ms/step - loss: 0.0285 - mae: 0.1280 - val_loss: 0.0329 - val_mae: 0.1328 - learning_rate: 2.5000e-04\n",
      "Epoch 30/50\n",
      "\u001b[1m3066/3066\u001b[0m \u001b[32m━━━━━━━━━━━━━━━━━━━━\u001b[0m\u001b[37m\u001b[0m \u001b[1m19s\u001b[0m 6ms/step - loss: 0.0283 - mae: 0.1276 - val_loss: 0.0331 - val_mae: 0.1333 - learning_rate: 2.5000e-04\n",
      "Epoch 31/50\n",
      "\u001b[1m3066/3066\u001b[0m \u001b[32m━━━━━━━━━━━━━━━━━━━━\u001b[0m\u001b[37m\u001b[0m \u001b[1m21s\u001b[0m 7ms/step - loss: 0.0282 - mae: 0.1275 - val_loss: 0.0329 - val_mae: 0.1323 - learning_rate: 2.5000e-04\n",
      "Epoch 32/50\n",
      "\u001b[1m3066/3066\u001b[0m \u001b[32m━━━━━━━━━━━━━━━━━━━━\u001b[0m\u001b[37m\u001b[0m \u001b[1m18s\u001b[0m 6ms/step - loss: 0.0279 - mae: 0.1267 - val_loss: 0.0325 - val_mae: 0.1323 - learning_rate: 1.2500e-04\n",
      "Epoch 33/50\n",
      "\u001b[1m3066/3066\u001b[0m \u001b[32m━━━━━━━━━━━━━━━━━━━━\u001b[0m\u001b[37m\u001b[0m \u001b[1m21s\u001b[0m 7ms/step - loss: 0.0278 - mae: 0.1266 - val_loss: 0.0325 - val_mae: 0.1323 - learning_rate: 1.2500e-04\n",
      "Epoch 34/50\n",
      "\u001b[1m3066/3066\u001b[0m \u001b[32m━━━━━━━━━━━━━━━━━━━━\u001b[0m\u001b[37m\u001b[0m \u001b[1m18s\u001b[0m 6ms/step - loss: 0.0278 - mae: 0.1265 - val_loss: 0.0325 - val_mae: 0.1318 - learning_rate: 1.2500e-04\n",
      "Epoch 35/50\n",
      "\u001b[1m3066/3066\u001b[0m \u001b[32m━━━━━━━━━━━━━━━━━━━━\u001b[0m\u001b[37m\u001b[0m \u001b[1m18s\u001b[0m 6ms/step - loss: 0.0277 - mae: 0.1263 - val_loss: 0.0325 - val_mae: 0.1320 - learning_rate: 1.2500e-04\n",
      "Epoch 36/50\n",
      "\u001b[1m3066/3066\u001b[0m \u001b[32m━━━━━━━━━━━━━━━━━━━━\u001b[0m\u001b[37m\u001b[0m \u001b[1m21s\u001b[0m 7ms/step - loss: 0.0275 - mae: 0.1258 - val_loss: 0.0324 - val_mae: 0.1317 - learning_rate: 6.2500e-05\n",
      "Epoch 37/50\n",
      "\u001b[1m3066/3066\u001b[0m \u001b[32m━━━━━━━━━━━━━━━━━━━━\u001b[0m\u001b[37m\u001b[0m \u001b[1m18s\u001b[0m 6ms/step - loss: 0.0274 - mae: 0.1256 - val_loss: 0.0324 - val_mae: 0.1316 - learning_rate: 6.2500e-05\n",
      "Epoch 38/50\n",
      "\u001b[1m3066/3066\u001b[0m \u001b[32m━━━━━━━━━━━━━━━━━━━━\u001b[0m\u001b[37m\u001b[0m \u001b[1m18s\u001b[0m 6ms/step - loss: 0.0273 - mae: 0.1256 - val_loss: 0.0324 - val_mae: 0.1318 - learning_rate: 6.2500e-05\n",
      "Epoch 39/50\n",
      "\u001b[1m3066/3066\u001b[0m \u001b[32m━━━━━━━━━━━━━━━━━━━━\u001b[0m\u001b[37m\u001b[0m \u001b[1m20s\u001b[0m 7ms/step - loss: 0.0273 - mae: 0.1256 - val_loss: 0.0323 - val_mae: 0.1317 - learning_rate: 6.2500e-05\n",
      "Epoch 40/50\n",
      "\u001b[1m3066/3066\u001b[0m \u001b[32m━━━━━━━━━━━━━━━━━━━━\u001b[0m\u001b[37m\u001b[0m \u001b[1m18s\u001b[0m 6ms/step - loss: 0.0273 - mae: 0.1257 - val_loss: 0.0323 - val_mae: 0.1314 - learning_rate: 3.1250e-05\n",
      "Epoch 41/50\n",
      "\u001b[1m3066/3066\u001b[0m \u001b[32m━━━━━━━━━━━━━━━━━━━━\u001b[0m\u001b[37m\u001b[0m \u001b[1m20s\u001b[0m 7ms/step - loss: 0.0271 - mae: 0.1252 - val_loss: 0.0323 - val_mae: 0.1312 - learning_rate: 3.1250e-05\n",
      "Epoch 42/50\n",
      "\u001b[1m3066/3066\u001b[0m \u001b[32m━━━━━━━━━━━━━━━━━━━━\u001b[0m\u001b[37m\u001b[0m \u001b[1m17s\u001b[0m 6ms/step - loss: 0.0272 - mae: 0.1254 - val_loss: 0.0323 - val_mae: 0.1315 - learning_rate: 3.1250e-05\n",
      "Epoch 43/50\n",
      "\u001b[1m3066/3066\u001b[0m \u001b[32m━━━━━━━━━━━━━━━━━━━━\u001b[0m\u001b[37m\u001b[0m \u001b[1m18s\u001b[0m 6ms/step - loss: 0.0272 - mae: 0.1253 - val_loss: 0.0323 - val_mae: 0.1313 - learning_rate: 1.5625e-05\n",
      "Epoch 44/50\n",
      "\u001b[1m3066/3066\u001b[0m \u001b[32m━━━━━━━━━━━━━━━━━━━━\u001b[0m\u001b[37m\u001b[0m \u001b[1m20s\u001b[0m 7ms/step - loss: 0.0271 - mae: 0.1252 - val_loss: 0.0323 - val_mae: 0.1312 - learning_rate: 1.5625e-05\n",
      "Epoch 45/50\n",
      "\u001b[1m3066/3066\u001b[0m \u001b[32m━━━━━━━━━━━━━━━━━━━━\u001b[0m\u001b[37m\u001b[0m \u001b[1m18s\u001b[0m 6ms/step - loss: 0.0271 - mae: 0.1251 - val_loss: 0.0323 - val_mae: 0.1312 - learning_rate: 1.5625e-05\n"
     ]
    }
   ],
   "source": [
    "# Step 3: Train Model\n",
    "print(\"\\nTraining model...\")\n",
    "history = model_wrapper.fit(train_data, val_data)"
   ]
  },
  {
   "cell_type": "code",
   "execution_count": 10,
   "metadata": {},
   "outputs": [
    {
     "name": "stderr",
     "output_type": "stream",
     "text": [
      "2024-11-04 15:13:12,422 - WARNING - Seaborn style not found. Using default style.\n",
      "2024-11-04 15:13:12,424 - INFO - Plot style set\n",
      "2024-11-04 15:13:12,544 - INFO - Training history plot saved to results/20241104_145819/training_history.png\n"
     ]
    },
    {
     "name": "stdout",
     "output_type": "stream",
     "text": [
      "\n",
      "Plotting training history...\n"
     ]
    }
   ],
   "source": [
    "# Step 4: Visualize Training History\n",
    "print(\"\\nPlotting training history...\")\n",
    "plot_training_history(\n",
    "    history.history, \n",
    "    save_path=os.path.join(results_dir, 'training_history.png')\n",
    ")"
   ]
  },
  {
   "cell_type": "code",
   "execution_count": 11,
   "metadata": {},
   "outputs": [
    {
     "name": "stdout",
     "output_type": "stream",
     "text": [
      "\n",
      "Evaluating model on test set...\n",
      "\u001b[1m438/438\u001b[0m \u001b[32m━━━━━━━━━━━━━━━━━━━━\u001b[0m\u001b[37m\u001b[0m \u001b[1m1s\u001b[0m 3ms/step - loss: 0.0257 - mae: 0.1179\n",
      "Test Loss: [0.034322433173656464, 0.13584671914577484]\n"
     ]
    }
   ],
   "source": [
    "# Step 5: Evaluate on Test Set\n",
    "print(\"\\nEvaluating model on test set...\")\n",
    "test_loss = model_wrapper.model.evaluate(test_data, verbose=1)\n",
    "print(f\"Test Loss: {test_loss}\")"
   ]
  },
  {
   "cell_type": "code",
   "execution_count": null,
   "metadata": {},
   "outputs": [
    {
     "name": "stdout",
     "output_type": "stream",
     "text": [
      "\n",
      "Generating predictions...\n",
      "\u001b[1m438/438\u001b[0m \u001b[32m━━━━━━━━━━━━━━━━━━━━\u001b[0m\u001b[37m\u001b[0m \u001b[1m1s\u001b[0m 2ms/step\n"
     ]
    },
    {
     "name": "stderr",
     "output_type": "stream",
     "text": [
      "2024-11-04 15:13:29.903201: I tensorflow/core/framework/local_rendezvous.cc:404] Local rendezvous is aborting with status: OUT_OF_RANGE: End of sequence\n"
     ]
    },
    {
     "ename": "NameError",
     "evalue": "name 'config' is not defined",
     "output_type": "error",
     "traceback": [
      "\u001b[0;31m---------------------------------------------------------------------------\u001b[0m",
      "\u001b[0;31mNameError\u001b[0m                                 Traceback (most recent call last)",
      "Cell \u001b[0;32mIn[12], line 11\u001b[0m\n\u001b[1;32m      8\u001b[0m \u001b[38;5;66;03m# Get corresponding timestamps\u001b[39;00m\n\u001b[1;32m      9\u001b[0m \u001b[38;5;66;03m# Calculate the start index for test data based on the splits\u001b[39;00m\n\u001b[1;32m     10\u001b[0m total_samples \u001b[38;5;241m=\u001b[39m \u001b[38;5;28mlen\u001b[39m(data_processor\u001b[38;5;241m.\u001b[39mdata)\n\u001b[0;32m---> 11\u001b[0m train_val_size \u001b[38;5;241m=\u001b[39m \u001b[38;5;28mint\u001b[39m(total_samples \u001b[38;5;241m*\u001b[39m (\u001b[38;5;241m1\u001b[39m \u001b[38;5;241m-\u001b[39m \u001b[43mconfig\u001b[49m[\u001b[38;5;124m'\u001b[39m\u001b[38;5;124mtest_split\u001b[39m\u001b[38;5;124m'\u001b[39m]))\n\u001b[1;32m     12\u001b[0m test_timestamps \u001b[38;5;241m=\u001b[39m data_processor\u001b[38;5;241m.\u001b[39mdata\u001b[38;5;241m.\u001b[39miloc[train_val_size:][\u001b[38;5;124m'\u001b[39m\u001b[38;5;124mTime\u001b[39m\u001b[38;5;124m'\u001b[39m]\u001b[38;5;241m.\u001b[39mvalues\n\u001b[1;32m     14\u001b[0m \u001b[38;5;66;03m# Inverse transform predictions and actual values for proper comparison\u001b[39;00m\n",
      "\u001b[0;31mNameError\u001b[0m: name 'config' is not defined"
     ]
    }
   ],
   "source": [
    "# Step 6: Generate Predictions\n",
    "print(\"\\nGenerating predictions...\")\n",
    "predictions = model_wrapper.model.predict(test_data)\n",
    "\n",
    "# Extract actual values from test dataset\n",
    "test_actual = np.concatenate([y for x, y in test_data], axis=0)\n",
    "\n",
    "# Get corresponding timestamps\n",
    "test_timestamps = data_processor.get_test_timestamps()\n",
    "\n",
    "# Inverse transform predictions and actual values for proper comparison\n",
    "predictions_unscaled = data_processor.scaler.inverse_transform(predictions)\n",
    "actual_unscaled = data_processor.scaler.inverse_transform(test_actual.reshape(-1, 1))"
   ]
  },
  {
   "cell_type": "code",
   "execution_count": null,
   "metadata": {},
   "outputs": [],
   "source": [
    "# Step 7: Visualize Predictions\n",
    "print(\"\\nPlotting predictions...\")\n",
    "plot_power_predictions(\n",
    "    actual=actual_unscaled.flatten(),\n",
    "    predicted=predictions_unscaled.flatten(),\n",
    "    timestamps=test_timestamps,\n",
    "    save_path=os.path.join(results_dir, 'predictions.png')\n",
    ")"
   ]
  },
  {
   "cell_type": "code",
   "execution_count": null,
   "metadata": {},
   "outputs": [],
   "source": [
    "# Step 8: Save Model and Results\n",
    "print(\"\\nSaving model and results...\")\n",
    "\n",
    "# Save model weights\n",
    "model_weights_path = os.path.join(results_dir, 'model_weights.h5')\n",
    "model_wrapper.model.save_weights(model_weights_path)\n",
    "\n",
    "# Save model architecture\n",
    "model_json = model_wrapper.model.to_json()\n",
    "with open(os.path.join(results_dir, 'model_architecture.json'), 'w') as f:\n",
    "    f.write(model_json)\n",
    "\n",
    "# Save training history\n",
    "with open(os.path.join(results_dir, 'training_history.json'), 'w') as f:\n",
    "    json.dump(history.history, f)\n",
    "\n",
    "# Calculate comprehensive metrics\n",
    "mse = mean_squared_error(actual_unscaled, predictions_unscaled)\n",
    "rmse = np.sqrt(mse)\n",
    "r2 = r2_score(actual_unscaled, predictions_unscaled)\n",
    "mae = np.mean(np.abs(predictions_unscaled - actual_unscaled))\n",
    "\n",
    "# Save all results\n",
    "results = {\n",
    "    'model_config': config,\n",
    "    'test_metrics': {\n",
    "        'loss': float(test_loss),\n",
    "        'mse': float(mse),\n",
    "        'rmse': float(rmse),\n",
    "        'r2': float(r2),\n",
    "        'mae': float(mae)\n",
    "    },\n",
    "    'data_info': {\n",
    "        'train_size': len(train_data),\n",
    "        'val_size': len(val_data),\n",
    "        'test_size': len(test_data),\n",
    "        'features': list(data_processor.data.columns),\n",
    "        'target': target_column\n",
    "    },\n",
    "    'timestamp': datetime.now().strftime('%Y-%m-%d %H:%M:%S')\n",
    "}\n",
    "\n",
    "with open(os.path.join(results_dir, 'results.json'), 'w') as f:\n",
    "    json.dump(results, f, indent=4)\n",
    "\n",
    "# Print final metrics\n",
    "print(\"\\nFinal Test Metrics:\")\n",
    "print(f\"MSE: {mse:.4f}\")\n",
    "print(f\"RMSE: {rmse:.4f}\")\n",
    "print(f\"R²: {r2:.4f}\")\n",
    "print(f\"MAE: {mae:.4f}\")\n",
    "\n",
    "print(f\"\\nResults saved in: {results_dir}\")"
   ]
  }
 ],
 "metadata": {
  "kernelspec": {
   "display_name": "venv",
   "language": "python",
   "name": "python3"
  },
  "language_info": {
   "codemirror_mode": {
    "name": "ipython",
    "version": 3
   },
   "file_extension": ".py",
   "mimetype": "text/x-python",
   "name": "python",
   "nbconvert_exporter": "python",
   "pygments_lexer": "ipython3",
   "version": "3.12.3"
  }
 },
 "nbformat": 4,
 "nbformat_minor": 4
}
