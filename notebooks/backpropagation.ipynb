{
 "cells": [
  {
   "cell_type": "code",
   "execution_count": 1,
   "metadata": {},
   "outputs": [
    {
     "name": "stderr",
     "output_type": "stream",
     "text": [
      "2024-11-04 13:54:21.677742: I tensorflow/core/util/port.cc:153] oneDNN custom operations are on. You may see slightly different numerical results due to floating-point round-off errors from different computation orders. To turn them off, set the environment variable `TF_ENABLE_ONEDNN_OPTS=0`.\n",
      "2024-11-04 13:54:21.684992: E external/local_xla/xla/stream_executor/cuda/cuda_fft.cc:485] Unable to register cuFFT factory: Attempting to register factory for plugin cuFFT when one has already been registered\n",
      "2024-11-04 13:54:21.693112: E external/local_xla/xla/stream_executor/cuda/cuda_dnn.cc:8454] Unable to register cuDNN factory: Attempting to register factory for plugin cuDNN when one has already been registered\n",
      "2024-11-04 13:54:21.695497: E external/local_xla/xla/stream_executor/cuda/cuda_blas.cc:1452] Unable to register cuBLAS factory: Attempting to register factory for plugin cuBLAS when one has already been registered\n",
      "2024-11-04 13:54:21.702346: I tensorflow/core/platform/cpu_feature_guard.cc:210] This TensorFlow binary is optimized to use available CPU instructions in performance-critical operations.\n",
      "To enable the following instructions: AVX2 AVX512F AVX512_VNNI AVX512_BF16 FMA, in other operations, rebuild TensorFlow with the appropriate compiler flags.\n",
      "2024-11-04 13:54:22.145320: W tensorflow/compiler/tf2tensorrt/utils/py_utils.cc:38] TF-TRT Warning: Could not find TensorRT\n",
      "2024-11-04 13:54:22,847 - INFO - Random seeds set to 42\n",
      "2024-11-04 13:54:22,848 - INFO - Results directory created: /home/dkat/courses/computational-intelligence/src/../results/20241104_135422\n"
     ]
    }
   ],
   "source": [
    "import os\n",
    "import sys\n",
    "import numpy as np\n",
    "import matplotlib.pyplot as plt\n",
    "import tensorflow as tf\n",
    "from tensorflow.keras.callbacks import EarlyStopping, ReduceLROnPlateau\n",
    "\n",
    "# Add parent directory to Python path\n",
    "sys.path.append('..')\n",
    "\n",
    "from src.data import DataProcessor\n",
    "from src.models import ModelWrapper  # Updated model with LSTM/GRU and Backpropagation\n",
    "from src.utils import set_seeds, create_results_directory\n",
    "from src.visualization import plot_predictions\n",
    "\n",
    "# Set random seed for reproducibility\n",
    "set_seeds(42)\n",
    "\n",
    "# Create results directory if it doesn't exist\n",
    "results_dir = create_results_directory()"
   ]
  },
  {
   "cell_type": "code",
   "execution_count": 2,
   "metadata": {},
   "outputs": [
    {
     "name": "stderr",
     "output_type": "stream",
     "text": [
      "2024-11-04 13:54:24,753 - INFO - Random seeds set to 42\n"
     ]
    }
   ],
   "source": [
    "# Встановлення випадкових seed для відтворюваності\n",
    "set_seeds(42)\n",
    "\n",
    "# Step 1: Set File Paths and Target Column\n",
    "file_path = '../data/raw/Train.csv'  # Replace with actual path\n",
    "target_column = 'Power'          # Replace with actual target column"
   ]
  },
  {
   "cell_type": "code",
   "execution_count": 3,
   "metadata": {},
   "outputs": [
    {
     "name": "stdout",
     "output_type": "stream",
     "text": [
      "\n",
      "Data Ranges (scaled):\n",
      "Training   - X: (98101, 15, 11), y: min=0.0000, max=1.0000\n",
      "Validation - X: (28029, 15, 11), y: min=0.0000, max=0.9971\n",
      "Test      - X: (14015, 15, 11), y: min=0.0000, max=0.9969\n",
      "\n",
      "Temporal Split Check:\n",
      "Training period: 2013-01-02 00:00:00 to 2015-10-20 21:00:00\n",
      "Validation period: 2015-10-20 21:00:00 to 2016-08-07 20:00:00\n"
     ]
    },
    {
     "name": "stderr",
     "output_type": "stream",
     "text": [
      "WARNING: All log messages before absl::InitializeLog() is called are written to STDERR\n",
      "I0000 00:00:1730728467.418051   58806 cuda_executor.cc:1001] could not open file to read NUMA node: /sys/bus/pci/devices/0000:01:00.0/numa_node\n",
      "Your kernel may have been built without NUMA support.\n",
      "I0000 00:00:1730728467.432751   58806 cuda_executor.cc:1001] could not open file to read NUMA node: /sys/bus/pci/devices/0000:01:00.0/numa_node\n",
      "Your kernel may have been built without NUMA support.\n",
      "I0000 00:00:1730728467.432788   58806 cuda_executor.cc:1001] could not open file to read NUMA node: /sys/bus/pci/devices/0000:01:00.0/numa_node\n",
      "Your kernel may have been built without NUMA support.\n",
      "I0000 00:00:1730728467.434475   58806 cuda_executor.cc:1001] could not open file to read NUMA node: /sys/bus/pci/devices/0000:01:00.0/numa_node\n",
      "Your kernel may have been built without NUMA support.\n",
      "I0000 00:00:1730728467.434497   58806 cuda_executor.cc:1001] could not open file to read NUMA node: /sys/bus/pci/devices/0000:01:00.0/numa_node\n",
      "Your kernel may have been built without NUMA support.\n",
      "I0000 00:00:1730728467.434510   58806 cuda_executor.cc:1001] could not open file to read NUMA node: /sys/bus/pci/devices/0000:01:00.0/numa_node\n",
      "Your kernel may have been built without NUMA support.\n",
      "I0000 00:00:1730728467.544980   58806 cuda_executor.cc:1001] could not open file to read NUMA node: /sys/bus/pci/devices/0000:01:00.0/numa_node\n",
      "Your kernel may have been built without NUMA support.\n",
      "I0000 00:00:1730728467.545021   58806 cuda_executor.cc:1001] could not open file to read NUMA node: /sys/bus/pci/devices/0000:01:00.0/numa_node\n",
      "Your kernel may have been built without NUMA support.\n",
      "2024-11-04 13:54:27.545030: I tensorflow/core/common_runtime/gpu/gpu_device.cc:2112] Could not identify NUMA node of platform GPU id 0, defaulting to 0.  Your kernel may not have been built with NUMA support.\n",
      "I0000 00:00:1730728467.545059   58806 cuda_executor.cc:1001] could not open file to read NUMA node: /sys/bus/pci/devices/0000:01:00.0/numa_node\n",
      "Your kernel may have been built without NUMA support.\n",
      "2024-11-04 13:54:27.545077: I tensorflow/core/common_runtime/gpu/gpu_device.cc:2021] Created device /job:localhost/replica:0/task:0/device:GPU:0 with 21770 MB memory:  -> device: 0, name: NVIDIA GeForce RTX 3090, pci bus id: 0000:01:00.0, compute capability: 8.6\n"
     ]
    }
   ],
   "source": [
    "# Step 1: Set File Paths and Target Column\n",
    "file_path = '../data/raw/Train.csv'\n",
    "target_column = 'Power'\n",
    "\n",
    "# Step 2: Initialize Data Processor and Prepare Data\n",
    "data_processor = DataProcessor(file_path, target_column)\n",
    "train_data, val_data, test_data = data_processor.prepare_data()"
   ]
  },
  {
   "cell_type": "code",
   "execution_count": 4,
   "metadata": {},
   "outputs": [
    {
     "name": "stderr",
     "output_type": "stream",
     "text": [
      "/home/dkat/courses/computational-intelligence/venv/lib/python3.12/site-packages/keras/src/layers/rnn/rnn.py:204: UserWarning: Do not pass an `input_shape`/`input_dim` argument to a layer. When using Sequential models, prefer using an `Input(shape)` object as the first layer in the model instead.\n",
      "  super().__init__(**kwargs)\n"
     ]
    },
    {
     "data": {
      "text/html": [
       "<pre style=\"white-space:pre;overflow-x:auto;line-height:normal;font-family:Menlo,'DejaVu Sans Mono',consolas,'Courier New',monospace\"><span style=\"font-weight: bold\">Model: \"sequential\"</span>\n",
       "</pre>\n"
      ],
      "text/plain": [
       "\u001b[1mModel: \"sequential\"\u001b[0m\n"
      ]
     },
     "metadata": {},
     "output_type": "display_data"
    },
    {
     "data": {
      "text/html": [
       "<pre style=\"white-space:pre;overflow-x:auto;line-height:normal;font-family:Menlo,'DejaVu Sans Mono',consolas,'Courier New',monospace\">┏━━━━━━━━━━━━━━━━━━━━━━━━━━━━━━━━━┳━━━━━━━━━━━━━━━━━━━━━━━━┳━━━━━━━━━━━━━━━┓\n",
       "┃<span style=\"font-weight: bold\"> Layer (type)                    </span>┃<span style=\"font-weight: bold\"> Output Shape           </span>┃<span style=\"font-weight: bold\">       Param # </span>┃\n",
       "┡━━━━━━━━━━━━━━━━━━━━━━━━━━━━━━━━━╇━━━━━━━━━━━━━━━━━━━━━━━━╇━━━━━━━━━━━━━━━┩\n",
       "│ lstm (<span style=\"color: #0087ff; text-decoration-color: #0087ff\">LSTM</span>)                     │ (<span style=\"color: #00d7ff; text-decoration-color: #00d7ff\">None</span>, <span style=\"color: #00af00; text-decoration-color: #00af00\">15</span>, <span style=\"color: #00af00; text-decoration-color: #00af00\">64</span>)         │        <span style=\"color: #00af00; text-decoration-color: #00af00\">19,456</span> │\n",
       "├─────────────────────────────────┼────────────────────────┼───────────────┤\n",
       "│ dropout (<span style=\"color: #0087ff; text-decoration-color: #0087ff\">Dropout</span>)               │ (<span style=\"color: #00d7ff; text-decoration-color: #00d7ff\">None</span>, <span style=\"color: #00af00; text-decoration-color: #00af00\">15</span>, <span style=\"color: #00af00; text-decoration-color: #00af00\">64</span>)         │             <span style=\"color: #00af00; text-decoration-color: #00af00\">0</span> │\n",
       "├─────────────────────────────────┼────────────────────────┼───────────────┤\n",
       "│ lstm_1 (<span style=\"color: #0087ff; text-decoration-color: #0087ff\">LSTM</span>)                   │ (<span style=\"color: #00d7ff; text-decoration-color: #00d7ff\">None</span>, <span style=\"color: #00af00; text-decoration-color: #00af00\">32</span>)             │        <span style=\"color: #00af00; text-decoration-color: #00af00\">12,416</span> │\n",
       "├─────────────────────────────────┼────────────────────────┼───────────────┤\n",
       "│ dropout_1 (<span style=\"color: #0087ff; text-decoration-color: #0087ff\">Dropout</span>)             │ (<span style=\"color: #00d7ff; text-decoration-color: #00d7ff\">None</span>, <span style=\"color: #00af00; text-decoration-color: #00af00\">32</span>)             │             <span style=\"color: #00af00; text-decoration-color: #00af00\">0</span> │\n",
       "├─────────────────────────────────┼────────────────────────┼───────────────┤\n",
       "│ dense (<span style=\"color: #0087ff; text-decoration-color: #0087ff\">Dense</span>)                   │ (<span style=\"color: #00d7ff; text-decoration-color: #00d7ff\">None</span>, <span style=\"color: #00af00; text-decoration-color: #00af00\">1</span>)              │            <span style=\"color: #00af00; text-decoration-color: #00af00\">33</span> │\n",
       "└─────────────────────────────────┴────────────────────────┴───────────────┘\n",
       "</pre>\n"
      ],
      "text/plain": [
       "┏━━━━━━━━━━━━━━━━━━━━━━━━━━━━━━━━━┳━━━━━━━━━━━━━━━━━━━━━━━━┳━━━━━━━━━━━━━━━┓\n",
       "┃\u001b[1m \u001b[0m\u001b[1mLayer (type)                   \u001b[0m\u001b[1m \u001b[0m┃\u001b[1m \u001b[0m\u001b[1mOutput Shape          \u001b[0m\u001b[1m \u001b[0m┃\u001b[1m \u001b[0m\u001b[1m      Param #\u001b[0m\u001b[1m \u001b[0m┃\n",
       "┡━━━━━━━━━━━━━━━━━━━━━━━━━━━━━━━━━╇━━━━━━━━━━━━━━━━━━━━━━━━╇━━━━━━━━━━━━━━━┩\n",
       "│ lstm (\u001b[38;5;33mLSTM\u001b[0m)                     │ (\u001b[38;5;45mNone\u001b[0m, \u001b[38;5;34m15\u001b[0m, \u001b[38;5;34m64\u001b[0m)         │        \u001b[38;5;34m19,456\u001b[0m │\n",
       "├─────────────────────────────────┼────────────────────────┼───────────────┤\n",
       "│ dropout (\u001b[38;5;33mDropout\u001b[0m)               │ (\u001b[38;5;45mNone\u001b[0m, \u001b[38;5;34m15\u001b[0m, \u001b[38;5;34m64\u001b[0m)         │             \u001b[38;5;34m0\u001b[0m │\n",
       "├─────────────────────────────────┼────────────────────────┼───────────────┤\n",
       "│ lstm_1 (\u001b[38;5;33mLSTM\u001b[0m)                   │ (\u001b[38;5;45mNone\u001b[0m, \u001b[38;5;34m32\u001b[0m)             │        \u001b[38;5;34m12,416\u001b[0m │\n",
       "├─────────────────────────────────┼────────────────────────┼───────────────┤\n",
       "│ dropout_1 (\u001b[38;5;33mDropout\u001b[0m)             │ (\u001b[38;5;45mNone\u001b[0m, \u001b[38;5;34m32\u001b[0m)             │             \u001b[38;5;34m0\u001b[0m │\n",
       "├─────────────────────────────────┼────────────────────────┼───────────────┤\n",
       "│ dense (\u001b[38;5;33mDense\u001b[0m)                   │ (\u001b[38;5;45mNone\u001b[0m, \u001b[38;5;34m1\u001b[0m)              │            \u001b[38;5;34m33\u001b[0m │\n",
       "└─────────────────────────────────┴────────────────────────┴───────────────┘\n"
      ]
     },
     "metadata": {},
     "output_type": "display_data"
    },
    {
     "data": {
      "text/html": [
       "<pre style=\"white-space:pre;overflow-x:auto;line-height:normal;font-family:Menlo,'DejaVu Sans Mono',consolas,'Courier New',monospace\"><span style=\"font-weight: bold\"> Total params: </span><span style=\"color: #00af00; text-decoration-color: #00af00\">31,905</span> (124.63 KB)\n",
       "</pre>\n"
      ],
      "text/plain": [
       "\u001b[1m Total params: \u001b[0m\u001b[38;5;34m31,905\u001b[0m (124.63 KB)\n"
      ]
     },
     "metadata": {},
     "output_type": "display_data"
    },
    {
     "data": {
      "text/html": [
       "<pre style=\"white-space:pre;overflow-x:auto;line-height:normal;font-family:Menlo,'DejaVu Sans Mono',consolas,'Courier New',monospace\"><span style=\"font-weight: bold\"> Trainable params: </span><span style=\"color: #00af00; text-decoration-color: #00af00\">31,905</span> (124.63 KB)\n",
       "</pre>\n"
      ],
      "text/plain": [
       "\u001b[1m Trainable params: \u001b[0m\u001b[38;5;34m31,905\u001b[0m (124.63 KB)\n"
      ]
     },
     "metadata": {},
     "output_type": "display_data"
    },
    {
     "data": {
      "text/html": [
       "<pre style=\"white-space:pre;overflow-x:auto;line-height:normal;font-family:Menlo,'DejaVu Sans Mono',consolas,'Courier New',monospace\"><span style=\"font-weight: bold\"> Non-trainable params: </span><span style=\"color: #00af00; text-decoration-color: #00af00\">0</span> (0.00 B)\n",
       "</pre>\n"
      ],
      "text/plain": [
       "\u001b[1m Non-trainable params: \u001b[0m\u001b[38;5;34m0\u001b[0m (0.00 B)\n"
      ]
     },
     "metadata": {},
     "output_type": "display_data"
    }
   ],
   "source": [
    "# Initialize model wrapper\n",
    "model_wrapper = ModelWrapper(\n",
    "    input_shape=(train_data.element_spec[0].shape[1], train_data.element_spec[0].shape[2])\n",
    ")\n",
    "\n",
    "# Display model architecture\n",
    "model_wrapper.model.summary()"
   ]
  },
  {
   "cell_type": "code",
   "execution_count": 5,
   "metadata": {},
   "outputs": [
    {
     "name": "stdout",
     "output_type": "stream",
     "text": [
      "Epoch 1/50\n"
     ]
    },
    {
     "name": "stderr",
     "output_type": "stream",
     "text": [
      "2024-11-04 13:54:37.995864: I external/local_xla/xla/stream_executor/cuda/cuda_dnn.cc:531] Loaded cuDNN version 8907\n"
     ]
    },
    {
     "name": "stdout",
     "output_type": "stream",
     "text": [
      "\u001b[1m3066/3066\u001b[0m \u001b[32m━━━━━━━━━━━━━━━━━━━━\u001b[0m\u001b[37m\u001b[0m \u001b[1m21s\u001b[0m 7ms/step - loss: 0.1331 - mae: 0.1889 - val_loss: 0.0461 - val_mae: 0.1745 - learning_rate: 0.0010\n",
      "Epoch 2/50\n",
      "\u001b[1m3066/3066\u001b[0m \u001b[32m━━━━━━━━━━━━━━━━━━━━\u001b[0m\u001b[37m\u001b[0m \u001b[1m22s\u001b[0m 7ms/step - loss: 0.0438 - mae: 0.1652 - val_loss: 0.0426 - val_mae: 0.1639 - learning_rate: 0.0010\n",
      "Epoch 3/50\n",
      "\u001b[1m3066/3066\u001b[0m \u001b[32m━━━━━━━━━━━━━━━━━━━━\u001b[0m\u001b[37m\u001b[0m \u001b[1m20s\u001b[0m 7ms/step - loss: 0.0413 - mae: 0.1602 - val_loss: 0.0410 - val_mae: 0.1593 - learning_rate: 0.0010\n",
      "Epoch 4/50\n",
      "\u001b[1m3066/3066\u001b[0m \u001b[32m━━━━━━━━━━━━━━━━━━━━\u001b[0m\u001b[37m\u001b[0m \u001b[1m20s\u001b[0m 6ms/step - loss: 0.0404 - mae: 0.1585 - val_loss: 0.0402 - val_mae: 0.1559 - learning_rate: 0.0010\n",
      "Epoch 5/50\n",
      "\u001b[1m3066/3066\u001b[0m \u001b[32m━━━━━━━━━━━━━━━━━━━━\u001b[0m\u001b[37m\u001b[0m \u001b[1m21s\u001b[0m 7ms/step - loss: 0.0395 - mae: 0.1561 - val_loss: 0.0397 - val_mae: 0.1547 - learning_rate: 0.0010\n",
      "Epoch 6/50\n",
      "\u001b[1m3066/3066\u001b[0m \u001b[32m━━━━━━━━━━━━━━━━━━━━\u001b[0m\u001b[37m\u001b[0m \u001b[1m19s\u001b[0m 6ms/step - loss: 0.0385 - mae: 0.1537 - val_loss: 0.0390 - val_mae: 0.1535 - learning_rate: 0.0010\n",
      "Epoch 7/50\n",
      "\u001b[1m3066/3066\u001b[0m \u001b[32m━━━━━━━━━━━━━━━━━━━━\u001b[0m\u001b[37m\u001b[0m \u001b[1m20s\u001b[0m 6ms/step - loss: 0.0377 - mae: 0.1514 - val_loss: 0.0387 - val_mae: 0.1530 - learning_rate: 0.0010\n",
      "Epoch 8/50\n",
      "\u001b[1m3066/3066\u001b[0m \u001b[32m━━━━━━━━━━━━━━━━━━━━\u001b[0m\u001b[37m\u001b[0m \u001b[1m22s\u001b[0m 7ms/step - loss: 0.0370 - mae: 0.1498 - val_loss: 0.0386 - val_mae: 0.1525 - learning_rate: 0.0010\n",
      "Epoch 9/50\n",
      "\u001b[1m3066/3066\u001b[0m \u001b[32m━━━━━━━━━━━━━━━━━━━━\u001b[0m\u001b[37m\u001b[0m \u001b[1m20s\u001b[0m 6ms/step - loss: 0.0363 - mae: 0.1480 - val_loss: 0.0378 - val_mae: 0.1501 - learning_rate: 0.0010\n",
      "Epoch 10/50\n",
      "\u001b[1m3066/3066\u001b[0m \u001b[32m━━━━━━━━━━━━━━━━━━━━\u001b[0m\u001b[37m\u001b[0m \u001b[1m20s\u001b[0m 6ms/step - loss: 0.0358 - mae: 0.1466 - val_loss: 0.0372 - val_mae: 0.1483 - learning_rate: 0.0010\n",
      "Epoch 11/50\n",
      "\u001b[1m3066/3066\u001b[0m \u001b[32m━━━━━━━━━━━━━━━━━━━━\u001b[0m\u001b[37m\u001b[0m \u001b[1m22s\u001b[0m 7ms/step - loss: 0.0354 - mae: 0.1454 - val_loss: 0.0368 - val_mae: 0.1468 - learning_rate: 0.0010\n",
      "Epoch 12/50\n",
      "\u001b[1m3066/3066\u001b[0m \u001b[32m━━━━━━━━━━━━━━━━━━━━\u001b[0m\u001b[37m\u001b[0m \u001b[1m19s\u001b[0m 6ms/step - loss: 0.0349 - mae: 0.1439 - val_loss: 0.0367 - val_mae: 0.1468 - learning_rate: 0.0010\n",
      "Epoch 13/50\n",
      "\u001b[1m3066/3066\u001b[0m \u001b[32m━━━━━━━━━━━━━━━━━━━━\u001b[0m\u001b[37m\u001b[0m \u001b[1m19s\u001b[0m 6ms/step - loss: 0.0344 - mae: 0.1427 - val_loss: 0.0365 - val_mae: 0.1454 - learning_rate: 0.0010\n",
      "Epoch 14/50\n",
      "\u001b[1m3066/3066\u001b[0m \u001b[32m━━━━━━━━━━━━━━━━━━━━\u001b[0m\u001b[37m\u001b[0m \u001b[1m22s\u001b[0m 7ms/step - loss: 0.0341 - mae: 0.1416 - val_loss: 0.0359 - val_mae: 0.1451 - learning_rate: 0.0010\n",
      "Epoch 15/50\n",
      "\u001b[1m3066/3066\u001b[0m \u001b[32m━━━━━━━━━━━━━━━━━━━━\u001b[0m\u001b[37m\u001b[0m \u001b[1m20s\u001b[0m 6ms/step - loss: 0.0337 - mae: 0.1404 - val_loss: 0.0355 - val_mae: 0.1430 - learning_rate: 0.0010\n",
      "Epoch 16/50\n",
      "\u001b[1m3066/3066\u001b[0m \u001b[32m━━━━━━━━━━━━━━━━━━━━\u001b[0m\u001b[37m\u001b[0m \u001b[1m19s\u001b[0m 6ms/step - loss: 0.0334 - mae: 0.1396 - val_loss: 0.0349 - val_mae: 0.1413 - learning_rate: 0.0010\n",
      "Epoch 17/50\n",
      "\u001b[1m3066/3066\u001b[0m \u001b[32m━━━━━━━━━━━━━━━━━━━━\u001b[0m\u001b[37m\u001b[0m \u001b[1m22s\u001b[0m 7ms/step - loss: 0.0329 - mae: 0.1385 - val_loss: 0.0349 - val_mae: 0.1416 - learning_rate: 0.0010\n",
      "Epoch 18/50\n",
      "\u001b[1m3066/3066\u001b[0m \u001b[32m━━━━━━━━━━━━━━━━━━━━\u001b[0m\u001b[37m\u001b[0m \u001b[1m20s\u001b[0m 6ms/step - loss: 0.0327 - mae: 0.1377 - val_loss: 0.0348 - val_mae: 0.1409 - learning_rate: 0.0010\n",
      "Epoch 19/50\n",
      "\u001b[1m3066/3066\u001b[0m \u001b[32m━━━━━━━━━━━━━━━━━━━━\u001b[0m\u001b[37m\u001b[0m \u001b[1m19s\u001b[0m 6ms/step - loss: 0.0323 - mae: 0.1365 - val_loss: 0.0344 - val_mae: 0.1389 - learning_rate: 0.0010\n",
      "Epoch 20/50\n",
      "\u001b[1m3066/3066\u001b[0m \u001b[32m━━━━━━━━━━━━━━━━━━━━\u001b[0m\u001b[37m\u001b[0m \u001b[1m22s\u001b[0m 7ms/step - loss: 0.0319 - mae: 0.1355 - val_loss: 0.0344 - val_mae: 0.1386 - learning_rate: 0.0010\n",
      "Epoch 21/50\n",
      "\u001b[1m3066/3066\u001b[0m \u001b[32m━━━━━━━━━━━━━━━━━━━━\u001b[0m\u001b[37m\u001b[0m \u001b[1m19s\u001b[0m 6ms/step - loss: 0.0316 - mae: 0.1349 - val_loss: 0.0339 - val_mae: 0.1377 - learning_rate: 0.0010\n",
      "Epoch 22/50\n",
      "\u001b[1m3066/3066\u001b[0m \u001b[32m━━━━━━━━━━━━━━━━━━━━\u001b[0m\u001b[37m\u001b[0m \u001b[1m19s\u001b[0m 6ms/step - loss: 0.0314 - mae: 0.1340 - val_loss: 0.0339 - val_mae: 0.1357 - learning_rate: 0.0010\n",
      "Epoch 23/50\n",
      "\u001b[1m3066/3066\u001b[0m \u001b[32m━━━━━━━━━━━━━━━━━━━━\u001b[0m\u001b[37m\u001b[0m \u001b[1m21s\u001b[0m 7ms/step - loss: 0.0312 - mae: 0.1336 - val_loss: 0.0338 - val_mae: 0.1367 - learning_rate: 0.0010\n",
      "Epoch 24/50\n",
      "\u001b[1m3066/3066\u001b[0m \u001b[32m━━━━━━━━━━━━━━━━━━━━\u001b[0m\u001b[37m\u001b[0m \u001b[1m20s\u001b[0m 6ms/step - loss: 0.0310 - mae: 0.1331 - val_loss: 0.0341 - val_mae: 0.1383 - learning_rate: 0.0010\n",
      "Epoch 25/50\n",
      "\u001b[1m3066/3066\u001b[0m \u001b[32m━━━━━━━━━━━━━━━━━━━━\u001b[0m\u001b[37m\u001b[0m \u001b[1m20s\u001b[0m 6ms/step - loss: 0.0298 - mae: 0.1306 - val_loss: 0.0330 - val_mae: 0.1337 - learning_rate: 5.0000e-04\n",
      "Epoch 26/50\n",
      "\u001b[1m3066/3066\u001b[0m \u001b[32m━━━━━━━━━━━━━━━━━━━━\u001b[0m\u001b[37m\u001b[0m \u001b[1m21s\u001b[0m 7ms/step - loss: 0.0294 - mae: 0.1296 - val_loss: 0.0330 - val_mae: 0.1332 - learning_rate: 5.0000e-04\n",
      "Epoch 27/50\n",
      "\u001b[1m3066/3066\u001b[0m \u001b[32m━━━━━━━━━━━━━━━━━━━━\u001b[0m\u001b[37m\u001b[0m \u001b[1m19s\u001b[0m 6ms/step - loss: 0.0292 - mae: 0.1292 - val_loss: 0.0330 - val_mae: 0.1339 - learning_rate: 5.0000e-04\n",
      "Epoch 28/50\n",
      "\u001b[1m3066/3066\u001b[0m \u001b[32m━━━━━━━━━━━━━━━━━━━━\u001b[0m\u001b[37m\u001b[0m \u001b[1m20s\u001b[0m 6ms/step - loss: 0.0290 - mae: 0.1287 - val_loss: 0.0331 - val_mae: 0.1328 - learning_rate: 5.0000e-04\n",
      "Epoch 29/50\n",
      "\u001b[1m3066/3066\u001b[0m \u001b[32m━━━━━━━━━━━━━━━━━━━━\u001b[0m\u001b[37m\u001b[0m \u001b[1m22s\u001b[0m 7ms/step - loss: 0.0284 - mae: 0.1276 - val_loss: 0.0326 - val_mae: 0.1320 - learning_rate: 2.5000e-04\n",
      "Epoch 30/50\n",
      "\u001b[1m3066/3066\u001b[0m \u001b[32m━━━━━━━━━━━━━━━━━━━━\u001b[0m\u001b[37m\u001b[0m \u001b[1m20s\u001b[0m 6ms/step - loss: 0.0282 - mae: 0.1272 - val_loss: 0.0326 - val_mae: 0.1315 - learning_rate: 2.5000e-04\n",
      "Epoch 31/50\n",
      "\u001b[1m3066/3066\u001b[0m \u001b[32m━━━━━━━━━━━━━━━━━━━━\u001b[0m\u001b[37m\u001b[0m \u001b[1m20s\u001b[0m 6ms/step - loss: 0.0281 - mae: 0.1271 - val_loss: 0.0326 - val_mae: 0.1320 - learning_rate: 2.5000e-04\n",
      "Epoch 32/50\n",
      "\u001b[1m3066/3066\u001b[0m \u001b[32m━━━━━━━━━━━━━━━━━━━━\u001b[0m\u001b[37m\u001b[0m \u001b[1m21s\u001b[0m 7ms/step - loss: 0.0279 - mae: 0.1267 - val_loss: 0.0327 - val_mae: 0.1317 - learning_rate: 2.5000e-04\n",
      "Epoch 33/50\n",
      "\u001b[1m3066/3066\u001b[0m \u001b[32m━━━━━━━━━━━━━━━━━━━━\u001b[0m\u001b[37m\u001b[0m \u001b[1m19s\u001b[0m 6ms/step - loss: 0.0276 - mae: 0.1260 - val_loss: 0.0324 - val_mae: 0.1317 - learning_rate: 1.2500e-04\n",
      "Epoch 34/50\n",
      "\u001b[1m3066/3066\u001b[0m \u001b[32m━━━━━━━━━━━━━━━━━━━━\u001b[0m\u001b[37m\u001b[0m \u001b[1m19s\u001b[0m 6ms/step - loss: 0.0275 - mae: 0.1260 - val_loss: 0.0324 - val_mae: 0.1317 - learning_rate: 1.2500e-04\n",
      "Epoch 35/50\n",
      "\u001b[1m3066/3066\u001b[0m \u001b[32m━━━━━━━━━━━━━━━━━━━━\u001b[0m\u001b[37m\u001b[0m \u001b[1m22s\u001b[0m 7ms/step - loss: 0.0274 - mae: 0.1255 - val_loss: 0.0324 - val_mae: 0.1320 - learning_rate: 1.2500e-04\n",
      "Epoch 36/50\n",
      "\u001b[1m3066/3066\u001b[0m \u001b[32m━━━━━━━━━━━━━━━━━━━━\u001b[0m\u001b[37m\u001b[0m \u001b[1m20s\u001b[0m 6ms/step - loss: 0.0274 - mae: 0.1255 - val_loss: 0.0325 - val_mae: 0.1315 - learning_rate: 1.2500e-04\n",
      "Epoch 37/50\n",
      "\u001b[1m3066/3066\u001b[0m \u001b[32m━━━━━━━━━━━━━━━━━━━━\u001b[0m\u001b[37m\u001b[0m \u001b[1m20s\u001b[0m 7ms/step - loss: 0.0272 - mae: 0.1251 - val_loss: 0.0322 - val_mae: 0.1311 - learning_rate: 6.2500e-05\n",
      "Epoch 38/50\n",
      "\u001b[1m3066/3066\u001b[0m \u001b[32m━━━━━━━━━━━━━━━━━━━━\u001b[0m\u001b[37m\u001b[0m \u001b[1m21s\u001b[0m 7ms/step - loss: 0.0272 - mae: 0.1252 - val_loss: 0.0323 - val_mae: 0.1312 - learning_rate: 6.2500e-05\n",
      "Epoch 39/50\n",
      "\u001b[1m3066/3066\u001b[0m \u001b[32m━━━━━━━━━━━━━━━━━━━━\u001b[0m\u001b[37m\u001b[0m \u001b[1m20s\u001b[0m 6ms/step - loss: 0.0271 - mae: 0.1248 - val_loss: 0.0323 - val_mae: 0.1314 - learning_rate: 6.2500e-05\n",
      "Epoch 40/50\n",
      "\u001b[1m3066/3066\u001b[0m \u001b[32m━━━━━━━━━━━━━━━━━━━━\u001b[0m\u001b[37m\u001b[0m \u001b[1m22s\u001b[0m 7ms/step - loss: 0.0271 - mae: 0.1248 - val_loss: 0.0322 - val_mae: 0.1310 - learning_rate: 6.2500e-05\n",
      "Epoch 41/50\n",
      "\u001b[1m3066/3066\u001b[0m \u001b[32m━━━━━━━━━━━━━━━━━━━━\u001b[0m\u001b[37m\u001b[0m \u001b[1m22s\u001b[0m 7ms/step - loss: 0.0269 - mae: 0.1244 - val_loss: 0.0322 - val_mae: 0.1311 - learning_rate: 3.1250e-05\n",
      "Epoch 42/50\n",
      "\u001b[1m3066/3066\u001b[0m \u001b[32m━━━━━━━━━━━━━━━━━━━━\u001b[0m\u001b[37m\u001b[0m \u001b[1m20s\u001b[0m 6ms/step - loss: 0.0269 - mae: 0.1245 - val_loss: 0.0322 - val_mae: 0.1312 - learning_rate: 3.1250e-05\n",
      "Epoch 43/50\n",
      "\u001b[1m3066/3066\u001b[0m \u001b[32m━━━━━━━━━━━━━━━━━━━━\u001b[0m\u001b[37m\u001b[0m \u001b[1m20s\u001b[0m 6ms/step - loss: 0.0269 - mae: 0.1245 - val_loss: 0.0322 - val_mae: 0.1312 - learning_rate: 3.1250e-05\n",
      "Epoch 44/50\n",
      "\u001b[1m3066/3066\u001b[0m \u001b[32m━━━━━━━━━━━━━━━━━━━━\u001b[0m\u001b[37m\u001b[0m \u001b[1m22s\u001b[0m 7ms/step - loss: 0.0270 - mae: 0.1249 - val_loss: 0.0321 - val_mae: 0.1308 - learning_rate: 1.5625e-05\n",
      "Epoch 45/50\n",
      "\u001b[1m3066/3066\u001b[0m \u001b[32m━━━━━━━━━━━━━━━━━━━━\u001b[0m\u001b[37m\u001b[0m \u001b[1m20s\u001b[0m 7ms/step - loss: 0.0269 - mae: 0.1247 - val_loss: 0.0321 - val_mae: 0.1308 - learning_rate: 1.5625e-05\n",
      "Epoch 46/50\n",
      "\u001b[1m3066/3066\u001b[0m \u001b[32m━━━━━━━━━━━━━━━━━━━━\u001b[0m\u001b[37m\u001b[0m \u001b[1m20s\u001b[0m 6ms/step - loss: 0.0268 - mae: 0.1245 - val_loss: 0.0322 - val_mae: 0.1308 - learning_rate: 1.5625e-05\n",
      "Epoch 47/50\n",
      "\u001b[1m3066/3066\u001b[0m \u001b[32m━━━━━━━━━━━━━━━━━━━━\u001b[0m\u001b[37m\u001b[0m \u001b[1m22s\u001b[0m 7ms/step - loss: 0.0269 - mae: 0.1246 - val_loss: 0.0321 - val_mae: 0.1309 - learning_rate: 1.0000e-05\n",
      "Epoch 48/50\n",
      "\u001b[1m3066/3066\u001b[0m \u001b[32m━━━━━━━━━━━━━━━━━━━━\u001b[0m\u001b[37m\u001b[0m \u001b[1m20s\u001b[0m 6ms/step - loss: 0.0267 - mae: 0.1242 - val_loss: 0.0321 - val_mae: 0.1308 - learning_rate: 1.0000e-05\n",
      "Epoch 49/50\n",
      "\u001b[1m3066/3066\u001b[0m \u001b[32m━━━━━━━━━━━━━━━━━━━━\u001b[0m\u001b[37m\u001b[0m \u001b[1m19s\u001b[0m 6ms/step - loss: 0.0268 - mae: 0.1245 - val_loss: 0.0321 - val_mae: 0.1308 - learning_rate: 1.0000e-05\n",
      "Epoch 50/50\n",
      "\u001b[1m3066/3066\u001b[0m \u001b[32m━━━━━━━━━━━━━━━━━━━━\u001b[0m\u001b[37m\u001b[0m \u001b[1m21s\u001b[0m 7ms/step - loss: 0.0268 - mae: 0.1245 - val_loss: 0.0321 - val_mae: 0.1308 - learning_rate: 1.0000e-05\n"
     ]
    }
   ],
   "source": [
    "# Train model\n",
    "history = model_wrapper.fit(train_data, val_data)"
   ]
  },
  {
   "cell_type": "code",
   "execution_count": 6,
   "metadata": {},
   "outputs": [
    {
     "data": {
      "image/png": "[encoded data removed]",
      "text/plain": [
       "<Figure size 1000x500 with 1 Axes>"
      ]
     },
     "metadata": {},
     "output_type": "display_data"
    }
   ],
   "source": [
    "# 7. Візуалізація результатів тренування\n",
    "import matplotlib.pyplot as plt\n",
    "\n",
    "plt.figure(figsize=(10, 5))\n",
    "plt.plot(history.history['loss'], label='Training Loss')\n",
    "plt.plot(history.history['val_loss'], label='Validation Loss')\n",
    "plt.xlabel('Epoch')\n",
    "plt.ylabel('Loss')\n",
    "plt.legend()\n",
    "plt.title('Training and Validation Loss')\n",
    "plt.show()"
   ]
  }
 ],
 "metadata": {
  "kernelspec": {
   "display_name": "venv",
   "language": "python",
   "name": "python3"
  },
  "language_info": {
   "codemirror_mode": {
    "name": "ipython",
    "version": 3
   },
   "file_extension": ".py",
   "mimetype": "text/x-python",
   "name": "python",
   "nbconvert_exporter": "python",
   "pygments_lexer": "ipython3",
   "version": "3.12.3"
  }
 },
 "nbformat": 4,
 "nbformat_minor": 4
}
